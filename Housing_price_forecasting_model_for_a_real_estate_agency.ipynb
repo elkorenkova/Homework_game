{
  "cells": [
    {
      "cell_type": "code",
      "execution_count": 1,
      "metadata": {
        "id": "2wwMlv6tjlRU"
      },
      "outputs": [
        {
          "name": "stderr",
          "output_type": "stream",
          "text": [
            "C:\\Users\\user\\AppData\\Local\\Temp\\ipykernel_13976\\2561169130.py:2: DeprecationWarning: \n",
            "Pyarrow will become a required dependency of pandas in the next major release of pandas (pandas 3.0),\n",
            "(to allow more performant data types, such as the Arrow string type, and better interoperability with other libraries)\n",
            "but was not found to be installed on your system.\n",
            "If this would cause problems for you,\n",
            "please provide us feedback at https://github.com/pandas-dev/pandas/issues/54466\n",
            "        \n",
            "  import pandas as pd\n"
          ]
        }
      ],
      "source": [
        "import numpy as np\n",
        "import pandas as pd\n",
        "import matplotlib.pyplot as plt\n",
        "import seaborn as sns\n",
        "import plotly.express as px\n",
        "from nyoka import skl_to_pmml\n",
        "\n",
        "from scipy import stats\n",
        "from sklearn import linear_model\n",
        "from sklearn import preprocessing\n",
        "from sklearn import model_selection\n",
        "from sklearn import tree\n",
        "from sklearn import ensemble\n",
        "from sklearn import metrics\n",
        "from sklearn import feature_selection\n",
        "import xgboost as xgb\n",
        "\n",
        "from itertools import combinations\n",
        "from scipy.stats import ttest_ind\n",
        "\n",
        "from sklearn.ensemble import RandomForestRegressor\n",
        "from sklearn import metrics # инструменты для оценки точности модели"
      ]
    },
    {
      "cell_type": "code",
      "execution_count": 2,
      "metadata": {
        "colab": {
          "base_uri": "https://localhost:8080/"
        },
        "id": "uwLqdVBpjqwO",
        "outputId": "eeaa7d6f-430d-47f3-f8ef-e63b9361e733"
      },
      "outputs": [],
      "source": [
        "#from google.colab import drive\n",
        "#drive.mount('/content/drive')\n",
        "df = pd.read_csv(\"/usr/project_a//dataREST.csv\")"
      ]
    },
    {
      "cell_type": "code",
      "execution_count": 3,
      "metadata": {
        "colab": {
          "base_uri": "https://localhost:8080/",
          "height": 187
        },
        "id": "uKSSGWAEjzIe",
        "outputId": "d61670e8-ec77-45c4-c6d1-511ed31e52a1"
      },
      "outputs": [
        {
          "data": {
            "text/html": [
              "<div>\n",
              "<style scoped>\n",
              "    .dataframe tbody tr th:only-of-type {\n",
              "        vertical-align: middle;\n",
              "    }\n",
              "\n",
              "    .dataframe tbody tr th {\n",
              "        vertical-align: top;\n",
              "    }\n",
              "\n",
              "    .dataframe thead th {\n",
              "        text-align: right;\n",
              "    }\n",
              "</style>\n",
              "<table border=\"1\" class=\"dataframe\">\n",
              "  <thead>\n",
              "    <tr style=\"text-align: right;\">\n",
              "      <th></th>\n",
              "      <th>status</th>\n",
              "      <th>private pool</th>\n",
              "      <th>propertyType</th>\n",
              "      <th>street</th>\n",
              "      <th>baths</th>\n",
              "      <th>homeFacts</th>\n",
              "      <th>fireplace</th>\n",
              "      <th>city</th>\n",
              "      <th>schools</th>\n",
              "      <th>sqft</th>\n",
              "      <th>zipcode</th>\n",
              "      <th>beds</th>\n",
              "      <th>state</th>\n",
              "      <th>stories</th>\n",
              "      <th>mls-id</th>\n",
              "      <th>PrivatePool</th>\n",
              "      <th>MlsId</th>\n",
              "      <th>target</th>\n",
              "    </tr>\n",
              "  </thead>\n",
              "  <tbody>\n",
              "    <tr>\n",
              "      <th>0</th>\n",
              "      <td>Active</td>\n",
              "      <td>NaN</td>\n",
              "      <td>Single Family Home</td>\n",
              "      <td>240 Heather Ln</td>\n",
              "      <td>3.5</td>\n",
              "      <td>{'atAGlanceFacts': [{'factValue': '2019', 'fac...</td>\n",
              "      <td>Gas Logs</td>\n",
              "      <td>Southern Pines</td>\n",
              "      <td>[{'rating': ['4', '4', '7', 'NR', '4', '7', 'N...</td>\n",
              "      <td>2900</td>\n",
              "      <td>28387</td>\n",
              "      <td>4</td>\n",
              "      <td>NC</td>\n",
              "      <td>NaN</td>\n",
              "      <td>NaN</td>\n",
              "      <td>NaN</td>\n",
              "      <td>611019</td>\n",
              "      <td>$418,000</td>\n",
              "    </tr>\n",
              "    <tr>\n",
              "      <th>1</th>\n",
              "      <td>for sale</td>\n",
              "      <td>NaN</td>\n",
              "      <td>single-family home</td>\n",
              "      <td>12911 E Heroy Ave</td>\n",
              "      <td>3 Baths</td>\n",
              "      <td>{'atAGlanceFacts': [{'factValue': '2019', 'fac...</td>\n",
              "      <td>NaN</td>\n",
              "      <td>Spokane Valley</td>\n",
              "      <td>[{'rating': ['4/10', 'None/10', '4/10'], 'data...</td>\n",
              "      <td>1,947 sqft</td>\n",
              "      <td>99216</td>\n",
              "      <td>3 Beds</td>\n",
              "      <td>WA</td>\n",
              "      <td>2.0</td>\n",
              "      <td>NaN</td>\n",
              "      <td>NaN</td>\n",
              "      <td>201916904</td>\n",
              "      <td>$310,000</td>\n",
              "    </tr>\n",
              "    <tr>\n",
              "      <th>2</th>\n",
              "      <td>for sale</td>\n",
              "      <td>NaN</td>\n",
              "      <td>single-family home</td>\n",
              "      <td>2005 Westridge Rd</td>\n",
              "      <td>2 Baths</td>\n",
              "      <td>{'atAGlanceFacts': [{'factValue': '1961', 'fac...</td>\n",
              "      <td>yes</td>\n",
              "      <td>Los Angeles</td>\n",
              "      <td>[{'rating': ['8/10', '4/10', '8/10'], 'data': ...</td>\n",
              "      <td>3,000 sqft</td>\n",
              "      <td>90049</td>\n",
              "      <td>3 Beds</td>\n",
              "      <td>CA</td>\n",
              "      <td>1.0</td>\n",
              "      <td>NaN</td>\n",
              "      <td>yes</td>\n",
              "      <td>FR19221027</td>\n",
              "      <td>$2,895,000</td>\n",
              "    </tr>\n",
              "  </tbody>\n",
              "</table>\n",
              "</div>"
            ],
            "text/plain": [
              "     status private pool        propertyType             street    baths  \\\n",
              "0    Active          NaN  Single Family Home     240 Heather Ln      3.5   \n",
              "1  for sale          NaN  single-family home  12911 E Heroy Ave  3 Baths   \n",
              "2  for sale          NaN  single-family home  2005 Westridge Rd  2 Baths   \n",
              "\n",
              "                                           homeFacts fireplace  \\\n",
              "0  {'atAGlanceFacts': [{'factValue': '2019', 'fac...  Gas Logs   \n",
              "1  {'atAGlanceFacts': [{'factValue': '2019', 'fac...       NaN   \n",
              "2  {'atAGlanceFacts': [{'factValue': '1961', 'fac...       yes   \n",
              "\n",
              "             city                                            schools  \\\n",
              "0  Southern Pines  [{'rating': ['4', '4', '7', 'NR', '4', '7', 'N...   \n",
              "1  Spokane Valley  [{'rating': ['4/10', 'None/10', '4/10'], 'data...   \n",
              "2     Los Angeles  [{'rating': ['8/10', '4/10', '8/10'], 'data': ...   \n",
              "\n",
              "         sqft zipcode    beds state stories mls-id PrivatePool       MlsId  \\\n",
              "0        2900   28387       4    NC     NaN    NaN         NaN      611019   \n",
              "1  1,947 sqft   99216  3 Beds    WA     2.0    NaN         NaN   201916904   \n",
              "2  3,000 sqft   90049  3 Beds    CA     1.0    NaN         yes  FR19221027   \n",
              "\n",
              "       target  \n",
              "0    $418,000  \n",
              "1    $310,000  \n",
              "2  $2,895,000  "
            ]
          },
          "execution_count": 3,
          "metadata": {},
          "output_type": "execute_result"
        }
      ],
      "source": [
        "df.head(3)"
      ]
    },
    {
      "cell_type": "code",
      "execution_count": 4,
      "metadata": {
        "colab": {
          "base_uri": "https://localhost:8080/",
          "height": 275
        },
        "id": "ExxaeiD0kRII",
        "outputId": "879c33ac-bce4-4e1d-d0e7-0193ed13bfa6"
      },
      "outputs": [
        {
          "data": {
            "text/html": [
              "<div>\n",
              "<style scoped>\n",
              "    .dataframe tbody tr th:only-of-type {\n",
              "        vertical-align: middle;\n",
              "    }\n",
              "\n",
              "    .dataframe tbody tr th {\n",
              "        vertical-align: top;\n",
              "    }\n",
              "\n",
              "    .dataframe thead th {\n",
              "        text-align: right;\n",
              "    }\n",
              "</style>\n",
              "<table border=\"1\" class=\"dataframe\">\n",
              "  <thead>\n",
              "    <tr style=\"text-align: right;\">\n",
              "      <th></th>\n",
              "      <th>status</th>\n",
              "      <th>private pool</th>\n",
              "      <th>propertyType</th>\n",
              "      <th>street</th>\n",
              "      <th>baths</th>\n",
              "      <th>homeFacts</th>\n",
              "      <th>fireplace</th>\n",
              "      <th>city</th>\n",
              "      <th>schools</th>\n",
              "      <th>sqft</th>\n",
              "      <th>zipcode</th>\n",
              "      <th>beds</th>\n",
              "      <th>state</th>\n",
              "      <th>stories</th>\n",
              "      <th>mls-id</th>\n",
              "      <th>PrivatePool</th>\n",
              "      <th>MlsId</th>\n",
              "      <th>target</th>\n",
              "    </tr>\n",
              "  </thead>\n",
              "  <tbody>\n",
              "    <tr>\n",
              "      <th>IsNull</th>\n",
              "      <td>39918</td>\n",
              "      <td>373004</td>\n",
              "      <td>34733</td>\n",
              "      <td>2</td>\n",
              "      <td>106338</td>\n",
              "      <td>0</td>\n",
              "      <td>274071</td>\n",
              "      <td>34</td>\n",
              "      <td>0</td>\n",
              "      <td>40577</td>\n",
              "      <td>0</td>\n",
              "      <td>91282</td>\n",
              "      <td>0</td>\n",
              "      <td>150716</td>\n",
              "      <td>352243</td>\n",
              "      <td>336874</td>\n",
              "      <td>66880</td>\n",
              "      <td>2481</td>\n",
              "    </tr>\n",
              "    <tr>\n",
              "      <th>IsNa</th>\n",
              "      <td>39918</td>\n",
              "      <td>373004</td>\n",
              "      <td>34733</td>\n",
              "      <td>2</td>\n",
              "      <td>106338</td>\n",
              "      <td>0</td>\n",
              "      <td>274071</td>\n",
              "      <td>34</td>\n",
              "      <td>0</td>\n",
              "      <td>40577</td>\n",
              "      <td>0</td>\n",
              "      <td>91282</td>\n",
              "      <td>0</td>\n",
              "      <td>150716</td>\n",
              "      <td>352243</td>\n",
              "      <td>336874</td>\n",
              "      <td>66880</td>\n",
              "      <td>2481</td>\n",
              "    </tr>\n",
              "    <tr>\n",
              "      <th>Duplicate</th>\n",
              "      <td>50</td>\n",
              "      <td>50</td>\n",
              "      <td>50</td>\n",
              "      <td>50</td>\n",
              "      <td>50</td>\n",
              "      <td>50</td>\n",
              "      <td>50</td>\n",
              "      <td>50</td>\n",
              "      <td>50</td>\n",
              "      <td>50</td>\n",
              "      <td>50</td>\n",
              "      <td>50</td>\n",
              "      <td>50</td>\n",
              "      <td>50</td>\n",
              "      <td>50</td>\n",
              "      <td>50</td>\n",
              "      <td>50</td>\n",
              "      <td>50</td>\n",
              "    </tr>\n",
              "    <tr>\n",
              "      <th>Unique</th>\n",
              "      <td>159</td>\n",
              "      <td>1</td>\n",
              "      <td>1280</td>\n",
              "      <td>337076</td>\n",
              "      <td>229</td>\n",
              "      <td>321009</td>\n",
              "      <td>1652</td>\n",
              "      <td>2026</td>\n",
              "      <td>297365</td>\n",
              "      <td>25405</td>\n",
              "      <td>4549</td>\n",
              "      <td>1184</td>\n",
              "      <td>39</td>\n",
              "      <td>347</td>\n",
              "      <td>24907</td>\n",
              "      <td>2</td>\n",
              "      <td>232944</td>\n",
              "      <td>43939</td>\n",
              "    </tr>\n",
              "    <tr>\n",
              "      <th>type</th>\n",
              "      <td>object</td>\n",
              "      <td>object</td>\n",
              "      <td>object</td>\n",
              "      <td>object</td>\n",
              "      <td>object</td>\n",
              "      <td>object</td>\n",
              "      <td>object</td>\n",
              "      <td>object</td>\n",
              "      <td>object</td>\n",
              "      <td>object</td>\n",
              "      <td>object</td>\n",
              "      <td>object</td>\n",
              "      <td>object</td>\n",
              "      <td>object</td>\n",
              "      <td>object</td>\n",
              "      <td>object</td>\n",
              "      <td>object</td>\n",
              "      <td>object</td>\n",
              "    </tr>\n",
              "    <tr>\n",
              "      <th>count</th>\n",
              "      <td>337267</td>\n",
              "      <td>4181</td>\n",
              "      <td>342452</td>\n",
              "      <td>377183</td>\n",
              "      <td>270847</td>\n",
              "      <td>377185</td>\n",
              "      <td>103114</td>\n",
              "      <td>377151</td>\n",
              "      <td>377185</td>\n",
              "      <td>336608</td>\n",
              "      <td>377185</td>\n",
              "      <td>285903</td>\n",
              "      <td>377185</td>\n",
              "      <td>226469</td>\n",
              "      <td>24942</td>\n",
              "      <td>40311</td>\n",
              "      <td>310305</td>\n",
              "      <td>374704</td>\n",
              "    </tr>\n",
              "  </tbody>\n",
              "</table>\n",
              "</div>"
            ],
            "text/plain": [
              "           status private pool propertyType  street   baths homeFacts  \\\n",
              "IsNull      39918       373004        34733       2  106338         0   \n",
              "IsNa        39918       373004        34733       2  106338         0   \n",
              "Duplicate      50           50           50      50      50        50   \n",
              "Unique        159            1         1280  337076     229    321009   \n",
              "type       object       object       object  object  object    object   \n",
              "count      337267         4181       342452  377183  270847    377185   \n",
              "\n",
              "          fireplace    city schools    sqft zipcode    beds   state stories  \\\n",
              "IsNull       274071      34       0   40577       0   91282       0  150716   \n",
              "IsNa         274071      34       0   40577       0   91282       0  150716   \n",
              "Duplicate        50      50      50      50      50      50      50      50   \n",
              "Unique         1652    2026  297365   25405    4549    1184      39     347   \n",
              "type         object  object  object  object  object  object  object  object   \n",
              "count        103114  377151  377185  336608  377185  285903  377185  226469   \n",
              "\n",
              "           mls-id PrivatePool   MlsId  target  \n",
              "IsNull     352243      336874   66880    2481  \n",
              "IsNa       352243      336874   66880    2481  \n",
              "Duplicate      50          50      50      50  \n",
              "Unique      24907           2  232944   43939  \n",
              "type       object      object  object  object  \n",
              "count       24942       40311  310305  374704  "
            ]
          },
          "execution_count": 4,
          "metadata": {},
          "output_type": "execute_result"
        }
      ],
      "source": [
        "#Проверим значение на пропуски и типы\n",
        "info = pd.DataFrame(df.isnull().sum(),columns=[\"IsNull\"])\n",
        "info.insert(1,\"IsNa\",df.isna().sum(),True)\n",
        "info.insert(2,\"Duplicate\",df.duplicated().sum(),True)\n",
        "info.insert(3,\"Unique\",df.nunique(),True)\n",
        "info.insert(4,\"count\",df.count(),True)\n",
        "info.insert(4,\"type\",df.dtypes,True)\n",
        "info.T"
      ]
    },
    {
      "cell_type": "markdown",
      "metadata": {
        "id": "LEaHN4Y0lRv7"
      },
      "source": [
        "# Обработка признаков"
      ]
    },
    {
      "cell_type": "code",
      "execution_count": 5,
      "metadata": {
        "id": "3unjaYuQmkbM"
      },
      "outputs": [],
      "source": [
        "# Сразу удалим лишние признаки\n",
        "df.drop('private pool', axis= 1 , inplace= True ) # почти все значения отсуствуют\n",
        "df.drop('mls-id', axis= 1 , inplace= True )# почти все значения отсуствуют\n",
        "df.drop('PrivatePool', axis= 1 , inplace= True )# почти все значения отсуствуют\n",
        "df.drop('street', axis= 1 , inplace= True ) # дублируют значения в zipcode\n",
        "df.drop('MlsId', axis= 1 , inplace= True ) #не информативны\n",
        "df.drop('city', axis= 1 , inplace= True )# дублируют значения в zipcode\n",
        "df.drop('state', axis= 1 , inplace= True )# дублируют значения в zipcode"
      ]
    },
    {
      "cell_type": "markdown",
      "metadata": {
        "id": "zabeODkblk4U"
      },
      "source": [
        "target"
      ]
    },
    {
      "cell_type": "code",
      "execution_count": 6,
      "metadata": {
        "colab": {
          "base_uri": "https://localhost:8080/"
        },
        "id": "P0CYrIJskasp",
        "outputId": "1604d278-b894-4cb7-eb12-aa0d3ac2b8ce"
      },
      "outputs": [],
      "source": [
        "df[\"target\"] = df[\"target\"].str.replace(r\"[^\\d\\.]\", \"\", regex=True)\n",
        "df['target']  = pd.to_numeric(df['target'] , errors='coerce')\n"
      ]
    },
    {
      "cell_type": "code",
      "execution_count": 7,
      "metadata": {
        "colab": {
          "base_uri": "https://localhost:8080/",
          "height": 449
        },
        "id": "U7mp3SI3lgNw",
        "outputId": "b2a136fa-e3fb-408c-b8a8-a4ee7c110c18"
      },
      "outputs": [
        {
          "data": {
            "image/png": "[encoded data removed]",
            "text/plain": [
              "<Figure size 640x480 with 1 Axes>"
            ]
          },
          "metadata": {},
          "output_type": "display_data"
        }
      ],
      "source": [
        "import seaborn as sns\n",
        "sns.boxplot(x='target', data=df);"
      ]
    },
    {
      "cell_type": "code",
      "execution_count": 8,
      "metadata": {
        "id": "u4s1JwxBmPGc"
      },
      "outputs": [],
      "source": [
        "# сократим выбросы\n",
        "df=df[df.target < 800000]"
      ]
    },
    {
      "cell_type": "code",
      "execution_count": 9,
      "metadata": {
        "id": "M8070NzOm7nJ"
      },
      "outputs": [],
      "source": [
        "# удалим дублекаты\n",
        "df=df.drop_duplicates ()"
      ]
    },
    {
      "cell_type": "markdown",
      "metadata": {
        "id": "xiqmznMlo_Lb"
      },
      "source": []
    },
    {
      "cell_type": "markdown",
      "metadata": {},
      "source": [
        "Status"
      ]
    },
    {
      "cell_type": "code",
      "execution_count": 10,
      "metadata": {},
      "outputs": [],
      "source": [
        "df['status']= df['status'].str.lower()"
      ]
    },
    {
      "cell_type": "code",
      "execution_count": 11,
      "metadata": {
        "colab": {
          "base_uri": "https://localhost:8080/"
        },
        "id": "-rhAfHIjptmI",
        "outputId": "558f1596-9401-4ece-8c7b-122fc164bd7a"
      },
      "outputs": [],
      "source": [
        "df['Status']= df['status'].str.replace('a for sale', 'for sale')\n",
        "df['Status']=df['Status'].str.replace('for sale under contract', 'under contract')\n",
        "df['Status']=df['Status'].str.replace('under contract show', 'under contract')\n",
        "df['Status']=df['Status'].str.replace('under contract - show', 'under contract')\n",
        "df['Status']=df['Status'].str.replace('under contract   showing', 'under contract')\n",
        "df['Status']=df['Status'].str.replace('apartment for rent', 'for rent')\n",
        "df['Status']= df['Status'].str.replace('nan', '')\n",
        "df['Status'] = df['Status'].str.replace('coming soon:', 'for sale')\n",
        "df['Status']= df['Status'].str.replace('temporary for sale', 'for sale')\n",
        "df['Status']= df['Status'].str.replace('pending continue to show', 'pending')\n",
        "df['Status']= df['Status'].str.replace('option pending', 'pending')\n",
        "df['Status']= df['Status'].str.replace(' / auction', 'auction')\n",
        "df['Status']= df['Status'].str.replace('active under contract', 'under contract')\n",
        "df['Status']= df['Status'].str.replace('p pending sale', 'pending')\n",
        "df['Status']= df['Status'].str.replace('contingent fice and inspection', 'contingent')\n",
        "df['Status']= df['Status'].str.replace('contingent show', 'contingent')\n",
        "df['Status']= df['Status'].str.replace('a active', 'active')\n",
        "df['Status']= df['Status'].str.replace('for sale nov', 'for sale')\n",
        "df['Status']= df['Status'].str.replace('new', 'for sale')\n",
        "df['Status']= df['Status'].str.replace('under contract backups', 'under contract')\n",
        "df['Status']= df['Status'].str.replace('pre-foreclosureauction', 'pre-foreclosure')\n",
        "df['Status']= df['Status'].str.replace('back on market', 'for sale')\n",
        "df['Status']= df['Status'].str.replace('contingent   show', 'contingent')\n",
        "df['Status']= df['Status'].str.replace('active/contingent', 'contingent')\n",
        "df['Status']= df['Status'].str.replace('contingent escape', 'contingent')\n",
        "df['Status']= df['Status'].str.replace('contingent finance and inspection', 'contingent')\n",
        "df['Status']= df['Status'].str.replace('pending in', 'pi')\n",
        "df['Status']= df['Status'].str.replace('contract p', 'p')\n",
        "df['Status']= df['Status'].str.replace('auction - active', 'auction')\n",
        "df['Status']= df['Status'].str.replace('pending - taking backups', 'pending taking backups')\n",
        "df['Status']= df['Status'].str.replace('pending inspectionspection', 'pending inspection')\n",
        "df['Status']= df['Status'].str.replace('c continue show', 'c')\n",
        "df['Status']= df['Status'].replace('', np.nan).bfill()"
      ]
    },
    {
      "cell_type": "code",
      "execution_count": 12,
      "metadata": {
        "id": "qG2anV6YA42h"
      },
      "outputs": [],
      "source": [
        "df=df.drop_duplicates ()"
      ]
    },
    {
      "cell_type": "code",
      "execution_count": 13,
      "metadata": {
        "id": "HQol3nWNvyAI"
      },
      "outputs": [],
      "source": [
        "df.drop('status', axis= 1 , inplace= True )"
      ]
    },
    {
      "cell_type": "code",
      "execution_count": 14,
      "metadata": {
        "id": "GcJ81Fdor8hQ"
      },
      "outputs": [],
      "source": [
        "#Сгруппируем статусы\n",
        "type_list = []\n",
        "for type in df['Status']:\n",
        "    if type not in ['for sale' ,'active','foreclosure ','pending ','for sale construction','pre-foreclosure','under contract','auction','p','contingent','foreclosed' ,\n",
        "                    'pending taking backups', 'c','option contract','pending with contingencies','active with offer','pi','active backup']:\n",
        "      type = 'other'\n",
        "    type_list.append(type)\n",
        "df['Status'] = type_list\n",
        "#df['Status'].fillna(df['Status'].mode()[0], inplace=True)"
      ]
    },
    {
      "cell_type": "code",
      "execution_count": 15,
      "metadata": {
        "colab": {
          "base_uri": "https://localhost:8080/"
        },
        "id": "p2rEjCH0lzA1",
        "outputId": "538d21d3-e95b-4626-b8cd-be31ef7c5919"
      },
      "outputs": [
        {
          "data": {
            "text/plain": [
              "Status\n",
              "for sale                      185639\n",
              "active                         97597\n",
              "other                          13185\n",
              "for sale construction           4786\n",
              "pre-foreclosure                 3548\n",
              "under contract                  3469\n",
              "auction                         1328\n",
              "p                               1297\n",
              "contingent                      1073\n",
              "foreclosed                       331\n",
              "pending taking backups            79\n",
              "option contract                   61\n",
              "c                                 54\n",
              "pending with contingencies        54\n",
              "active with offer                 50\n",
              "pi                                49\n",
              "active backup                     41\n",
              "Name: count, dtype: int64"
            ]
          },
          "execution_count": 15,
          "metadata": {},
          "output_type": "execute_result"
        }
      ],
      "source": [
        "t=df['Status'].value_counts()\n",
        "t.head(26)"
      ]
    },
    {
      "cell_type": "code",
      "execution_count": 16,
      "metadata": {
        "colab": {
          "base_uri": "https://localhost:8080/",
          "height": 472
        },
        "id": "sOIfPzQwqN-O",
        "outputId": "770b0807-4b16-4d05-be27-12921bc9cf38"
      },
      "outputs": [
        {
          "data": {
            "image/png": "[encoded data removed]",
            "text/plain": [
              "<Figure size 640x480 with 1 Axes>"
            ]
          },
          "metadata": {},
          "output_type": "display_data"
        }
      ],
      "source": [
        "# Проверим распределение статусов и их значимость\n",
        "ax = sns.boxplot(df, x='target', y='Status', orient='h', medianprops={\"color\": \"red\", \"linestyle\": '--'})\n",
        "ax.set(xlabel='t', ylabel='Status')\n",
        "plt.title('...' )\n",
        "plt.show()"
      ]
    },
    {
      "cell_type": "markdown",
      "metadata": {},
      "source": [
        "Группы получаются не достаточно равномерно, однако видны наиболее значимые группы для отбора"
      ]
    },
    {
      "cell_type": "markdown",
      "metadata": {
        "id": "KAcj4nHMuyQP"
      },
      "source": [
        "propertyType"
      ]
    },
    {
      "cell_type": "code",
      "execution_count": 17,
      "metadata": {
        "id": "4TaJiN1buzA2"
      },
      "outputs": [],
      "source": [
        "df['propertyType'] = df['propertyType'].str.lower()\n",
        "df['propertyType'] = df['propertyType'].str.replace('-', ' ')\n",
        "df['propertyType'] = df['propertyType'].str.replace('single family home', 'single family')\n",
        "df['propertyType'] = df['propertyType'].str.replace('mfd/Mmobile home', 'mobile Home')\n",
        "df['propertyType'] = df['propertyType'].str.replace('mobile/manufactured', 'mobile Home')\n",
        "df['propertyType'] = df['propertyType'].str.replace('mobile / manufactured', 'mobile Home')\n",
        "df['propertyType'] = df['propertyType'].str.replace('condo/townhome/row home/co-op', 'condo')\n",
        "df['propertyType'] = df['propertyType'].str.replace('condo', 'condo')\n",
        "df['propertyType'] = df['propertyType'].str.replace('townhouse', 'townhouse')\n",
        "df['propertyType'] = df['propertyType'].str.replace('multi family home', 'multi family')\n",
        "df['propertyType'] = df['propertyType'].str.replace('contemporary/modern', 'contemporary')\n",
        "df['propertyType'] = df['propertyType'].str.replace('lot/land', 'land')\n",
        "df['propertyType'] = df['propertyType'].str.replace('one story', '1 story')\n",
        "df['propertyType'] = df['propertyType'].str.replace('two story', '2 story')\n",
        "df['propertyType'] = df['propertyType'].str.replace('detached, ', '')\n",
        "df['propertyType'] = df['propertyType'].str.replace('2 stories', '2 story')\n",
        "df['propertyType'] = df['propertyType'].str.replace('ranch', 'farms/ranches')\n",
        "df['propertyType'] = df['propertyType'].str.replace(', traditional', '')\n",
        "df['propertyType'] = df['propertyType'].str.replace('coop', 'cooperative')\n",
        "df['propertyType'] = df['propertyType'].str.replace('farms/farms/farms/farms/rancheseseses\t', 'farms/ranches')\n",
        "df['propertyType'] = df['propertyType'].str.replace('farms/farms/farms/rancheseses', 'farms/ranches')\n",
        "df['propertyType'] = df['propertyType'].str.replace('farms/farms/rancheses', 'farms/ranches')\n",
        "df['propertyType'] = df['propertyType'].str.replace('apartment', 'apartment')\n",
        "df['propertyType'] = df['propertyType'].str.replace('singlefamilyresidence', 'single family')\n",
        "df['propertyType'] = df['propertyType'].str.replace('single detached', 'single family')\n",
        "df['propertyType'] = df['propertyType'].str.replace('single traditional', 'single family')\n",
        "df['propertyType'] = df['propertyType'].str.replace('single contemporary', 'single family')\n",
        "df['propertyType'] = df['propertyType'].str.replace('condo/townhome, contemporary\t', 'condo')\n",
        "df['propertyType'] = df['propertyType'].str.replace('condo/townhome', 'condo')\n",
        "df['propertyType'] = df['propertyType'].str.replace(', contemporary', '')\n",
        "df['propertyType'] = df['propertyType'].str.replace('condo/townhome', 'condo')\n",
        "df['propertyType'] = df['propertyType'].str.replace(', traditional', '')\n",
        "df['propertyType'] = df['propertyType'].str.replace(', modern', '')\n",
        "df['propertyType'] = df['propertyType'].str.replace('/unit', '')\n",
        "df['propertyType'] = df['propertyType'].str.replace('land', 'farms/ranches')\n",
        "df['propertyType'] = df['propertyType'].str.replace('1 story, spanish/mediterranean', '1 story')\n",
        "df['propertyType'] = df['propertyType'].str.replace('1 story with basement', '1 Story')\n",
        "df['propertyType'] = df['propertyType'].replace('', np.nan).bfill()"
      ]
    },
    {
      "cell_type": "code",
      "execution_count": 18,
      "metadata": {
        "colab": {
          "base_uri": "https://localhost:8080/"
        },
        "id": "LfKjRm9PvPRh",
        "outputId": "ad885323-0e29-4382-f5ba-eb15aaf3d1f1"
      },
      "outputs": [
        {
          "data": {
            "text/plain": [
              "propertyType\n",
              "single family           175458\n",
              "condo                    37046\n",
              "farms/ranches            33356\n",
              "townhouse                17750\n",
              "multi family              8233\n",
              "condo/row home/co op      7265\n",
              "traditional               5695\n",
              "1 story                   3665\n",
              "mobile Home               2897\n",
              "cooperative               2776\n",
              "contemporary              2517\n",
              "2 story                   2169\n",
              "high rise                 1447\n",
              "colonial                  1088\n",
              "mfd/mobile home            882\n",
              "Name: count, dtype: int64"
            ]
          },
          "execution_count": 18,
          "metadata": {},
          "output_type": "execute_result"
        }
      ],
      "source": [
        "a=df['propertyType'].value_counts()\n",
        "a.head(15)"
      ]
    },
    {
      "cell_type": "code",
      "execution_count": 19,
      "metadata": {
        "id": "5Djc1m2rqUlN"
      },
      "outputs": [],
      "source": [
        "# Сгруппируем типы недвижимости\n",
        "type_list = []\n",
        "for type in df['propertyType']:\n",
        "    if type not in ['single family', 'condo','townhouse','multi family','condo/row home/co op' ,'traditional' ,'1 story' ,'cooperative' ,'contemporary' ,'mobile Home ',\n",
        "'high rise','2 story','colonial','apartment','transitional','florida']:\n",
        "      type = 'other'\n",
        "    type_list.append(type)\n",
        "df['propertyType'] = type_list\n",
        "#df['propertyType'].fillna(df['propertyType'].mode()[0], inplace=True)"
      ]
    },
    {
      "cell_type": "code",
      "execution_count": 20,
      "metadata": {
        "id": "7ivQqJfDsYKf"
      },
      "outputs": [],
      "source": [
        "df=df.drop_duplicates ()"
      ]
    },
    {
      "cell_type": "code",
      "execution_count": 21,
      "metadata": {
        "colab": {
          "base_uri": "https://localhost:8080/",
          "height": 472
        },
        "id": "0HyJsL34rOox",
        "outputId": "90fa08ac-379e-431e-f912-15871137b9e3"
      },
      "outputs": [
        {
          "data": {
            "image/png": "[encoded data removed]",
            "text/plain": [
              "<Figure size 640x480 with 1 Axes>"
            ]
          },
          "metadata": {},
          "output_type": "display_data"
        }
      ],
      "source": [
        "ax = sns.boxplot(df, x='target', y='propertyType', orient='h', medianprops={\"color\": \"red\", \"linestyle\": '--'})\n",
        "ax.set(xlabel='t', ylabel='propertyType')\n",
        "plt.title('...' )\n",
        "plt.show()"
      ]
    },
    {
      "cell_type": "markdown",
      "metadata": {},
      "source": [
        "группы получились достаточно равномерные для отбора"
      ]
    },
    {
      "cell_type": "code",
      "execution_count": 22,
      "metadata": {
        "colab": {
          "base_uri": "https://localhost:8080/",
          "height": 257
        },
        "id": "XnQHHoBNl4p5",
        "outputId": "1457bd59-3184-4264-c3c6-d4e3173218d4"
      },
      "outputs": [
        {
          "data": {
            "text/html": [
              "<div>\n",
              "<style scoped>\n",
              "    .dataframe tbody tr th:only-of-type {\n",
              "        vertical-align: middle;\n",
              "    }\n",
              "\n",
              "    .dataframe tbody tr th {\n",
              "        vertical-align: top;\n",
              "    }\n",
              "\n",
              "    .dataframe thead th {\n",
              "        text-align: right;\n",
              "    }\n",
              "</style>\n",
              "<table border=\"1\" class=\"dataframe\">\n",
              "  <thead>\n",
              "    <tr style=\"text-align: right;\">\n",
              "      <th></th>\n",
              "      <th>propertyType</th>\n",
              "      <th>baths</th>\n",
              "      <th>homeFacts</th>\n",
              "      <th>fireplace</th>\n",
              "      <th>schools</th>\n",
              "      <th>sqft</th>\n",
              "      <th>zipcode</th>\n",
              "      <th>beds</th>\n",
              "      <th>stories</th>\n",
              "      <th>target</th>\n",
              "      <th>Status</th>\n",
              "    </tr>\n",
              "  </thead>\n",
              "  <tbody>\n",
              "    <tr>\n",
              "      <th>IsNull</th>\n",
              "      <td>0</td>\n",
              "      <td>89256</td>\n",
              "      <td>0</td>\n",
              "      <td>231897</td>\n",
              "      <td>0</td>\n",
              "      <td>31800</td>\n",
              "      <td>0</td>\n",
              "      <td>76083</td>\n",
              "      <td>121204</td>\n",
              "      <td>0</td>\n",
              "      <td>0</td>\n",
              "    </tr>\n",
              "    <tr>\n",
              "      <th>IsNa</th>\n",
              "      <td>0</td>\n",
              "      <td>89256</td>\n",
              "      <td>0</td>\n",
              "      <td>231897</td>\n",
              "      <td>0</td>\n",
              "      <td>31800</td>\n",
              "      <td>0</td>\n",
              "      <td>76083</td>\n",
              "      <td>121204</td>\n",
              "      <td>0</td>\n",
              "      <td>0</td>\n",
              "    </tr>\n",
              "    <tr>\n",
              "      <th>Duplicate</th>\n",
              "      <td>0</td>\n",
              "      <td>0</td>\n",
              "      <td>0</td>\n",
              "      <td>0</td>\n",
              "      <td>0</td>\n",
              "      <td>0</td>\n",
              "      <td>0</td>\n",
              "      <td>0</td>\n",
              "      <td>0</td>\n",
              "      <td>0</td>\n",
              "      <td>0</td>\n",
              "    </tr>\n",
              "    <tr>\n",
              "      <th>Unique</th>\n",
              "      <td>16</td>\n",
              "      <td>149</td>\n",
              "      <td>266154</td>\n",
              "      <td>1262</td>\n",
              "      <td>251684</td>\n",
              "      <td>18178</td>\n",
              "      <td>4406</td>\n",
              "      <td>970</td>\n",
              "      <td>298</td>\n",
              "      <td>28439</td>\n",
              "      <td>17</td>\n",
              "    </tr>\n",
              "    <tr>\n",
              "      <th>type</th>\n",
              "      <td>object</td>\n",
              "      <td>object</td>\n",
              "      <td>object</td>\n",
              "      <td>object</td>\n",
              "      <td>object</td>\n",
              "      <td>object</td>\n",
              "      <td>object</td>\n",
              "      <td>object</td>\n",
              "      <td>object</td>\n",
              "      <td>float64</td>\n",
              "      <td>object</td>\n",
              "    </tr>\n",
              "    <tr>\n",
              "      <th>count</th>\n",
              "      <td>312631</td>\n",
              "      <td>223375</td>\n",
              "      <td>312631</td>\n",
              "      <td>80734</td>\n",
              "      <td>312631</td>\n",
              "      <td>280831</td>\n",
              "      <td>312631</td>\n",
              "      <td>236548</td>\n",
              "      <td>191427</td>\n",
              "      <td>312631</td>\n",
              "      <td>312631</td>\n",
              "    </tr>\n",
              "  </tbody>\n",
              "</table>\n",
              "</div>"
            ],
            "text/plain": [
              "          propertyType   baths homeFacts fireplace schools    sqft zipcode  \\\n",
              "IsNull               0   89256         0    231897       0   31800       0   \n",
              "IsNa                 0   89256         0    231897       0   31800       0   \n",
              "Duplicate            0       0         0         0       0       0       0   \n",
              "Unique              16     149    266154      1262  251684   18178    4406   \n",
              "type            object  object    object    object  object  object  object   \n",
              "count           312631  223375    312631     80734  312631  280831  312631   \n",
              "\n",
              "             beds stories   target  Status  \n",
              "IsNull      76083  121204        0       0  \n",
              "IsNa        76083  121204        0       0  \n",
              "Duplicate       0       0        0       0  \n",
              "Unique        970     298    28439      17  \n",
              "type       object  object  float64  object  \n",
              "count      236548  191427   312631  312631  "
            ]
          },
          "execution_count": 22,
          "metadata": {},
          "output_type": "execute_result"
        }
      ],
      "source": [
        "info = pd.DataFrame(df.isnull().sum(),columns=[\"IsNull\"])\n",
        "info.insert(1,\"IsNa\",df.isna().sum(),True)\n",
        "info.insert(2,\"Duplicate\",df.duplicated().sum(),True)\n",
        "info.insert(3,\"Unique\",df.nunique(),True)\n",
        "info.insert(4,\"count\",df.count(),True)\n",
        "info.insert(4,\"type\",df.dtypes,True)\n",
        "info.T"
      ]
    },
    {
      "cell_type": "markdown",
      "metadata": {},
      "source": [
        "homeFacts"
      ]
    },
    {
      "cell_type": "code",
      "execution_count": 23,
      "metadata": {
        "id": "3AnUB8lhuAEH"
      },
      "outputs": [],
      "source": [
        "df['homeFacts'] = df['homeFacts'].astype(str)\n",
        "df['homeFacts1'] = df['homeFacts'].apply(lambda x: x.replace('atAGlanceFacts', ''))\n",
        "df['homeFacts1'] = df['homeFacts1'].apply(lambda x: x.replace('factValue', ''))\n",
        "df['homeFacts1'] = df['homeFacts1'].apply(lambda x: x.replace('factLabel', ''))\n",
        "df['homeFacts1'] = df['homeFacts1'].apply(lambda x: x.replace('Year built', ''))\n",
        "df['homeFacts1'] = df['homeFacts1'].apply(lambda x: x.replace('Remodeled year', ''))\n",
        "df['homeFacts1'] = df['homeFacts1'].apply(lambda x: x.replace('Cooling', ''))\n",
        "df['homeFacts1'] = df['homeFacts1'].apply(lambda x: x.replace('Heating', ''))\n",
        "df['homeFacts1'] = df['homeFacts1'].apply(lambda x: x.replace('lotsize', ''))\n",
        "df['homeFacts1'] = df['homeFacts1'].apply(lambda x: x.replace('Price/sqft', ''))\n",
        "df['homeFacts1'] = df['homeFacts1'].apply(lambda x: x.replace(':', ''))\n",
        "df['homeFacts1'] = df['homeFacts1'].apply(lambda x: x.replace(',', ''))\n",
        "df['homeFacts1'] = df['homeFacts1'].apply(lambda x: x.replace('{', ''))\n",
        "df['homeFacts1'] = df['homeFacts1'].apply(lambda x: x.replace('}', ''))\n",
        "df['homeFacts1'] = df['homeFacts1'].apply(lambda x: x.replace(' sqft', ''))\n",
        "df['homeFacts1'] = df['homeFacts1'].apply(lambda x: x.replace('/sqft', ''))\n",
        "df['homeFacts1'] = df['homeFacts1'].apply(lambda x: x[:-9])\n",
        "df['homeFacts1'] = df['homeFacts1'].apply(lambda x: x[8:])\n",
        "df['Year built']= df['homeFacts1'].str.rstrip().str.split( ).str[0]\n",
        "df['Remodeled_year']= df['homeFacts1'].str.rstrip().str.split( ).str[4]\n",
        "df['Heating']= df['homeFacts1'].str.rstrip().str.split( ).str[8]\n",
        "#df['Cooling']= (df['homeFacts1'].str.rstrip().str.split( ).str[-13]+df['homeFacts1'].str.rstrip().str.split( ).str[-14])\n",
        "df['lotsize']= (df['homeFacts1'].str.rstrip().str.split( ).str[-5]+df['homeFacts1'].str.rstrip().str.split( ).str[-4])\n",
        "df['Price/sqft']= df['homeFacts1'].str.rstrip().str.split( ).str[-1]"
      ]
    },
    {
      "cell_type": "code",
      "execution_count": 24,
      "metadata": {
        "id": "IsRAyYJ70eHh"
      },
      "outputs": [],
      "source": [
        "df.drop('homeFacts', axis= 1 , inplace= True )"
      ]
    },
    {
      "cell_type": "code",
      "execution_count": 25,
      "metadata": {
        "id": "xbCl_gDK2hgt"
      },
      "outputs": [],
      "source": [
        "df.drop('homeFacts1', axis= 1 , inplace= True )"
      ]
    },
    {
      "cell_type": "code",
      "execution_count": 26,
      "metadata": {
        "id": "RxImVfIsBFQ7"
      },
      "outputs": [],
      "source": [
        "df=df.drop_duplicates ()"
      ]
    },
    {
      "cell_type": "markdown",
      "metadata": {},
      "source": [
        "Year built"
      ]
    },
    {
      "cell_type": "code",
      "execution_count": 27,
      "metadata": {
        "colab": {
          "base_uri": "https://localhost:8080/"
        },
        "id": "qNUlFKrNuE9-",
        "outputId": "b3ed456d-d104-45ee-de14-47d94c699a4c"
      },
      "outputs": [
        {
          "data": {
            "text/plain": [
              "0         2019\n",
              "1         2019\n",
              "4         1920\n",
              "5         1920\n",
              "6         2006\n",
              "          ... \n",
              "377179    2010\n",
              "377181    1924\n",
              "377182    1950\n",
              "377183    2019\n",
              "377184    2019\n",
              "Name: Year built, Length: 312302, dtype: int32"
            ]
          },
          "execution_count": 27,
          "metadata": {},
          "output_type": "execute_result"
        }
      ],
      "source": [
        "df['Year built'] = df['Year built'].str.replace(r\"[^\\d\\.]\", \"\", regex=True)\n",
        "df['Year built']=pd.to_numeric(df['Year built'], errors='coerce')\n",
        "df['Year built'] = df['Year built'].replace('', np.nan).bfill()\n",
        "#df['Year built'] = df['Year built'].fillna(df['Year built'].median())\n",
        "df['Year built'].astype(int)"
      ]
    },
    {
      "cell_type": "code",
      "execution_count": 28,
      "metadata": {
        "id": "95NcBrpguTpr"
      },
      "outputs": [],
      "source": [
        "# Remodeled_year\n",
        "df['Remodeled_year']=df['Remodeled_year'].str.replace(r\"[^\\d\\.]\", \"\", regex=True)\n",
        "df['Remodeled_year']=df['Remodeled_year'].replace('', np.nan).bfill()\n",
        "df['Remodeled_year'] = pd.to_numeric(df['Remodeled_year'], errors='coerce')\n",
        "#df['Remodeled_year'].df['Remodeled_year'].fillna(df['Remodeled_year'].mode())\n",
        "#df['Remodeled_year'].astype(int).round(0)"
      ]
    },
    {
      "cell_type": "code",
      "execution_count": 29,
      "metadata": {
        "id": "8b95Pb0w8k07"
      },
      "outputs": [
        {
          "name": "stderr",
          "output_type": "stream",
          "text": [
            "C:\\Users\\user\\AppData\\Local\\Temp\\ipykernel_13976\\4031993499.py:1: FutureWarning: A value is trying to be set on a copy of a DataFrame or Series through chained assignment using an inplace method.\n",
            "The behavior will change in pandas 3.0. This inplace method will never work because the intermediate object on which we are setting values always behaves as a copy.\n",
            "\n",
            "For example, when doing 'df[col].method(value, inplace=True)', try using 'df.method({col: value}, inplace=True)' or df[col] = df[col].method(value) instead, to perform the operation inplace on the original object.\n",
            "\n",
            "\n",
            "  df['Remodeled_year'].fillna(df['Remodeled_year'].mode()[0], inplace=True)\n"
          ]
        }
      ],
      "source": [
        "df['Remodeled_year'].fillna(df['Remodeled_year'].mode()[0], inplace=True)"
      ]
    },
    {
      "cell_type": "markdown",
      "metadata": {},
      "source": [
        "Price/sqft"
      ]
    },
    {
      "cell_type": "code",
      "execution_count": 30,
      "metadata": {
        "colab": {
          "base_uri": "https://localhost:8080/"
        },
        "id": "6phJW1Clu_p6",
        "outputId": "93368389-7746-4cb0-e34a-32c7044eb28f"
      },
      "outputs": [],
      "source": [
        "# Price/sqft\n",
        "df['Price/sqft']=df['Price/sqft'].str.replace(r\"[^\\d\\.]\", \"\", regex=True)\n",
        "df['Price/sqft']=df['Price/sqft'].replace('', np.nan).bfill()\n",
        "df['Price/sqft'] = pd.to_numeric(df['Price/sqft'], errors='coerce')"
      ]
    },
    {
      "cell_type": "code",
      "execution_count": 31,
      "metadata": {},
      "outputs": [
        {
          "data": {
            "text/plain": [
              "Price/sqft\n",
              "12       20247\n",
              "13       19479\n",
              "11       19199\n",
              "14       18184\n",
              "10       16963\n",
              "         ...  \n",
              "136          1\n",
              "34500        1\n",
              "10700        1\n",
              "15900        1\n",
              "1871         1\n",
              "Name: count, Length: 249, dtype: int64"
            ]
          },
          "execution_count": 31,
          "metadata": {},
          "output_type": "execute_result"
        }
      ],
      "source": [
        "df['Price/sqft'].value_counts()"
      ]
    },
    {
      "cell_type": "code",
      "execution_count": 32,
      "metadata": {},
      "outputs": [
        {
          "data": {
            "text/plain": [
              "0         14\n",
              "1         15\n",
              "4         23\n",
              "5         23\n",
              "6          6\n",
              "          ..\n",
              "377179    56\n",
              "377181    33\n",
              "377182    45\n",
              "377183    14\n",
              "377184    14\n",
              "Name: Price/sqft, Length: 312302, dtype: int32"
            ]
          },
          "execution_count": 32,
          "metadata": {},
          "output_type": "execute_result"
        }
      ],
      "source": [
        "df['Price/sqft'] = df['Price/sqft'].fillna(df['Price/sqft'].median())\n",
        "df['Price/sqft'].astype(int)"
      ]
    },
    {
      "cell_type": "markdown",
      "metadata": {},
      "source": [
        "Heating"
      ]
    },
    {
      "cell_type": "code",
      "execution_count": 33,
      "metadata": {
        "id": "caivKzQ9vFBG"
      },
      "outputs": [],
      "source": [
        "# Heating\n",
        "df['Heating']=df['Heating'].apply(lambda x: x.replace(\"'\", ''))\n",
        "df['Heating']=df['Heating'].str.lower()\n",
        "df['Heating']=df['Heating'].apply(lambda x: x.replace('propane', 'gas'))\n",
        "df['Heating']=df['Heating'].apply(lambda x: x.replace('has', 'gas'))\n",
        "df['Heating']=df['Heating'].apply(lambda x: x.replace('wall/window', 'wall'))\n",
        "df['Heating']=df['Heating'].apply(lambda x: x.replace('window', 'no'))\n",
        "df['Heating']=df['Heating'].apply(lambda x: x.replace('none', 'no'))\n",
        "df['Heating']=df['Heating'].apply(lambda x: x.replace('baseboard/wall', 'baseboard'))\n",
        "df['Heating']=df['Heating'].replace('', np.nan).bfill()"
      ]
    },
    {
      "cell_type": "code",
      "execution_count": 34,
      "metadata": {
        "id": "IFXDKtWhx92T"
      },
      "outputs": [],
      "source": [
        "df['Heating']=df['Heating'].fillna(df['Heating'].mode())"
      ]
    },
    {
      "cell_type": "markdown",
      "metadata": {},
      "source": [
        "lotsize"
      ]
    },
    {
      "cell_type": "code",
      "execution_count": 36,
      "metadata": {
        "colab": {
          "base_uri": "https://localhost:8080/"
        },
        "id": "NdszIEQ_z3xW",
        "outputId": "64b52d4b-1431-4f80-fcf7-c02c813f2b0a"
      },
      "outputs": [
        {
          "data": {
            "text/plain": [
              "0          5828\n",
              "1          5828\n",
              "4         10019\n",
              "5           680\n",
              "6           120\n",
              "          ...  \n",
              "377179     1600\n",
              "377181     1600\n",
              "377182     1600\n",
              "377183     6969\n",
              "377184     6969\n",
              "Name: lotsize, Length: 312302, dtype: int32"
            ]
          },
          "execution_count": 36,
          "metadata": {},
          "output_type": "execute_result"
        }
      ],
      "source": [
        "df['lotsize']=df['lotsize'].str.replace(r\"[^\\d\\.]\", \"\", regex=True)\n",
        "df['lotsize']=df['lotsize'].apply(lambda x: x.replace(\".\", ''))\n",
        "df['lotsize']=df['lotsize'].replace('', np.nan).bfill()\n",
        "df['lotsize'] = pd.to_numeric(df['lotsize'], errors='coerce')\n",
        "df['lotsize']=df['lotsize']. fillna(df['lotsize'].median())\n",
        "df['lotsize'].astype(int)"
      ]
    },
    {
      "cell_type": "code",
      "execution_count": null,
      "metadata": {
        "id": "qLde5MRwvid7"
      },
      "outputs": [],
      "source": [
        "# Сгруппируем по группам\n",
        "type_list = []\n",
        "for type in df['Heating']:\n",
        "    if type not in ['forced', 'central', 'electric', 'gas', 'heat', 'no', 'baseboard','wall' , 'refrigeration', 'natural', 'radiant']:\n",
        "        type = 'other'\n",
        "    type_list.append(type)\n",
        "df['Heating'] = type_list\n",
        "df['Heating'].fillna(df['Heating'].mode()[0], inplace=True)"
      ]
    },
    {
      "cell_type": "code",
      "execution_count": 39,
      "metadata": {
        "colab": {
          "base_uri": "https://localhost:8080/",
          "height": 472
        },
        "id": "Tq1gm0VMy7-o",
        "outputId": "40167c39-c056-4f05-c857-893b5c6801d9"
      },
      "outputs": [
        {
          "data": {
            "image/png": "[encoded data removed]",
            "text/plain": [
              "<Figure size 640x480 with 1 Axes>"
            ]
          },
          "metadata": {},
          "output_type": "display_data"
        }
      ],
      "source": [
        "ax = sns.boxplot(df, x='target', y='Heating', orient='h', medianprops={\"color\": \"red\", \"linestyle\": '--'})\n",
        "ax.set(xlabel='t', ylabel='Heating')\n",
        "plt.title('...' )\n",
        "plt.show()"
      ]
    },
    {
      "cell_type": "markdown",
      "metadata": {},
      "source": [
        "группы сбалансированы "
      ]
    },
    {
      "cell_type": "code",
      "execution_count": 40,
      "metadata": {
        "id": "2a2UCE4bswaN"
      },
      "outputs": [],
      "source": [
        "df=df.drop_duplicates ()"
      ]
    },
    {
      "cell_type": "markdown",
      "metadata": {},
      "source": [
        "schools"
      ]
    },
    {
      "cell_type": "code",
      "execution_count": 41,
      "metadata": {
        "id": "vNxZJTMP0wFb"
      },
      "outputs": [],
      "source": [
        "\n",
        "import re\n",
        "df['schools'] = df['schools'].astype(str)\n",
        "df['schools_rating'] = df['schools'].apply(lambda x: re.sub(r'data.*', '', x)) #удалит data\n",
        "df['schools_rating'] = df['schools_rating'].apply(lambda x: re.sub(r'/10', '', x))\n",
        "df['schools_rating'] = df['schools_rating'].apply(lambda x: x.replace('rating', ''))\n",
        "df['schools_rating'] = df['schools_rating'].apply(lambda x: x[:-2])\n",
        "df['schools_rating'] = df['schools_rating'].apply(lambda x: x[1:])"
      ]
    },
    {
      "cell_type": "code",
      "execution_count": 42,
      "metadata": {
        "id": "HW39ZLS11Gf8"
      },
      "outputs": [],
      "source": [
        "df['school_count'] = df['schools_rating'].apply(lambda x: (len(x.split(','))) if x != '' else 0)\n",
        "df['school_count'] = df['school_count'].astype('int')\n",
        "# Remove all letters\n",
        "df['schools_rating'] = df['schools_rating'].apply(lambda x: re.sub(r'[a-zA-Z]', '', x))\n",
        "# Remove comas withought numbers before them\n",
        "df['schools_rating'] = df['schools_rating'].apply(lambda x: re.sub(r'\\s+,', '', x))\n",
        "# Remove comas at the end\n",
        "df['schools_rating'] = df['schools_rating'].apply(lambda x: x[:-1])\n",
        "# Create a new column 'schools_rating_list'\n",
        "df['schools_rating_list'] = df['schools_rating'].apply(lambda x: [int(i) for i in re.findall(r'\\d+', x)])\n",
        "# Create a new column 'schools_rating_ave'\n",
        "df['schools_rating_ave'] = df['schools_rating_list'].apply(lambda x: round(sum(x) / len(x), 2) if len(x) > 0 else 0)\n",
        "# Unfortunately, '0' in 'schools_rating_ave' represents missing values.\n",
        "# However, it may be interpreted as really bad schools around.\n",
        "# Replace '0' with the average\n",
        "\n",
        "df['schools_rating_ave'] = df['schools_rating_ave'].apply(np.round, decimals=2)\n",
        "\n",
        "# Calculate the average of the 'schools_rating_ave' column\n",
        "average = df['schools_rating_ave'].mean()\n",
        "\n",
        "# Replace zero values with the average\n",
        "df['schools_rating_ave'] = df['schools_rating_ave'].apply(\n",
        "    lambda x: average if x < 1 else x\n",
        ")\n",
        "\n",
        "# Calculate the average distance to the schools around\n",
        "# Leave only information about the distance\n",
        "\n",
        "def extract_text(text):\n",
        "  # Use a regex pattern to extract the text between 'Distance' and 'Grades'\n",
        "  pattern = r\"Distance': \\['(.+?)'\\], 'Grades'\"\n",
        "  match = re.search(pattern, text)\n",
        "  if match:\n",
        "    # Return the text that was found\n",
        "    return match.group(1)\n",
        "  else:\n",
        "    # Return None if no text was found\n",
        "    return None\n",
        "\n",
        "# Apply the extract_text function to each cell in the 'schools' column\n",
        "df['schools_distance'] = df['schools'].apply(extract_text)\n",
        "df['schools_distance'] = df['schools_distance'].astype(str)\n",
        "# Remove ' mi'\n",
        "df['schools_distance'] = df['schools_distance'].apply(lambda x: re.sub(r'\\smi', '', x))\n",
        "# Remove other unnecessary symbols\n",
        "df['schools_distance'] = df['schools_distance'].str.replace(r'[^\\d.,\\s]', '', regex=True)\n",
        "\n",
        "# Convert cleaned strings into lists of float numbers\n",
        "df['schools_distance'] = df['schools_distance'].apply(lambda x: [float(num) for num in x.split(',')] if x else [])\n",
        "\n",
        "# Create a new column called 'schools_distance_ave'\n",
        "df['schools_distance_ave'] = df['schools_distance'].apply(lambda x: round(sum(x)/len(x), 2) if x else 0)"
      ]
    },
    {
      "cell_type": "code",
      "execution_count": 43,
      "metadata": {
        "colab": {
          "base_uri": "https://localhost:8080/"
        },
        "id": "T4R_J5Ij1TB9",
        "outputId": "33fb7696-0157-4b04-d54a-3f16cdabb1ed"
      },
      "outputs": [
        {
          "data": {
            "text/plain": [
              "0         5\n",
              "1         1\n",
              "4         4\n",
              "5         0\n",
              "6         3\n",
              "         ..\n",
              "377179    0\n",
              "377181    4\n",
              "377182    0\n",
              "377183    1\n",
              "377184    1\n",
              "Name: schools_distance_ave, Length: 312302, dtype: int32"
            ]
          },
          "execution_count": 43,
          "metadata": {},
          "output_type": "execute_result"
        }
      ],
      "source": [
        "df['schools_distance_ave'].astype(int)"
      ]
    },
    {
      "cell_type": "code",
      "execution_count": 44,
      "metadata": {
        "id": "J6MzkVms1dNp"
      },
      "outputs": [],
      "source": [
        "# удалим лишние\n",
        "df.drop('schools_rating', axis= 1 , inplace= True )\n",
        "df.drop('schools_rating_list', axis= 1 , inplace= True )\n",
        "df.drop('schools_distance', axis= 1 , inplace= True )\n",
        "df.drop('schools', axis= 1 , inplace= True )"
      ]
    },
    {
      "cell_type": "markdown",
      "metadata": {},
      "source": [
        "Sqft"
      ]
    },
    {
      "cell_type": "code",
      "execution_count": 46,
      "metadata": {
        "colab": {
          "base_uri": "https://localhost:8080/"
        },
        "id": "HTiJkLVt5aPN",
        "outputId": "630320e5-b5d4-498c-a759-a6819c63ca99"
      },
      "outputs": [],
      "source": [
        "df[\"Sqft\"] = df[\"sqft\"].str.replace(r\"[^\\d\\.\\,]\", \"\", regex=True)\n",
        "df['Sqft'] = df['Sqft'].str.replace(',', '',)\n",
        "df['Sqft'] = df['Sqft'].str.replace('.', '',)\n",
        "df['Sqft'] = df['Sqft'].replace('', np.nan).bfill()\n",
        "df['Sqft'] = df['Sqft'].astype (int)\n",
        "\n"
      ]
    },
    {
      "cell_type": "code",
      "execution_count": 47,
      "metadata": {
        "id": "BFqkSU4n63eG"
      },
      "outputs": [],
      "source": [
        "df.drop('sqft', axis= 1 , inplace= True )"
      ]
    },
    {
      "cell_type": "markdown",
      "metadata": {},
      "source": [
        "baths_n"
      ]
    },
    {
      "cell_type": "code",
      "execution_count": 49,
      "metadata": {
        "colab": {
          "base_uri": "https://localhost:8080/"
        },
        "id": "HoxQ07Go7HGD",
        "outputId": "c63c1d25-4fc8-4a8e-9f99-3c9b28351eca"
      },
      "outputs": [
        {
          "data": {
            "text/plain": [
              "0         3\n",
              "1         3\n",
              "4         2\n",
              "5         2\n",
              "6         2\n",
              "         ..\n",
              "377179    3\n",
              "377181    3\n",
              "377182    3\n",
              "377183    2\n",
              "377184    2\n",
              "Name: baths_n, Length: 312302, dtype: int32"
            ]
          },
          "execution_count": 49,
          "metadata": {},
          "output_type": "execute_result"
        }
      ],
      "source": [
        "#  в столбце `baths` удаляем все символы, кроме цифр\n",
        "df[\"baths_n\"] = df[\"baths\"].str.replace(r\"[^\\d\\.]\", \"\", regex=True)\n",
        "df['baths_n']=df['baths_n'].str.replace('.1', '')\n",
        "df['baths_n']=df['baths_n'].str.replace('.0', '')\n",
        "df['baths_n']=df['baths_n'].str.replace('.2', '')\n",
        "df['baths_n']=df['baths_n'].str.replace('.3', '')\n",
        "df['baths_n']=df['baths_n'].str.replace('.4', '')\n",
        "df['baths_n']=df['baths_n'].str.replace('.5', '')\n",
        "df['baths_n']=df['baths_n'].str.replace('.6', '')\n",
        "df['baths_n']=df['baths_n'].str.replace('.7', '')\n",
        "df['baths_n']=df['baths_n'].str.replace('.8', '')\n",
        "df['baths_n']=df['baths_n'].str.replace('.9', '')\n",
        "df[\"baths_n\"]=df['baths_n'].str.replace(\" \", '')\n",
        "df['baths_n']=df['baths_n'].str.replace('.', '')\n",
        "df['baths_n']=df['baths_n'].replace('', np.nan).bfill()\n",
        "#df['baths_n'] = df['baths_n']. fillna(df['baths_n'].median())\n",
        "df[\"baths_n\"]  = pd.to_numeric(df[\"baths_n\"] , errors='coerce')\n",
        "df['baths_n'] = df['baths_n'].fillna(df['baths_n'].median())\n",
        "df[\"baths_n\"].astype(int)"
      ]
    },
    {
      "cell_type": "code",
      "execution_count": 50,
      "metadata": {
        "id": "jvUNHH2s7XkT"
      },
      "outputs": [],
      "source": [
        "df.drop('baths', axis= 1 , inplace= True )"
      ]
    },
    {
      "cell_type": "code",
      "execution_count": 51,
      "metadata": {
        "id": "IJeEDqvtBRbE"
      },
      "outputs": [],
      "source": [
        "df=df.drop_duplicates ()"
      ]
    },
    {
      "cell_type": "markdown",
      "metadata": {},
      "source": [
        "beds_n"
      ]
    },
    {
      "cell_type": "code",
      "execution_count": 52,
      "metadata": {
        "colab": {
          "base_uri": "https://localhost:8080/"
        },
        "id": "72IBJBxo7jbV",
        "outputId": "4de32ab5-d7d0-451f-b220-3478f39c21b9"
      },
      "outputs": [
        {
          "name": "stderr",
          "output_type": "stream",
          "text": [
            "C:\\Users\\user\\AppData\\Local\\Temp\\ipykernel_13976\\2523397060.py:17: FutureWarning: A value is trying to be set on a copy of a DataFrame or Series through chained assignment using an inplace method.\n",
            "The behavior will change in pandas 3.0. This inplace method will never work because the intermediate object on which we are setting values always behaves as a copy.\n",
            "\n",
            "For example, when doing 'df[col].method(value, inplace=True)', try using 'df.method({col: value}, inplace=True)' or df[col] = df[col].method(value) instead, to perform the operation inplace on the original object.\n",
            "\n",
            "\n",
            "  df['beds_n'].fillna(df['Status'].mode()[0], inplace=True)\n"
          ]
        }
      ],
      "source": [
        "df[\"beds_n\"] = df[\"beds\"].str.replace(r\"[^\\d\\.\\,]\", \"\", regex=True)\n",
        "df['beds_n'] = df['beds_n'].str.replace(' ', '')\n",
        "df['beds_n'] = df['beds_n'].str.replace(',', '.')\n",
        "df['beds_n'] = df['beds_n'].str.replace('.4', '')\n",
        "df['beds_n'] = df['beds_n'].str.replace('.3', '')\n",
        "df['beds_n'] = df['beds_n'].str.replace(',', '.')\n",
        "df['beds_n'] = df['beds_n'].str.replace('.7', '')\n",
        "df['beds_n'] = df['beds_n'].str.replace('.', '')\n",
        "df['beds_n'] = df['beds_n'].str.replace('.1', '')\n",
        "df['beds_n'] = df['beds_n'].str.replace('.2', '')\n",
        "df['beds_n'] = df['beds_n'].str.replace('.5', '')\n",
        "df['beds_n'] = df['beds_n'].str.replace('.8', '')\n",
        "df['beds_n'] = df['beds_n'].str.replace('.9', '')\n",
        "df['beds_n'] = df['beds_n'].str.replace(\".6\", '')\n",
        "df['beds_n'] = df['beds_n'].replace('', np.nan).bfill()\n",
        "#df['beds_n'] = df['beds_n']. fillna(df['beds_n'].median())\n",
        "df['beds_n'].fillna(df['Status'].mode()[0], inplace=True)\n",
        "df['beds_n']  = pd.to_numeric(df['beds_n'] , errors='coerce')\n",
        "df['beds_n'] = df['beds_n'].astype (int)"
      ]
    },
    {
      "cell_type": "code",
      "execution_count": 53,
      "metadata": {
        "id": "NMSOdnX276il"
      },
      "outputs": [],
      "source": [
        "df.drop('beds', axis= 1 , inplace= True )"
      ]
    },
    {
      "cell_type": "markdown",
      "metadata": {},
      "source": [
        "stories"
      ]
    },
    {
      "cell_type": "code",
      "execution_count": 54,
      "metadata": {
        "colab": {
          "base_uri": "https://localhost:8080/"
        },
        "id": "2cQyy_Sh8PN_",
        "outputId": "c65d6a42-373a-4a13-c6f7-31d21df711de"
      },
      "outputs": [
        {
          "name": "stderr",
          "output_type": "stream",
          "text": [
            "C:\\Users\\user\\AppData\\Local\\Temp\\ipykernel_13976\\3891459331.py:6: FutureWarning: A value is trying to be set on a copy of a DataFrame or Series through chained assignment using an inplace method.\n",
            "The behavior will change in pandas 3.0. This inplace method will never work because the intermediate object on which we are setting values always behaves as a copy.\n",
            "\n",
            "For example, when doing 'df[col].method(value, inplace=True)', try using 'df.method({col: value}, inplace=True)' or df[col] = df[col].method(value) instead, to perform the operation inplace on the original object.\n",
            "\n",
            "\n",
            "  df['stories'].fillna(df['stories'].mode()[0], inplace=True)\n"
          ]
        },
        {
          "data": {
            "text/plain": [
              "0         2\n",
              "1         2\n",
              "4         2\n",
              "5         2\n",
              "6         2\n",
              "         ..\n",
              "377179    3\n",
              "377181    9\n",
              "377182    2\n",
              "377183    1\n",
              "377184    1\n",
              "Name: stories, Length: 312295, dtype: int32"
            ]
          },
          "execution_count": 54,
          "metadata": {},
          "output_type": "execute_result"
        }
      ],
      "source": [
        "df['stories'] = df['stories'].str.replace(r\"[^\\d\\.]\", \"\", regex=True)\n",
        "df['stories'] = df['stories'].str.replace('.0', '')\n",
        "df['stories'] = df['stories'].str.replace('.5', '')\n",
        "df['stories'] = df['stories'].str.replace('.', '')\n",
        "df['stories'] = df['stories'].replace('', np.nan).bfill()\n",
        "df['stories'].fillna(df['stories'].mode()[0], inplace=True)\n",
        "df['stories'] = pd.to_numeric(df['stories'], errors='coerce')\n",
        "df['stories'].astype(int)"
      ]
    },
    {
      "cell_type": "code",
      "execution_count": 55,
      "metadata": {
        "id": "0oHA6QTjIqkm"
      },
      "outputs": [],
      "source": [
        "df=df.drop_duplicates ()"
      ]
    },
    {
      "cell_type": "markdown",
      "metadata": {},
      "source": [
        "zipcode"
      ]
    },
    {
      "cell_type": "code",
      "execution_count": 56,
      "metadata": {
        "colab": {
          "base_uri": "https://localhost:8080/"
        },
        "id": "Hwx_e_oqBm9z",
        "outputId": "39a8e24e-7baa-44b4-dcc1-b318b5b65edf"
      },
      "outputs": [
        {
          "data": {
            "text/plain": [
              "0         28387\n",
              "1         99216\n",
              "4         32908\n",
              "5         19145\n",
              "6         34759\n",
              "          ...  \n",
              "377179    20001\n",
              "377181    60657\n",
              "377182    11434\n",
              "377183    77028\n",
              "377184    78218\n",
              "Name: zipcode, Length: 312280, dtype: int32"
            ]
          },
          "execution_count": 56,
          "metadata": {},
          "output_type": "execute_result"
        }
      ],
      "source": [
        "df['zipcode'] = df['zipcode'].str.replace('-', ' ')\n",
        "df['zipcode']= df['zipcode'].str.rstrip().str.split( ).str[0]\n",
        "df['zipcode'] = df['zipcode'].replace('', np.nan).bfill()\n",
        "df['zipcode'] = pd.to_numeric(df['zipcode'], errors='coerce')\n",
        "df['zipcode'] = df['zipcode']. fillna(df['zipcode'].mode())\n",
        "df['zipcode'].astype(int)"
      ]
    },
    {
      "cell_type": "code",
      "execution_count": 57,
      "metadata": {
        "id": "UAuz_s9RBatA"
      },
      "outputs": [],
      "source": [
        "df=df.drop_duplicates ()"
      ]
    },
    {
      "cell_type": "markdown",
      "metadata": {},
      "source": [
        "Price/sqft"
      ]
    },
    {
      "cell_type": "code",
      "execution_count": 58,
      "metadata": {
        "id": "p4SllfhJB-9D"
      },
      "outputs": [],
      "source": [
        "df['Price/sqft']=df['Price/sqft'].astype(str).str.replace(r\"[^\\d\\.]\", \"\", regex=True)\n",
        "df['Price/sqft']=df['Price/sqft'].replace('', np.nan).bfill()"
      ]
    },
    {
      "cell_type": "markdown",
      "metadata": {},
      "source": [
        "fireplace"
      ]
    },
    {
      "cell_type": "code",
      "execution_count": 60,
      "metadata": {},
      "outputs": [],
      "source": [
        "df['fireplace']= df['fireplace'].str.lower()"
      ]
    },
    {
      "cell_type": "code",
      "execution_count": 61,
      "metadata": {},
      "outputs": [],
      "source": [
        "df['fireplace1'] = df['fireplace'].str.rstrip().str.split( ).str[0]\n",
        "df['fireplace1'] = df['fireplace1'].str.replace(',', '')\n",
        "df['fireplace1'] = df['fireplace1'].str.replace('not', 'no')\n",
        "df['fireplace1'] = df['fireplace1'].str.replace('0', 'no')\n",
        "df['fireplace1'] = df['fireplace1'].str.replace('gas/gas', 'gas')\n",
        "df['fireplace1'] = df['fireplace1'].str.replace('fireplace-gas', 'gas')"
      ]
    },
    {
      "cell_type": "code",
      "execution_count": 62,
      "metadata": {},
      "outputs": [
        {
          "data": {
            "text/plain": [
              "fireplace1\n",
              "yes           54993\n",
              "1             13204\n",
              "no             2507\n",
              "gas            1818\n",
              "2              1371\n",
              "fireplace      1106\n",
              "ceiling         966\n",
              "familyrm        588\n",
              "wood            577\n",
              "living          567\n",
              "family          251\n",
              "great           245\n",
              "special         223\n",
              "in              176\n",
              "3               167\n",
              "#               155\n",
              "air             140\n",
              "one             135\n",
              "electric        130\n",
              "den             125\n",
              "decorative      119\n",
              "log             117\n",
              "extra            69\n",
              "location         58\n",
              "utility          48\n",
              "Name: count, dtype: int64"
            ]
          },
          "execution_count": 62,
          "metadata": {},
          "output_type": "execute_result"
        }
      ],
      "source": [
        "f=df['fireplace1'].value_counts()\n",
        "f.head(25)"
      ]
    },
    {
      "cell_type": "code",
      "execution_count": 63,
      "metadata": {},
      "outputs": [],
      "source": [
        "type_list = []\n",
        "for type in df['fireplace1']:\n",
        "    if type not in ['yes', '1', '2', '3', 'not', 'gas','air', 'fireplace','ceiling' , 'familyrm', 'wood', 'living','family','great','special']:\n",
        "        type = 'other'\n",
        "    type_list.append(type)\n",
        "df['fireplace1'] = type_list\n",
        "#df['fireplace1'].fillna(df['fireplace1'].mode()[0], inplace=True)"
      ]
    },
    {
      "cell_type": "code",
      "execution_count": 64,
      "metadata": {},
      "outputs": [
        {
          "data": {
            "image/png": "[encoded data removed]",
            "text/plain": [
              "<Figure size 640x480 with 1 Axes>"
            ]
          },
          "metadata": {},
          "output_type": "display_data"
        }
      ],
      "source": [
        "ax = sns.boxplot(df, x='target', y='fireplace1', orient='h', medianprops={\"color\": \"red\", \"linestyle\": '--'})\n",
        "ax.set(xlabel='t', ylabel='fireplace1')\n",
        "plt.title('...' )\n",
        "plt.show()"
      ]
    },
    {
      "cell_type": "markdown",
      "metadata": {},
      "source": [
        "достаточно равномерно"
      ]
    },
    {
      "cell_type": "code",
      "execution_count": 65,
      "metadata": {},
      "outputs": [],
      "source": [
        "df.drop('fireplace', axis= 1 , inplace= True )"
      ]
    },
    {
      "cell_type": "code",
      "execution_count": 66,
      "metadata": {},
      "outputs": [
        {
          "data": {
            "image/png": "[encoded data removed]",
            "text/plain": [
              "<Figure size 640x480 with 1 Axes>"
            ]
          },
          "metadata": {},
          "output_type": "display_data"
        }
      ],
      "source": [
        "# проверим на выбросы\n",
        "import seaborn as sns\n",
        "sns.boxplot(x='zipcode', data=df);"
      ]
    },
    {
      "cell_type": "code",
      "execution_count": 67,
      "metadata": {},
      "outputs": [],
      "source": [
        "# удалим выбросы\n",
        "df=df[df.zipcode < 300000]"
      ]
    },
    {
      "cell_type": "code",
      "execution_count": 67,
      "metadata": {},
      "outputs": [
        {
          "data": {
            "image/png": "[encoded data removed]",
            "text/plain": [
              "<Figure size 640x480 with 1 Axes>"
            ]
          },
          "metadata": {},
          "output_type": "display_data"
        }
      ],
      "source": [
        "# проверим на выбросы\n",
        "import seaborn as sns\n",
        "sns.boxplot(x='stories', data=df);"
      ]
    },
    {
      "cell_type": "code",
      "execution_count": 68,
      "metadata": {},
      "outputs": [],
      "source": [
        "# удалим выбросы\n",
        "df=df[df.stories < 1000]"
      ]
    },
    {
      "cell_type": "code",
      "execution_count": 71,
      "metadata": {},
      "outputs": [
        {
          "data": {
            "image/png": "[encoded data removed]",
            "text/plain": [
              "<Figure size 640x480 with 1 Axes>"
            ]
          },
          "metadata": {},
          "output_type": "display_data"
        }
      ],
      "source": [
        "import seaborn as sns\n",
        "sns.boxplot(x='lotsize', data=df);"
      ]
    },
    {
      "cell_type": "code",
      "execution_count": 72,
      "metadata": {},
      "outputs": [],
      "source": [
        "df=df[df.lotsize < 100000]"
      ]
    },
    {
      "cell_type": "code",
      "execution_count": 73,
      "metadata": {},
      "outputs": [
        {
          "data": {
            "image/png": "[encoded data removed]",
            "text/plain": [
              "<Figure size 640x480 with 1 Axes>"
            ]
          },
          "metadata": {},
          "output_type": "display_data"
        }
      ],
      "source": [
        "import seaborn as sns\n",
        "sns.boxplot(x='beds_n', data=df);"
      ]
    },
    {
      "cell_type": "code",
      "execution_count": 74,
      "metadata": {},
      "outputs": [],
      "source": [
        "df=df[df.beds_n < 100000]"
      ]
    },
    {
      "cell_type": "code",
      "execution_count": 76,
      "metadata": {},
      "outputs": [
        {
          "data": {
            "text/html": [
              "<div>\n",
              "<style scoped>\n",
              "    .dataframe tbody tr th:only-of-type {\n",
              "        vertical-align: middle;\n",
              "    }\n",
              "\n",
              "    .dataframe tbody tr th {\n",
              "        vertical-align: top;\n",
              "    }\n",
              "\n",
              "    .dataframe thead th {\n",
              "        text-align: right;\n",
              "    }\n",
              "</style>\n",
              "<table border=\"1\" class=\"dataframe\">\n",
              "  <thead>\n",
              "    <tr style=\"text-align: right;\">\n",
              "      <th></th>\n",
              "      <th>propertyType</th>\n",
              "      <th>zipcode</th>\n",
              "      <th>stories</th>\n",
              "      <th>target</th>\n",
              "      <th>Status</th>\n",
              "      <th>Year built</th>\n",
              "      <th>Remodeled_year</th>\n",
              "      <th>Heating</th>\n",
              "      <th>lotsize</th>\n",
              "      <th>Price/sqft</th>\n",
              "      <th>school_count</th>\n",
              "      <th>schools_rating_ave</th>\n",
              "      <th>schools_distance_ave</th>\n",
              "      <th>Sqft</th>\n",
              "      <th>baths_n</th>\n",
              "      <th>beds_n</th>\n",
              "      <th>fireplace1</th>\n",
              "    </tr>\n",
              "  </thead>\n",
              "  <tbody>\n",
              "    <tr>\n",
              "      <th>0</th>\n",
              "      <td>single family</td>\n",
              "      <td>28387</td>\n",
              "      <td>2</td>\n",
              "      <td>418000.0</td>\n",
              "      <td>active</td>\n",
              "      <td>2019.0</td>\n",
              "      <td>2006.0</td>\n",
              "      <td>central</td>\n",
              "      <td>5828</td>\n",
              "      <td>14</td>\n",
              "      <td>9</td>\n",
              "      <td>5.200000</td>\n",
              "      <td>5.54</td>\n",
              "      <td>2900</td>\n",
              "      <td>3</td>\n",
              "      <td>4</td>\n",
              "      <td>gas</td>\n",
              "    </tr>\n",
              "    <tr>\n",
              "      <th>1</th>\n",
              "      <td>single family</td>\n",
              "      <td>99216</td>\n",
              "      <td>2</td>\n",
              "      <td>310000.0</td>\n",
              "      <td>for sale</td>\n",
              "      <td>2019.0</td>\n",
              "      <td>2006.0</td>\n",
              "      <td>forced</td>\n",
              "      <td>5828</td>\n",
              "      <td>15</td>\n",
              "      <td>4</td>\n",
              "      <td>4.000000</td>\n",
              "      <td>1.33</td>\n",
              "      <td>1947</td>\n",
              "      <td>3</td>\n",
              "      <td>3</td>\n",
              "      <td>other</td>\n",
              "    </tr>\n",
              "    <tr>\n",
              "      <th>4</th>\n",
              "      <td>other</td>\n",
              "      <td>32908</td>\n",
              "      <td>2</td>\n",
              "      <td>5000.0</td>\n",
              "      <td>for sale</td>\n",
              "      <td>1920.0</td>\n",
              "      <td>2006.0</td>\n",
              "      <td>forced</td>\n",
              "      <td>10019</td>\n",
              "      <td>23</td>\n",
              "      <td>4</td>\n",
              "      <td>4.670000</td>\n",
              "      <td>4.08</td>\n",
              "      <td>897</td>\n",
              "      <td>2</td>\n",
              "      <td>2</td>\n",
              "      <td>other</td>\n",
              "    </tr>\n",
              "    <tr>\n",
              "      <th>5</th>\n",
              "      <td>townhouse</td>\n",
              "      <td>19145</td>\n",
              "      <td>2</td>\n",
              "      <td>209000.0</td>\n",
              "      <td>for sale</td>\n",
              "      <td>1920.0</td>\n",
              "      <td>2006.0</td>\n",
              "      <td>forced</td>\n",
              "      <td>680</td>\n",
              "      <td>23</td>\n",
              "      <td>2</td>\n",
              "      <td>4.908823</td>\n",
              "      <td>0.00</td>\n",
              "      <td>897</td>\n",
              "      <td>2</td>\n",
              "      <td>2</td>\n",
              "      <td>other</td>\n",
              "    </tr>\n",
              "    <tr>\n",
              "      <th>6</th>\n",
              "      <td>florida</td>\n",
              "      <td>34759</td>\n",
              "      <td>2</td>\n",
              "      <td>181500.0</td>\n",
              "      <td>active</td>\n",
              "      <td>2006.0</td>\n",
              "      <td>2006.0</td>\n",
              "      <td>electric</td>\n",
              "      <td>120</td>\n",
              "      <td>6</td>\n",
              "      <td>5</td>\n",
              "      <td>2.330000</td>\n",
              "      <td>3.83</td>\n",
              "      <td>1507</td>\n",
              "      <td>2</td>\n",
              "      <td>3</td>\n",
              "      <td>other</td>\n",
              "    </tr>\n",
              "  </tbody>\n",
              "</table>\n",
              "</div>"
            ],
            "text/plain": [
              "    propertyType  zipcode  stories    target    Status  Year built  \\\n",
              "0  single family    28387        2  418000.0    active      2019.0   \n",
              "1  single family    99216        2  310000.0  for sale      2019.0   \n",
              "4          other    32908        2    5000.0  for sale      1920.0   \n",
              "5      townhouse    19145        2  209000.0  for sale      1920.0   \n",
              "6        florida    34759        2  181500.0    active      2006.0   \n",
              "\n",
              "   Remodeled_year   Heating  lotsize Price/sqft  school_count  \\\n",
              "0          2006.0   central     5828         14             9   \n",
              "1          2006.0    forced     5828         15             4   \n",
              "4          2006.0    forced    10019         23             4   \n",
              "5          2006.0    forced      680         23             2   \n",
              "6          2006.0  electric      120          6             5   \n",
              "\n",
              "   schools_rating_ave  schools_distance_ave  Sqft  baths_n  beds_n fireplace1  \n",
              "0            5.200000                  5.54  2900        3       4        gas  \n",
              "1            4.000000                  1.33  1947        3       3      other  \n",
              "4            4.670000                  4.08   897        2       2      other  \n",
              "5            4.908823                  0.00   897        2       2      other  \n",
              "6            2.330000                  3.83  1507        2       3      other  "
            ]
          },
          "execution_count": 76,
          "metadata": {},
          "output_type": "execute_result"
        }
      ],
      "source": [
        "df.head(5)"
      ]
    },
    {
      "cell_type": "markdown",
      "metadata": {},
      "source": [
        "# Обработка признаков"
      ]
    },
    {
      "cell_type": "code",
      "execution_count": 77,
      "metadata": {
        "id": "3dV1Nk73CiSt"
      },
      "outputs": [],
      "source": [
        "\n",
        "df_dummies = pd.get_dummies(df, columns=['propertyType','Heating','Status','fireplace1'])"
      ]
    },
    {
      "cell_type": "code",
      "execution_count": 78,
      "metadata": {
        "id": "F-iFYMy7Cv3A"
      },
      "outputs": [
        {
          "data": {
            "text/html": [
              "<div>\n",
              "<style scoped>\n",
              "    .dataframe tbody tr th:only-of-type {\n",
              "        vertical-align: middle;\n",
              "    }\n",
              "\n",
              "    .dataframe tbody tr th {\n",
              "        vertical-align: top;\n",
              "    }\n",
              "\n",
              "    .dataframe thead th {\n",
              "        text-align: right;\n",
              "    }\n",
              "</style>\n",
              "<table border=\"1\" class=\"dataframe\">\n",
              "  <thead>\n",
              "    <tr style=\"text-align: right;\">\n",
              "      <th></th>\n",
              "      <th>zipcode</th>\n",
              "      <th>stories</th>\n",
              "      <th>target</th>\n",
              "      <th>Year built</th>\n",
              "      <th>Remodeled_year</th>\n",
              "      <th>lotsize</th>\n",
              "      <th>Price/sqft</th>\n",
              "      <th>school_count</th>\n",
              "      <th>schools_rating_ave</th>\n",
              "      <th>schools_distance_ave</th>\n",
              "      <th>...</th>\n",
              "      <th>fireplace1_family</th>\n",
              "      <th>fireplace1_familyrm</th>\n",
              "      <th>fireplace1_fireplace</th>\n",
              "      <th>fireplace1_gas</th>\n",
              "      <th>fireplace1_great</th>\n",
              "      <th>fireplace1_living</th>\n",
              "      <th>fireplace1_other</th>\n",
              "      <th>fireplace1_special</th>\n",
              "      <th>fireplace1_wood</th>\n",
              "      <th>fireplace1_yes</th>\n",
              "    </tr>\n",
              "  </thead>\n",
              "  <tbody>\n",
              "    <tr>\n",
              "      <th>zipcode</th>\n",
              "      <td>1.000000</td>\n",
              "      <td>-0.055228</td>\n",
              "      <td>0.100541</td>\n",
              "      <td>0.004596</td>\n",
              "      <td>-0.000385</td>\n",
              "      <td>-0.011919</td>\n",
              "      <td>0.000287</td>\n",
              "      <td>-0.056308</td>\n",
              "      <td>0.078857</td>\n",
              "      <td>-0.093419</td>\n",
              "      <td>...</td>\n",
              "      <td>-0.010607</td>\n",
              "      <td>-0.039878</td>\n",
              "      <td>0.056545</td>\n",
              "      <td>-0.023892</td>\n",
              "      <td>-0.025415</td>\n",
              "      <td>-0.020121</td>\n",
              "      <td>-0.192326</td>\n",
              "      <td>-0.015671</td>\n",
              "      <td>0.006744</td>\n",
              "      <td>0.149200</td>\n",
              "    </tr>\n",
              "    <tr>\n",
              "      <th>stories</th>\n",
              "      <td>-0.055228</td>\n",
              "      <td>1.000000</td>\n",
              "      <td>0.019610</td>\n",
              "      <td>-0.000702</td>\n",
              "      <td>0.005721</td>\n",
              "      <td>0.030845</td>\n",
              "      <td>-0.000252</td>\n",
              "      <td>0.035018</td>\n",
              "      <td>-0.005088</td>\n",
              "      <td>-0.005897</td>\n",
              "      <td>...</td>\n",
              "      <td>0.000882</td>\n",
              "      <td>-0.003270</td>\n",
              "      <td>0.014924</td>\n",
              "      <td>0.005936</td>\n",
              "      <td>-0.002948</td>\n",
              "      <td>-0.003585</td>\n",
              "      <td>-0.010677</td>\n",
              "      <td>-0.005578</td>\n",
              "      <td>0.003083</td>\n",
              "      <td>-0.059156</td>\n",
              "    </tr>\n",
              "    <tr>\n",
              "      <th>target</th>\n",
              "      <td>0.100541</td>\n",
              "      <td>0.019610</td>\n",
              "      <td>1.000000</td>\n",
              "      <td>0.004003</td>\n",
              "      <td>0.011444</td>\n",
              "      <td>-0.046452</td>\n",
              "      <td>0.017127</td>\n",
              "      <td>-0.103566</td>\n",
              "      <td>0.293106</td>\n",
              "      <td>-0.026199</td>\n",
              "      <td>...</td>\n",
              "      <td>0.016946</td>\n",
              "      <td>0.016685</td>\n",
              "      <td>0.042784</td>\n",
              "      <td>0.034486</td>\n",
              "      <td>0.009820</td>\n",
              "      <td>0.013180</td>\n",
              "      <td>-0.162947</td>\n",
              "      <td>-0.005383</td>\n",
              "      <td>0.008403</td>\n",
              "      <td>0.117143</td>\n",
              "    </tr>\n",
              "    <tr>\n",
              "      <th>Year built</th>\n",
              "      <td>0.004596</td>\n",
              "      <td>-0.000702</td>\n",
              "      <td>0.004003</td>\n",
              "      <td>1.000000</td>\n",
              "      <td>-0.000789</td>\n",
              "      <td>0.000609</td>\n",
              "      <td>0.000085</td>\n",
              "      <td>0.001869</td>\n",
              "      <td>0.001680</td>\n",
              "      <td>-0.000870</td>\n",
              "      <td>...</td>\n",
              "      <td>-0.000071</td>\n",
              "      <td>-0.000110</td>\n",
              "      <td>-0.000149</td>\n",
              "      <td>-0.000193</td>\n",
              "      <td>-0.000071</td>\n",
              "      <td>-0.000106</td>\n",
              "      <td>0.001460</td>\n",
              "      <td>-0.000058</td>\n",
              "      <td>-0.000108</td>\n",
              "      <td>-0.001192</td>\n",
              "    </tr>\n",
              "    <tr>\n",
              "      <th>Remodeled_year</th>\n",
              "      <td>-0.000385</td>\n",
              "      <td>0.005721</td>\n",
              "      <td>0.011444</td>\n",
              "      <td>-0.000789</td>\n",
              "      <td>1.000000</td>\n",
              "      <td>-0.003355</td>\n",
              "      <td>-0.000768</td>\n",
              "      <td>-0.000611</td>\n",
              "      <td>0.020587</td>\n",
              "      <td>0.004057</td>\n",
              "      <td>...</td>\n",
              "      <td>0.000224</td>\n",
              "      <td>0.002216</td>\n",
              "      <td>-0.000169</td>\n",
              "      <td>0.002001</td>\n",
              "      <td>0.001121</td>\n",
              "      <td>0.003550</td>\n",
              "      <td>-0.009602</td>\n",
              "      <td>0.000985</td>\n",
              "      <td>0.001394</td>\n",
              "      <td>0.007312</td>\n",
              "    </tr>\n",
              "    <tr>\n",
              "      <th>...</th>\n",
              "      <td>...</td>\n",
              "      <td>...</td>\n",
              "      <td>...</td>\n",
              "      <td>...</td>\n",
              "      <td>...</td>\n",
              "      <td>...</td>\n",
              "      <td>...</td>\n",
              "      <td>...</td>\n",
              "      <td>...</td>\n",
              "      <td>...</td>\n",
              "      <td>...</td>\n",
              "      <td>...</td>\n",
              "      <td>...</td>\n",
              "      <td>...</td>\n",
              "      <td>...</td>\n",
              "      <td>...</td>\n",
              "      <td>...</td>\n",
              "      <td>...</td>\n",
              "      <td>...</td>\n",
              "      <td>...</td>\n",
              "      <td>...</td>\n",
              "    </tr>\n",
              "    <tr>\n",
              "      <th>fireplace1_living</th>\n",
              "      <td>-0.020121</td>\n",
              "      <td>-0.003585</td>\n",
              "      <td>0.013180</td>\n",
              "      <td>-0.000106</td>\n",
              "      <td>0.003550</td>\n",
              "      <td>0.024797</td>\n",
              "      <td>-0.000488</td>\n",
              "      <td>0.014347</td>\n",
              "      <td>0.005008</td>\n",
              "      <td>-0.003434</td>\n",
              "      <td>...</td>\n",
              "      <td>-0.001162</td>\n",
              "      <td>-0.001790</td>\n",
              "      <td>-0.002427</td>\n",
              "      <td>-0.003136</td>\n",
              "      <td>-0.001152</td>\n",
              "      <td>1.000000</td>\n",
              "      <td>-0.072929</td>\n",
              "      <td>-0.000947</td>\n",
              "      <td>-0.001751</td>\n",
              "      <td>-0.019378</td>\n",
              "    </tr>\n",
              "    <tr>\n",
              "      <th>fireplace1_other</th>\n",
              "      <td>-0.192326</td>\n",
              "      <td>-0.010677</td>\n",
              "      <td>-0.162947</td>\n",
              "      <td>0.001460</td>\n",
              "      <td>-0.009602</td>\n",
              "      <td>-0.018403</td>\n",
              "      <td>0.005877</td>\n",
              "      <td>0.017902</td>\n",
              "      <td>-0.065070</td>\n",
              "      <td>0.061887</td>\n",
              "      <td>...</td>\n",
              "      <td>-0.048940</td>\n",
              "      <td>-0.075379</td>\n",
              "      <td>-0.102191</td>\n",
              "      <td>-0.132078</td>\n",
              "      <td>-0.048527</td>\n",
              "      <td>-0.072929</td>\n",
              "      <td>1.000000</td>\n",
              "      <td>-0.039870</td>\n",
              "      <td>-0.073754</td>\n",
              "      <td>-0.816112</td>\n",
              "    </tr>\n",
              "    <tr>\n",
              "      <th>fireplace1_special</th>\n",
              "      <td>-0.015671</td>\n",
              "      <td>-0.005578</td>\n",
              "      <td>-0.005383</td>\n",
              "      <td>-0.000058</td>\n",
              "      <td>0.000985</td>\n",
              "      <td>0.056545</td>\n",
              "      <td>-0.000626</td>\n",
              "      <td>0.014076</td>\n",
              "      <td>-0.013495</td>\n",
              "      <td>0.004387</td>\n",
              "      <td>...</td>\n",
              "      <td>-0.000635</td>\n",
              "      <td>-0.000979</td>\n",
              "      <td>-0.001327</td>\n",
              "      <td>-0.001715</td>\n",
              "      <td>-0.000630</td>\n",
              "      <td>-0.000947</td>\n",
              "      <td>-0.039870</td>\n",
              "      <td>1.000000</td>\n",
              "      <td>-0.000957</td>\n",
              "      <td>-0.010594</td>\n",
              "    </tr>\n",
              "    <tr>\n",
              "      <th>fireplace1_wood</th>\n",
              "      <td>0.006744</td>\n",
              "      <td>0.003083</td>\n",
              "      <td>0.008403</td>\n",
              "      <td>-0.000108</td>\n",
              "      <td>0.001394</td>\n",
              "      <td>0.024580</td>\n",
              "      <td>-0.000635</td>\n",
              "      <td>0.020441</td>\n",
              "      <td>0.006596</td>\n",
              "      <td>-0.005247</td>\n",
              "      <td>...</td>\n",
              "      <td>-0.001175</td>\n",
              "      <td>-0.001810</td>\n",
              "      <td>-0.002454</td>\n",
              "      <td>-0.003172</td>\n",
              "      <td>-0.001165</td>\n",
              "      <td>-0.001751</td>\n",
              "      <td>-0.073754</td>\n",
              "      <td>-0.000957</td>\n",
              "      <td>1.000000</td>\n",
              "      <td>-0.019598</td>\n",
              "    </tr>\n",
              "    <tr>\n",
              "      <th>fireplace1_yes</th>\n",
              "      <td>0.149200</td>\n",
              "      <td>-0.059156</td>\n",
              "      <td>0.117143</td>\n",
              "      <td>-0.001192</td>\n",
              "      <td>0.007312</td>\n",
              "      <td>0.008496</td>\n",
              "      <td>-0.004525</td>\n",
              "      <td>-0.066312</td>\n",
              "      <td>0.041338</td>\n",
              "      <td>-0.045347</td>\n",
              "      <td>...</td>\n",
              "      <td>-0.013004</td>\n",
              "      <td>-0.020029</td>\n",
              "      <td>-0.027154</td>\n",
              "      <td>-0.035095</td>\n",
              "      <td>-0.012894</td>\n",
              "      <td>-0.019378</td>\n",
              "      <td>-0.816112</td>\n",
              "      <td>-0.010594</td>\n",
              "      <td>-0.019598</td>\n",
              "      <td>1.000000</td>\n",
              "    </tr>\n",
              "  </tbody>\n",
              "</table>\n",
              "<p>73 rows × 73 columns</p>\n",
              "</div>"
            ],
            "text/plain": [
              "                     zipcode   stories    target  Year built  Remodeled_year  \\\n",
              "zipcode             1.000000 -0.055228  0.100541    0.004596       -0.000385   \n",
              "stories            -0.055228  1.000000  0.019610   -0.000702        0.005721   \n",
              "target              0.100541  0.019610  1.000000    0.004003        0.011444   \n",
              "Year built          0.004596 -0.000702  0.004003    1.000000       -0.000789   \n",
              "Remodeled_year     -0.000385  0.005721  0.011444   -0.000789        1.000000   \n",
              "...                      ...       ...       ...         ...             ...   \n",
              "fireplace1_living  -0.020121 -0.003585  0.013180   -0.000106        0.003550   \n",
              "fireplace1_other   -0.192326 -0.010677 -0.162947    0.001460       -0.009602   \n",
              "fireplace1_special -0.015671 -0.005578 -0.005383   -0.000058        0.000985   \n",
              "fireplace1_wood     0.006744  0.003083  0.008403   -0.000108        0.001394   \n",
              "fireplace1_yes      0.149200 -0.059156  0.117143   -0.001192        0.007312   \n",
              "\n",
              "                     lotsize  Price/sqft  school_count  schools_rating_ave  \\\n",
              "zipcode            -0.011919    0.000287     -0.056308            0.078857   \n",
              "stories             0.030845   -0.000252      0.035018           -0.005088   \n",
              "target             -0.046452    0.017127     -0.103566            0.293106   \n",
              "Year built          0.000609    0.000085      0.001869            0.001680   \n",
              "Remodeled_year     -0.003355   -0.000768     -0.000611            0.020587   \n",
              "...                      ...         ...           ...                 ...   \n",
              "fireplace1_living   0.024797   -0.000488      0.014347            0.005008   \n",
              "fireplace1_other   -0.018403    0.005877      0.017902           -0.065070   \n",
              "fireplace1_special  0.056545   -0.000626      0.014076           -0.013495   \n",
              "fireplace1_wood     0.024580   -0.000635      0.020441            0.006596   \n",
              "fireplace1_yes      0.008496   -0.004525     -0.066312            0.041338   \n",
              "\n",
              "                    schools_distance_ave  ...  fireplace1_family  \\\n",
              "zipcode                        -0.093419  ...          -0.010607   \n",
              "stories                        -0.005897  ...           0.000882   \n",
              "target                         -0.026199  ...           0.016946   \n",
              "Year built                     -0.000870  ...          -0.000071   \n",
              "Remodeled_year                  0.004057  ...           0.000224   \n",
              "...                                  ...  ...                ...   \n",
              "fireplace1_living              -0.003434  ...          -0.001162   \n",
              "fireplace1_other                0.061887  ...          -0.048940   \n",
              "fireplace1_special              0.004387  ...          -0.000635   \n",
              "fireplace1_wood                -0.005247  ...          -0.001175   \n",
              "fireplace1_yes                 -0.045347  ...          -0.013004   \n",
              "\n",
              "                    fireplace1_familyrm  fireplace1_fireplace  fireplace1_gas  \\\n",
              "zipcode                       -0.039878              0.056545       -0.023892   \n",
              "stories                       -0.003270              0.014924        0.005936   \n",
              "target                         0.016685              0.042784        0.034486   \n",
              "Year built                    -0.000110             -0.000149       -0.000193   \n",
              "Remodeled_year                 0.002216             -0.000169        0.002001   \n",
              "...                                 ...                   ...             ...   \n",
              "fireplace1_living             -0.001790             -0.002427       -0.003136   \n",
              "fireplace1_other              -0.075379             -0.102191       -0.132078   \n",
              "fireplace1_special            -0.000979             -0.001327       -0.001715   \n",
              "fireplace1_wood               -0.001810             -0.002454       -0.003172   \n",
              "fireplace1_yes                -0.020029             -0.027154       -0.035095   \n",
              "\n",
              "                    fireplace1_great  fireplace1_living  fireplace1_other  \\\n",
              "zipcode                    -0.025415          -0.020121         -0.192326   \n",
              "stories                    -0.002948          -0.003585         -0.010677   \n",
              "target                      0.009820           0.013180         -0.162947   \n",
              "Year built                 -0.000071          -0.000106          0.001460   \n",
              "Remodeled_year              0.001121           0.003550         -0.009602   \n",
              "...                              ...                ...               ...   \n",
              "fireplace1_living          -0.001152           1.000000         -0.072929   \n",
              "fireplace1_other           -0.048527          -0.072929          1.000000   \n",
              "fireplace1_special         -0.000630          -0.000947         -0.039870   \n",
              "fireplace1_wood            -0.001165          -0.001751         -0.073754   \n",
              "fireplace1_yes             -0.012894          -0.019378         -0.816112   \n",
              "\n",
              "                    fireplace1_special  fireplace1_wood  fireplace1_yes  \n",
              "zipcode                      -0.015671         0.006744        0.149200  \n",
              "stories                      -0.005578         0.003083       -0.059156  \n",
              "target                       -0.005383         0.008403        0.117143  \n",
              "Year built                   -0.000058        -0.000108       -0.001192  \n",
              "Remodeled_year                0.000985         0.001394        0.007312  \n",
              "...                                ...              ...             ...  \n",
              "fireplace1_living            -0.000947        -0.001751       -0.019378  \n",
              "fireplace1_other             -0.039870        -0.073754       -0.816112  \n",
              "fireplace1_special            1.000000        -0.000957       -0.010594  \n",
              "fireplace1_wood              -0.000957         1.000000       -0.019598  \n",
              "fireplace1_yes               -0.010594        -0.019598        1.000000  \n",
              "\n",
              "[73 rows x 73 columns]"
            ]
          },
          "execution_count": 78,
          "metadata": {},
          "output_type": "execute_result"
        }
      ],
      "source": [
        "# посмотри на корреляцию\n",
        "df_dummies.corr()"
      ]
    },
    {
      "cell_type": "markdown",
      "metadata": {
        "id": "FbNOw6jL_vZp"
      },
      "source": [
        "## Models"
      ]
    },
    {
      "cell_type": "code",
      "execution_count": 79,
      "metadata": {
        "id": "ngvTTi7y7El-"
      },
      "outputs": [],
      "source": [
        "X = df_dummies.drop(['target'], axis = 1)\n",
        "y = df_dummies['target']"
      ]
    },
    {
      "cell_type": "code",
      "execution_count": 80,
      "metadata": {
        "colab": {
          "base_uri": "https://localhost:8080/"
        },
        "id": "AcCV7D6eCZ3e",
        "outputId": "14105d86-3f61-4670-ebb5-7e96f3ac443c"
      },
      "outputs": [
        {
          "data": {
            "text/plain": [
              "((229075, 72), (76359, 72), (229075,), (76359,))"
            ]
          },
          "execution_count": 80,
          "metadata": {},
          "output_type": "execute_result"
        }
      ],
      "source": [
        "from sklearn.model_selection import train_test_split\n",
        "X_train, X_test, y_train, y_test = train_test_split(X, y, test_size=0.25, random_state=42)\n",
        "\n",
        "X_train.shape , X_test.shape, y_train.shape, y_test.shape"
      ]
    },
    {
      "cell_type": "code",
      "execution_count": 81,
      "metadata": {},
      "outputs": [
        {
          "name": "stdout",
          "output_type": "stream",
          "text": [
            "Признаки, которые вошли в список отобранных:\n",
            " ['zipcode' 'Year built' 'lotsize' 'Price/sqft' 'school_count'\n",
            " 'schools_rating_ave' 'schools_distance_ave' 'beds_n'\n",
            " 'propertyType_2 story' 'propertyType_apartment' 'propertyType_condo'\n",
            " 'propertyType_condo/row home/co op' 'propertyType_contemporary'\n",
            " 'propertyType_cooperative' 'propertyType_high rise'\n",
            " 'propertyType_multi family' 'propertyType_other'\n",
            " 'propertyType_single family' 'propertyType_townhouse'\n",
            " 'propertyType_transitional' 'Heating_electric' 'Heating_forced'\n",
            " 'Heating_other' 'Status_active' 'Status_contingent' 'Status_for sale'\n",
            " 'Status_for sale construction' 'Status_foreclosed' 'Status_other'\n",
            " 'Status_p' 'Status_pre-foreclosure' 'Status_under contract'\n",
            " 'fireplace1_1' 'fireplace1_2' 'fireplace1_3' 'fireplace1_ceiling'\n",
            " 'fireplace1_fireplace' 'fireplace1_gas' 'fireplace1_other'\n",
            " 'fireplace1_yes']\n"
          ]
        }
      ],
      "source": [
        "# Поскольку признаков много, выбирем лучшие с помощью функции в SelectKBest\n",
        "selector = feature_selection.SelectKBest(\n",
        "    score_func = feature_selection.f_regression,\n",
        "    k = 40\n",
        ")\n",
        "selector.fit(X_train, y_train)\n",
        "\n",
        "# оставляем только полученные 25 признаков\n",
        "best_features = selector.get_feature_names_out()\n",
        "X_train = X_train[best_features]\n",
        "\n",
        "print('Признаки, которые вошли в список отобранных:\\n', best_features)"
      ]
    },
    {
      "cell_type": "code",
      "execution_count": 82,
      "metadata": {
        "id": "CXmMjsDf_F9E"
      },
      "outputs": [],
      "source": [
        "#Сделаем отбор этих признаков\n",
        "df_new=df_dummies[['target','zipcode' ,'stories', 'lotsize', 'school_count', 'schools_rating_ave', 'schools_distance_ave' ,'beds_n',\n",
        " 'propertyType_1 story', 'propertyType_2 story', 'propertyType_apartment',\n",
        " 'propertyType_condo','propertyType_condo/row home/co op',\n",
        " 'propertyType_contemporary', 'propertyType_cooperative',\n",
        " 'propertyType_high rise' ,'propertyType_multi family', 'propertyType_other',\n",
        " 'propertyType_single family', 'propertyType_townhouse',\n",
        " 'propertyType_transitional', 'Heating_electric', 'Heating_forced',\n",
        " 'Status_active' ,'Status_contingent' ,'Status_for sale',\n",
        " 'Status_for sale construction', 'Status_foreclosed', 'Status_other',\n",
        " 'Status_p', 'Status_pre-foreclosure' ,'Status_under contract',\n",
        " 'fireplace1_1' ,'fireplace1_2' ,'fireplace1_3' ,'fireplace1_ceiling',\n",
        " 'fireplace1_fireplace', 'fireplace1_gas', 'fireplace1_other',\n",
        " 'fireplace1_yes']]"
      ]
    },
    {
      "cell_type": "code",
      "execution_count": 81,
      "metadata": {},
      "outputs": [],
      "source": [
        "#X_train = pd.DataFrame(X_train, columns = best_features) к сожалению, выдает ошибку"
      ]
    },
    {
      "cell_type": "code",
      "execution_count": 83,
      "metadata": {},
      "outputs": [],
      "source": [
        "X = df_new.drop(['target'], axis = 1)\n",
        "y = df_new['target']"
      ]
    },
    {
      "cell_type": "code",
      "execution_count": 84,
      "metadata": {},
      "outputs": [],
      "source": [
        "X_train, X_test, y_train, y_test = train_test_split(X, y, test_size=0.25, random_state=42)"
      ]
    },
    {
      "cell_type": "markdown",
      "metadata": {},
      "source": [
        "xgb.XGBRegressor()"
      ]
    },
    {
      "cell_type": "code",
      "execution_count": 85,
      "metadata": {},
      "outputs": [
        {
          "data": {
            "text/plain": [
              "15543178146.894476"
            ]
          },
          "execution_count": 85,
          "metadata": {},
          "output_type": "execute_result"
        }
      ],
      "source": [
        "model = xgb.XGBRegressor()\n",
        "\n",
        "# Обучение модели\n",
        "model.fit(X_train, y_train)\n",
        "from sklearn.metrics import mean_squared_error\n",
        "\n",
        "# Вычисление предсказаний и расчет функции потерь\n",
        "y_pred = model.predict(X_test)\n",
        "mse = mean_squared_error(y_test, y_pred)\n",
        "mse"
      ]
    },
    {
      "cell_type": "markdown",
      "metadata": {},
      "source": [
        "MSE 15543178146.894476, при этом очень быстро работает"
      ]
    },
    {
      "cell_type": "code",
      "execution_count": 86,
      "metadata": {},
      "outputs": [
        {
          "data": {
            "text/plain": [
              "<Axes: title={'center': 'Feature importance'}, xlabel='F score', ylabel='Features'>"
            ]
          },
          "execution_count": 86,
          "metadata": {},
          "output_type": "execute_result"
        },
        {
          "data": {
            "image/png": "[encoded data removed]",
            "text/plain": [
              "<Figure size 1500x1500 with 1 Axes>"
            ]
          },
          "metadata": {},
          "output_type": "display_data"
        }
      ],
      "source": [
        "fig, ax = plt.subplots(figsize = (15,15))\n",
        "xgb.plot_importance(model, ax = ax, height=0.5)"
      ]
    },
    {
      "cell_type": "markdown",
      "metadata": {},
      "source": [
        "Значимых отобранных признаков не так много, поэтому модель достаточно слабая."
      ]
    },
    {
      "cell_type": "code",
      "execution_count": 90,
      "metadata": {},
      "outputs": [
        {
          "data": {
            "text/plain": [
              "12512220857.570812"
            ]
          },
          "execution_count": 90,
          "metadata": {},
          "output_type": "execute_result"
        }
      ],
      "source": [
        "# попробуем улучшить метрики\n",
        "from sklearn import metrics\n",
        "from sklearn import feature_selection\n",
        "import xgboost as xgb\n",
        "\n",
        "model = xgb.XGBRegressor(max_depth=8, learning_rate=0.2, n_estimators=1100)\n",
        "# Обучение модели\n",
        "model.fit(X_train, y_train)\n",
        "\n",
        "y_pred = model.predict(X_test)\n",
        "mse = mean_squared_error(y_test, y_pred)\n",
        "mse"
      ]
    },
    {
      "cell_type": "markdown",
      "metadata": {},
      "source": [
        "RandomForestRegressor"
      ]
    },
    {
      "cell_type": "code",
      "execution_count": 96,
      "metadata": {},
      "outputs": [
        {
          "data": {
            "text/plain": [
              "13488479577.965797"
            ]
          },
          "execution_count": 96,
          "metadata": {},
          "output_type": "execute_result"
        }
      ],
      "source": [
        "from sklearn.ensemble import RandomForestClassifier\n",
        "\n",
        "clf = RandomForestRegressor(max_depth=1000, n_estimators=10, random_state=42)\n",
        "# Обучаем модель\n",
        "clf.fit(X_train, y_train)\n",
        "\n",
        "y_pred = clf.predict(X_test)\n",
        "mse = mean_squared_error(y_test, y_pred)\n",
        "mse"
      ]
    },
    {
      "cell_type": "markdown",
      "metadata": {},
      "source": [
        "mse 13488479577.965797 результат выше"
      ]
    },
    {
      "cell_type": "markdown",
      "metadata": {},
      "source": [
        "lgb.LGBMRegressor"
      ]
    },
    {
      "cell_type": "code",
      "execution_count": 89,
      "metadata": {},
      "outputs": [
        {
          "name": "stdout",
          "output_type": "stream",
          "text": [
            "[LightGBM] [Warning] Found whitespace in feature_names, replace with underlines\n",
            "[LightGBM] [Info] Auto-choosing row-wise multi-threading, the overhead of testing was 0.009998 seconds.\n",
            "You can set `force_row_wise=true` to remove the overhead.\n",
            "And if memory is not enough, you can set `force_col_wise=true`.\n",
            "[LightGBM] [Info] Total Bins 1350\n",
            "[LightGBM] [Info] Number of data points in the train set: 229075, number of used features: 39\n",
            "[LightGBM] [Info] Start training from score 305719.688600\n"
          ]
        },
        {
          "data": {
            "text/plain": [
              "17337498500.740204"
            ]
          },
          "execution_count": 89,
          "metadata": {},
          "output_type": "execute_result"
        }
      ],
      "source": [
        "import lightgbm as lgb\n",
        "\n",
        "# Создание и обучение модели\n",
        "model = lgb.LGBMRegressor()\n",
        "model.fit(X_train, y_train)\n",
        "\n",
        "# Получение предсказаний\n",
        "y_pred = model.predict(X_test)\n",
        "\n",
        "mse = mean_squared_error(y_test, y_pred)\n",
        "mse"
      ]
    },
    {
      "cell_type": "markdown",
      "metadata": {},
      "source": [
        "MSE 17337498500. выше, чем у RandomForestRegressor"
      ]
    },
    {
      "cell_type": "markdown",
      "metadata": {},
      "source": [
        "CatBoostRegressor"
      ]
    },
    {
      "cell_type": "code",
      "execution_count": 110,
      "metadata": {},
      "outputs": [
        {
          "name": "stdout",
          "output_type": "stream",
          "text": [
            "Learning rate set to 0.096618\n",
            "0:\tlearn: 187189.4727262\ttotal: 15ms\tremaining: 15s\n",
            "1:\tlearn: 183493.2646428\ttotal: 28ms\tremaining: 14s\n",
            "2:\tlearn: 180333.9443141\ttotal: 40.5ms\tremaining: 13.5s\n",
            "3:\tlearn: 177621.5774100\ttotal: 53.1ms\tremaining: 13.2s\n",
            "4:\tlearn: 175270.6028649\ttotal: 67.7ms\tremaining: 13.5s\n",
            "5:\tlearn: 173038.1406626\ttotal: 80.8ms\tremaining: 13.4s\n",
            "6:\tlearn: 171308.3774483\ttotal: 94.3ms\tremaining: 13.4s\n",
            "7:\tlearn: 169693.7068666\ttotal: 108ms\tremaining: 13.4s\n",
            "8:\tlearn: 168205.0367034\ttotal: 122ms\tremaining: 13.4s\n",
            "9:\tlearn: 166998.3165514\ttotal: 136ms\tremaining: 13.5s\n",
            "10:\tlearn: 165940.9457021\ttotal: 150ms\tremaining: 13.5s\n",
            "11:\tlearn: 165092.4358607\ttotal: 164ms\tremaining: 13.5s\n",
            "12:\tlearn: 164197.4965971\ttotal: 178ms\tremaining: 13.5s\n",
            "13:\tlearn: 163499.8178479\ttotal: 192ms\tremaining: 13.5s\n",
            "14:\tlearn: 162594.1835036\ttotal: 209ms\tremaining: 13.7s\n",
            "15:\tlearn: 161852.0950070\ttotal: 224ms\tremaining: 13.8s\n",
            "16:\tlearn: 161256.5919945\ttotal: 238ms\tremaining: 13.8s\n",
            "17:\tlearn: 160566.2407457\ttotal: 253ms\tremaining: 13.8s\n",
            "18:\tlearn: 160061.6537717\ttotal: 267ms\tremaining: 13.8s\n",
            "19:\tlearn: 159588.1663916\ttotal: 281ms\tremaining: 13.8s\n",
            "20:\tlearn: 158984.4749498\ttotal: 296ms\tremaining: 13.8s\n",
            "21:\tlearn: 158535.2759340\ttotal: 310ms\tremaining: 13.8s\n",
            "22:\tlearn: 158089.6048142\ttotal: 323ms\tremaining: 13.7s\n",
            "23:\tlearn: 157709.9032006\ttotal: 337ms\tremaining: 13.7s\n",
            "24:\tlearn: 157276.2775842\ttotal: 350ms\tremaining: 13.6s\n",
            "25:\tlearn: 156921.6015573\ttotal: 363ms\tremaining: 13.6s\n",
            "26:\tlearn: 156607.6035959\ttotal: 375ms\tremaining: 13.5s\n",
            "27:\tlearn: 156096.9035502\ttotal: 390ms\tremaining: 13.5s\n",
            "28:\tlearn: 155644.4311036\ttotal: 405ms\tremaining: 13.6s\n",
            "29:\tlearn: 155177.7174105\ttotal: 421ms\tremaining: 13.6s\n",
            "30:\tlearn: 154867.6793861\ttotal: 436ms\tremaining: 13.6s\n",
            "31:\tlearn: 154601.0753250\ttotal: 450ms\tremaining: 13.6s\n",
            "32:\tlearn: 154204.2688690\ttotal: 465ms\tremaining: 13.6s\n",
            "33:\tlearn: 153901.4702350\ttotal: 478ms\tremaining: 13.6s\n",
            "34:\tlearn: 153571.3646016\ttotal: 491ms\tremaining: 13.5s\n",
            "35:\tlearn: 153244.5585252\ttotal: 506ms\tremaining: 13.6s\n",
            "36:\tlearn: 152989.7423023\ttotal: 520ms\tremaining: 13.5s\n",
            "37:\tlearn: 152801.3577977\ttotal: 534ms\tremaining: 13.5s\n",
            "38:\tlearn: 152546.5299242\ttotal: 549ms\tremaining: 13.5s\n",
            "39:\tlearn: 152305.2636386\ttotal: 563ms\tremaining: 13.5s\n",
            "40:\tlearn: 152126.7620319\ttotal: 577ms\tremaining: 13.5s\n",
            "41:\tlearn: 151917.1215568\ttotal: 590ms\tremaining: 13.5s\n",
            "42:\tlearn: 151603.4178738\ttotal: 606ms\tremaining: 13.5s\n",
            "43:\tlearn: 151432.4700685\ttotal: 619ms\tremaining: 13.5s\n",
            "44:\tlearn: 151176.7006633\ttotal: 634ms\tremaining: 13.5s\n",
            "45:\tlearn: 151048.4385793\ttotal: 650ms\tremaining: 13.5s\n",
            "46:\tlearn: 150817.0127954\ttotal: 665ms\tremaining: 13.5s\n",
            "47:\tlearn: 150583.4211168\ttotal: 678ms\tremaining: 13.5s\n",
            "48:\tlearn: 150315.6977060\ttotal: 692ms\tremaining: 13.4s\n",
            "49:\tlearn: 150088.6883061\ttotal: 705ms\tremaining: 13.4s\n",
            "50:\tlearn: 149861.9230039\ttotal: 718ms\tremaining: 13.4s\n",
            "51:\tlearn: 149644.1201206\ttotal: 731ms\tremaining: 13.3s\n",
            "52:\tlearn: 149498.7562987\ttotal: 744ms\tremaining: 13.3s\n",
            "53:\tlearn: 149327.7910531\ttotal: 756ms\tremaining: 13.2s\n",
            "54:\tlearn: 149212.3556289\ttotal: 767ms\tremaining: 13.2s\n",
            "55:\tlearn: 149101.0650111\ttotal: 780ms\tremaining: 13.1s\n",
            "56:\tlearn: 148937.3166319\ttotal: 793ms\tremaining: 13.1s\n",
            "57:\tlearn: 148729.3733809\ttotal: 806ms\tremaining: 13.1s\n",
            "58:\tlearn: 148631.2076043\ttotal: 817ms\tremaining: 13s\n",
            "59:\tlearn: 148468.0144736\ttotal: 829ms\tremaining: 13s\n",
            "60:\tlearn: 148362.3893066\ttotal: 843ms\tremaining: 13s\n",
            "61:\tlearn: 148267.2839526\ttotal: 859ms\tremaining: 13s\n",
            "62:\tlearn: 148189.6931286\ttotal: 878ms\tremaining: 13.1s\n",
            "63:\tlearn: 148088.3049998\ttotal: 892ms\tremaining: 13s\n",
            "64:\tlearn: 147899.5286960\ttotal: 908ms\tremaining: 13.1s\n",
            "65:\tlearn: 147800.8890472\ttotal: 923ms\tremaining: 13.1s\n",
            "66:\tlearn: 147676.2534481\ttotal: 938ms\tremaining: 13.1s\n",
            "67:\tlearn: 147559.0704040\ttotal: 951ms\tremaining: 13s\n",
            "68:\tlearn: 147381.7826820\ttotal: 966ms\tremaining: 13s\n",
            "69:\tlearn: 147217.4820382\ttotal: 980ms\tremaining: 13s\n",
            "70:\tlearn: 147118.0448014\ttotal: 993ms\tremaining: 13s\n",
            "71:\tlearn: 147017.1310196\ttotal: 1.01s\tremaining: 13s\n",
            "72:\tlearn: 146828.3815520\ttotal: 1.02s\tremaining: 13s\n",
            "73:\tlearn: 146744.0073531\ttotal: 1.03s\tremaining: 13s\n",
            "74:\tlearn: 146582.2439010\ttotal: 1.05s\tremaining: 12.9s\n",
            "75:\tlearn: 146470.7428281\ttotal: 1.06s\tremaining: 12.9s\n",
            "76:\tlearn: 146411.5886062\ttotal: 1.08s\tremaining: 12.9s\n",
            "77:\tlearn: 146271.6962437\ttotal: 1.09s\tremaining: 12.9s\n",
            "78:\tlearn: 146153.8154553\ttotal: 1.1s\tremaining: 12.8s\n",
            "79:\tlearn: 146025.2584917\ttotal: 1.11s\tremaining: 12.8s\n",
            "80:\tlearn: 145917.5987551\ttotal: 1.13s\tremaining: 12.8s\n",
            "81:\tlearn: 145863.6326272\ttotal: 1.14s\tremaining: 12.7s\n",
            "82:\tlearn: 145797.7564242\ttotal: 1.15s\tremaining: 12.7s\n",
            "83:\tlearn: 145645.7325154\ttotal: 1.16s\tremaining: 12.7s\n",
            "84:\tlearn: 145513.4309485\ttotal: 1.17s\tremaining: 12.6s\n",
            "85:\tlearn: 145419.7347793\ttotal: 1.19s\tremaining: 12.6s\n",
            "86:\tlearn: 145340.8244055\ttotal: 1.2s\tremaining: 12.6s\n",
            "87:\tlearn: 145263.0994699\ttotal: 1.21s\tremaining: 12.6s\n",
            "88:\tlearn: 145140.2833646\ttotal: 1.22s\tremaining: 12.5s\n",
            "89:\tlearn: 144955.5373477\ttotal: 1.24s\tremaining: 12.5s\n",
            "90:\tlearn: 144788.1269423\ttotal: 1.25s\tremaining: 12.5s\n",
            "91:\tlearn: 144693.2631613\ttotal: 1.27s\tremaining: 12.5s\n",
            "92:\tlearn: 144560.5629950\ttotal: 1.28s\tremaining: 12.5s\n",
            "93:\tlearn: 144443.2101539\ttotal: 1.29s\tremaining: 12.5s\n",
            "94:\tlearn: 144358.4831265\ttotal: 1.3s\tremaining: 12.4s\n",
            "95:\tlearn: 144215.2360244\ttotal: 1.32s\tremaining: 12.4s\n",
            "96:\tlearn: 144066.6988461\ttotal: 1.33s\tremaining: 12.4s\n",
            "97:\tlearn: 143978.0685806\ttotal: 1.34s\tremaining: 12.4s\n",
            "98:\tlearn: 143912.3615407\ttotal: 1.36s\tremaining: 12.3s\n",
            "99:\tlearn: 143855.8522886\ttotal: 1.37s\tremaining: 12.3s\n",
            "100:\tlearn: 143737.1329401\ttotal: 1.38s\tremaining: 12.3s\n",
            "101:\tlearn: 143679.2359825\ttotal: 1.4s\tremaining: 12.3s\n",
            "102:\tlearn: 143570.5885481\ttotal: 1.41s\tremaining: 12.3s\n",
            "103:\tlearn: 143416.1317222\ttotal: 1.43s\tremaining: 12.3s\n",
            "104:\tlearn: 143341.3530649\ttotal: 1.44s\tremaining: 12.3s\n",
            "105:\tlearn: 143271.8684051\ttotal: 1.46s\tremaining: 12.3s\n",
            "106:\tlearn: 143225.2463533\ttotal: 1.47s\tremaining: 12.3s\n",
            "107:\tlearn: 143166.3405782\ttotal: 1.49s\tremaining: 12.3s\n",
            "108:\tlearn: 143068.4086412\ttotal: 1.5s\tremaining: 12.3s\n",
            "109:\tlearn: 142946.8611283\ttotal: 1.52s\tremaining: 12.3s\n",
            "110:\tlearn: 142882.1654356\ttotal: 1.53s\tremaining: 12.3s\n",
            "111:\tlearn: 142834.9154631\ttotal: 1.54s\tremaining: 12.3s\n",
            "112:\tlearn: 142774.8345107\ttotal: 1.56s\tremaining: 12.2s\n",
            "113:\tlearn: 142689.3503591\ttotal: 1.57s\tremaining: 12.2s\n",
            "114:\tlearn: 142607.6691784\ttotal: 1.58s\tremaining: 12.2s\n",
            "115:\tlearn: 142537.9335505\ttotal: 1.6s\tremaining: 12.2s\n",
            "116:\tlearn: 142516.3715881\ttotal: 1.61s\tremaining: 12.1s\n",
            "117:\tlearn: 142443.0557543\ttotal: 1.62s\tremaining: 12.1s\n",
            "118:\tlearn: 142361.7195057\ttotal: 1.63s\tremaining: 12.1s\n",
            "119:\tlearn: 142311.4586062\ttotal: 1.65s\tremaining: 12.1s\n",
            "120:\tlearn: 142239.1833200\ttotal: 1.66s\tremaining: 12s\n",
            "121:\tlearn: 142160.3288056\ttotal: 1.67s\tremaining: 12s\n",
            "122:\tlearn: 142044.3133427\ttotal: 1.68s\tremaining: 12s\n",
            "123:\tlearn: 141995.6524586\ttotal: 1.7s\tremaining: 12s\n",
            "124:\tlearn: 141899.4285926\ttotal: 1.71s\tremaining: 12s\n",
            "125:\tlearn: 141804.5231705\ttotal: 1.73s\tremaining: 12s\n",
            "126:\tlearn: 141750.9852424\ttotal: 1.74s\tremaining: 12s\n",
            "127:\tlearn: 141650.3168751\ttotal: 1.75s\tremaining: 11.9s\n",
            "128:\tlearn: 141579.4687467\ttotal: 1.76s\tremaining: 11.9s\n",
            "129:\tlearn: 141522.5355917\ttotal: 1.78s\tremaining: 11.9s\n",
            "130:\tlearn: 141464.0647881\ttotal: 1.79s\tremaining: 11.9s\n",
            "131:\tlearn: 141348.6650077\ttotal: 1.8s\tremaining: 11.9s\n",
            "132:\tlearn: 141323.5834981\ttotal: 1.81s\tremaining: 11.8s\n",
            "133:\tlearn: 141221.5288273\ttotal: 1.83s\tremaining: 11.8s\n",
            "134:\tlearn: 141155.9609461\ttotal: 1.84s\tremaining: 11.8s\n",
            "135:\tlearn: 141085.0866442\ttotal: 1.85s\tremaining: 11.8s\n",
            "136:\tlearn: 141032.9587618\ttotal: 1.86s\tremaining: 11.7s\n",
            "137:\tlearn: 140986.7471256\ttotal: 1.87s\tremaining: 11.7s\n",
            "138:\tlearn: 140924.8855626\ttotal: 1.89s\tremaining: 11.7s\n",
            "139:\tlearn: 140835.0633971\ttotal: 1.9s\tremaining: 11.7s\n",
            "140:\tlearn: 140751.0033081\ttotal: 1.91s\tremaining: 11.6s\n",
            "141:\tlearn: 140699.7937396\ttotal: 1.92s\tremaining: 11.6s\n",
            "142:\tlearn: 140582.6884758\ttotal: 1.94s\tremaining: 11.6s\n",
            "143:\tlearn: 140505.3248902\ttotal: 1.95s\tremaining: 11.6s\n",
            "144:\tlearn: 140464.1654904\ttotal: 1.97s\tremaining: 11.6s\n",
            "145:\tlearn: 140403.5328691\ttotal: 1.98s\tremaining: 11.6s\n",
            "146:\tlearn: 140315.9808125\ttotal: 1.99s\tremaining: 11.6s\n",
            "147:\tlearn: 140281.3078406\ttotal: 2s\tremaining: 11.5s\n",
            "148:\tlearn: 140216.5415981\ttotal: 2.02s\tremaining: 11.5s\n",
            "149:\tlearn: 140170.2759178\ttotal: 2.03s\tremaining: 11.5s\n",
            "150:\tlearn: 140104.5146290\ttotal: 2.04s\tremaining: 11.5s\n",
            "151:\tlearn: 140058.0367599\ttotal: 2.06s\tremaining: 11.5s\n",
            "152:\tlearn: 139964.4046183\ttotal: 2.07s\tremaining: 11.5s\n",
            "153:\tlearn: 139881.5672432\ttotal: 2.08s\tremaining: 11.4s\n",
            "154:\tlearn: 139789.2682854\ttotal: 2.1s\tremaining: 11.4s\n",
            "155:\tlearn: 139733.1500624\ttotal: 2.11s\tremaining: 11.4s\n",
            "156:\tlearn: 139653.4101300\ttotal: 2.12s\tremaining: 11.4s\n",
            "157:\tlearn: 139603.1228977\ttotal: 2.14s\tremaining: 11.4s\n",
            "158:\tlearn: 139561.2314199\ttotal: 2.15s\tremaining: 11.4s\n",
            "159:\tlearn: 139488.4073965\ttotal: 2.16s\tremaining: 11.4s\n",
            "160:\tlearn: 139438.2622175\ttotal: 2.18s\tremaining: 11.3s\n",
            "161:\tlearn: 139396.0951299\ttotal: 2.19s\tremaining: 11.3s\n",
            "162:\tlearn: 139339.7088618\ttotal: 2.2s\tremaining: 11.3s\n",
            "163:\tlearn: 139259.2465869\ttotal: 2.21s\tremaining: 11.3s\n",
            "164:\tlearn: 139210.2644362\ttotal: 2.23s\tremaining: 11.3s\n",
            "165:\tlearn: 139167.5849207\ttotal: 2.24s\tremaining: 11.2s\n",
            "166:\tlearn: 139108.7425845\ttotal: 2.25s\tremaining: 11.2s\n",
            "167:\tlearn: 139014.0294565\ttotal: 2.26s\tremaining: 11.2s\n",
            "168:\tlearn: 138943.6273036\ttotal: 2.28s\tremaining: 11.2s\n",
            "169:\tlearn: 138894.6187106\ttotal: 2.29s\tremaining: 11.2s\n",
            "170:\tlearn: 138861.7971568\ttotal: 2.3s\tremaining: 11.2s\n",
            "171:\tlearn: 138801.1546790\ttotal: 2.31s\tremaining: 11.1s\n",
            "172:\tlearn: 138750.9755202\ttotal: 2.33s\tremaining: 11.1s\n",
            "173:\tlearn: 138714.1945424\ttotal: 2.34s\tremaining: 11.1s\n",
            "174:\tlearn: 138661.1908877\ttotal: 2.35s\tremaining: 11.1s\n",
            "175:\tlearn: 138628.1200640\ttotal: 2.36s\tremaining: 11.1s\n",
            "176:\tlearn: 138576.3854338\ttotal: 2.38s\tremaining: 11s\n",
            "177:\tlearn: 138535.1548998\ttotal: 2.39s\tremaining: 11s\n",
            "178:\tlearn: 138496.8779480\ttotal: 2.4s\tremaining: 11s\n",
            "179:\tlearn: 138453.1237555\ttotal: 2.41s\tremaining: 11s\n",
            "180:\tlearn: 138384.2667921\ttotal: 2.43s\tremaining: 11s\n",
            "181:\tlearn: 138325.9836073\ttotal: 2.44s\tremaining: 11s\n",
            "182:\tlearn: 138290.3324155\ttotal: 2.45s\tremaining: 10.9s\n",
            "183:\tlearn: 138227.2046913\ttotal: 2.46s\tremaining: 10.9s\n",
            "184:\tlearn: 138164.3894411\ttotal: 2.48s\tremaining: 10.9s\n",
            "185:\tlearn: 138100.9791421\ttotal: 2.49s\tremaining: 10.9s\n",
            "186:\tlearn: 138051.7367317\ttotal: 2.5s\tremaining: 10.9s\n",
            "187:\tlearn: 137979.9851328\ttotal: 2.51s\tremaining: 10.9s\n",
            "188:\tlearn: 137921.5512259\ttotal: 2.53s\tremaining: 10.8s\n",
            "189:\tlearn: 137825.8563497\ttotal: 2.54s\tremaining: 10.8s\n",
            "190:\tlearn: 137794.5625128\ttotal: 2.55s\tremaining: 10.8s\n",
            "191:\tlearn: 137720.2700395\ttotal: 2.57s\tremaining: 10.8s\n",
            "192:\tlearn: 137670.3839010\ttotal: 2.58s\tremaining: 10.8s\n",
            "193:\tlearn: 137621.4863978\ttotal: 2.59s\tremaining: 10.8s\n",
            "194:\tlearn: 137585.6356291\ttotal: 2.61s\tremaining: 10.8s\n",
            "195:\tlearn: 137537.5483282\ttotal: 2.62s\tremaining: 10.8s\n",
            "196:\tlearn: 137481.3885680\ttotal: 2.64s\tremaining: 10.7s\n",
            "197:\tlearn: 137426.1463079\ttotal: 2.65s\tremaining: 10.7s\n",
            "198:\tlearn: 137388.9311279\ttotal: 2.67s\tremaining: 10.7s\n",
            "199:\tlearn: 137346.1707594\ttotal: 2.68s\tremaining: 10.7s\n",
            "200:\tlearn: 137300.9024997\ttotal: 2.69s\tremaining: 10.7s\n",
            "201:\tlearn: 137261.0780927\ttotal: 2.7s\tremaining: 10.7s\n",
            "202:\tlearn: 137225.0977786\ttotal: 2.72s\tremaining: 10.7s\n",
            "203:\tlearn: 137198.9031024\ttotal: 2.73s\tremaining: 10.6s\n",
            "204:\tlearn: 137143.6850012\ttotal: 2.74s\tremaining: 10.6s\n",
            "205:\tlearn: 137103.3617108\ttotal: 2.75s\tremaining: 10.6s\n",
            "206:\tlearn: 137043.4507403\ttotal: 2.77s\tremaining: 10.6s\n",
            "207:\tlearn: 137004.0886367\ttotal: 2.78s\tremaining: 10.6s\n",
            "208:\tlearn: 136971.2954018\ttotal: 2.8s\tremaining: 10.6s\n",
            "209:\tlearn: 136942.5799319\ttotal: 2.81s\tremaining: 10.6s\n",
            "210:\tlearn: 136914.3277131\ttotal: 2.82s\tremaining: 10.6s\n",
            "211:\tlearn: 136884.7544678\ttotal: 2.84s\tremaining: 10.5s\n",
            "212:\tlearn: 136836.5120450\ttotal: 2.85s\tremaining: 10.5s\n",
            "213:\tlearn: 136794.2741594\ttotal: 2.87s\tremaining: 10.5s\n",
            "214:\tlearn: 136762.6556727\ttotal: 2.88s\tremaining: 10.5s\n",
            "215:\tlearn: 136712.6572791\ttotal: 2.89s\tremaining: 10.5s\n",
            "216:\tlearn: 136678.5079108\ttotal: 2.9s\tremaining: 10.5s\n",
            "217:\tlearn: 136633.2034683\ttotal: 2.92s\tremaining: 10.5s\n",
            "218:\tlearn: 136576.9319906\ttotal: 2.93s\tremaining: 10.4s\n",
            "219:\tlearn: 136536.9376320\ttotal: 2.94s\tremaining: 10.4s\n",
            "220:\tlearn: 136506.9468243\ttotal: 2.96s\tremaining: 10.4s\n",
            "221:\tlearn: 136472.4590558\ttotal: 2.97s\tremaining: 10.4s\n",
            "222:\tlearn: 136442.8957125\ttotal: 2.98s\tremaining: 10.4s\n",
            "223:\tlearn: 136399.5585454\ttotal: 3s\tremaining: 10.4s\n",
            "224:\tlearn: 136346.6361711\ttotal: 3.02s\tremaining: 10.4s\n",
            "225:\tlearn: 136305.0719372\ttotal: 3.03s\tremaining: 10.4s\n",
            "226:\tlearn: 136257.6427499\ttotal: 3.05s\tremaining: 10.4s\n",
            "227:\tlearn: 136220.5318175\ttotal: 3.06s\tremaining: 10.4s\n",
            "228:\tlearn: 136175.6494688\ttotal: 3.08s\tremaining: 10.4s\n",
            "229:\tlearn: 136133.9231972\ttotal: 3.09s\tremaining: 10.4s\n",
            "230:\tlearn: 136065.2567995\ttotal: 3.11s\tremaining: 10.3s\n",
            "231:\tlearn: 136006.2411965\ttotal: 3.12s\tremaining: 10.3s\n",
            "232:\tlearn: 135969.6589203\ttotal: 3.13s\tremaining: 10.3s\n",
            "233:\tlearn: 135906.5959023\ttotal: 3.15s\tremaining: 10.3s\n",
            "234:\tlearn: 135857.4179743\ttotal: 3.17s\tremaining: 10.3s\n",
            "235:\tlearn: 135813.9776037\ttotal: 3.18s\tremaining: 10.3s\n",
            "236:\tlearn: 135773.3019883\ttotal: 3.19s\tremaining: 10.3s\n",
            "237:\tlearn: 135742.2757393\ttotal: 3.21s\tremaining: 10.3s\n",
            "238:\tlearn: 135708.4315769\ttotal: 3.23s\tremaining: 10.3s\n",
            "239:\tlearn: 135678.7040759\ttotal: 3.24s\tremaining: 10.3s\n",
            "240:\tlearn: 135629.8952321\ttotal: 3.26s\tremaining: 10.3s\n",
            "241:\tlearn: 135602.8522264\ttotal: 3.27s\tremaining: 10.3s\n",
            "242:\tlearn: 135566.5202528\ttotal: 3.29s\tremaining: 10.2s\n",
            "243:\tlearn: 135527.3806157\ttotal: 3.3s\tremaining: 10.2s\n",
            "244:\tlearn: 135492.3994405\ttotal: 3.32s\tremaining: 10.2s\n",
            "245:\tlearn: 135462.0938961\ttotal: 3.33s\tremaining: 10.2s\n",
            "246:\tlearn: 135430.7835768\ttotal: 3.34s\tremaining: 10.2s\n",
            "247:\tlearn: 135400.0637555\ttotal: 3.36s\tremaining: 10.2s\n",
            "248:\tlearn: 135375.0332902\ttotal: 3.37s\tremaining: 10.2s\n",
            "249:\tlearn: 135305.0226058\ttotal: 3.39s\tremaining: 10.2s\n",
            "250:\tlearn: 135263.1608800\ttotal: 3.4s\tremaining: 10.2s\n",
            "251:\tlearn: 135233.2478071\ttotal: 3.42s\tremaining: 10.1s\n",
            "252:\tlearn: 135198.1563808\ttotal: 3.43s\tremaining: 10.1s\n",
            "253:\tlearn: 135159.7838466\ttotal: 3.45s\tremaining: 10.1s\n",
            "254:\tlearn: 135116.2981204\ttotal: 3.46s\tremaining: 10.1s\n",
            "255:\tlearn: 135075.2732485\ttotal: 3.48s\tremaining: 10.1s\n",
            "256:\tlearn: 135025.5315061\ttotal: 3.49s\tremaining: 10.1s\n",
            "257:\tlearn: 134988.9411834\ttotal: 3.51s\tremaining: 10.1s\n",
            "258:\tlearn: 134961.2299315\ttotal: 3.52s\tremaining: 10.1s\n",
            "259:\tlearn: 134929.6717458\ttotal: 3.54s\tremaining: 10.1s\n",
            "260:\tlearn: 134885.7499155\ttotal: 3.56s\tremaining: 10.1s\n",
            "261:\tlearn: 134845.1450880\ttotal: 3.57s\tremaining: 10.1s\n",
            "262:\tlearn: 134785.4126818\ttotal: 3.59s\tremaining: 10s\n",
            "263:\tlearn: 134735.8041184\ttotal: 3.6s\tremaining: 10s\n",
            "264:\tlearn: 134694.9635919\ttotal: 3.62s\tremaining: 10s\n",
            "265:\tlearn: 134668.1911785\ttotal: 3.63s\tremaining: 10s\n",
            "266:\tlearn: 134627.7414113\ttotal: 3.65s\tremaining: 10s\n",
            "267:\tlearn: 134602.0287783\ttotal: 3.66s\tremaining: 10s\n",
            "268:\tlearn: 134568.6646307\ttotal: 3.67s\tremaining: 9.99s\n",
            "269:\tlearn: 134536.1316543\ttotal: 3.69s\tremaining: 9.98s\n",
            "270:\tlearn: 134506.3596548\ttotal: 3.71s\tremaining: 9.97s\n",
            "271:\tlearn: 134481.5302180\ttotal: 3.72s\tremaining: 9.96s\n",
            "272:\tlearn: 134445.5717733\ttotal: 3.73s\tremaining: 9.95s\n",
            "273:\tlearn: 134409.8753458\ttotal: 3.75s\tremaining: 9.94s\n",
            "274:\tlearn: 134383.4721151\ttotal: 3.76s\tremaining: 9.92s\n",
            "275:\tlearn: 134337.8762751\ttotal: 3.78s\tremaining: 9.91s\n",
            "276:\tlearn: 134295.9670768\ttotal: 3.79s\tremaining: 9.9s\n",
            "277:\tlearn: 134271.3448533\ttotal: 3.81s\tremaining: 9.89s\n",
            "278:\tlearn: 134234.6604382\ttotal: 3.82s\tremaining: 9.87s\n",
            "279:\tlearn: 134197.5851588\ttotal: 3.83s\tremaining: 9.86s\n",
            "280:\tlearn: 134166.7828755\ttotal: 3.85s\tremaining: 9.85s\n",
            "281:\tlearn: 134137.4981897\ttotal: 3.86s\tremaining: 9.84s\n",
            "282:\tlearn: 134086.4721271\ttotal: 3.88s\tremaining: 9.83s\n",
            "283:\tlearn: 134065.9948013\ttotal: 3.89s\tremaining: 9.82s\n",
            "284:\tlearn: 133998.0956786\ttotal: 3.91s\tremaining: 9.81s\n",
            "285:\tlearn: 133965.7559588\ttotal: 3.92s\tremaining: 9.8s\n",
            "286:\tlearn: 133919.9069672\ttotal: 3.94s\tremaining: 9.79s\n",
            "287:\tlearn: 133897.3617431\ttotal: 3.96s\tremaining: 9.78s\n",
            "288:\tlearn: 133871.7614444\ttotal: 3.97s\tremaining: 9.77s\n",
            "289:\tlearn: 133798.9409888\ttotal: 3.98s\tremaining: 9.76s\n",
            "290:\tlearn: 133776.7326905\ttotal: 4s\tremaining: 9.74s\n",
            "291:\tlearn: 133756.7739920\ttotal: 4.01s\tremaining: 9.73s\n",
            "292:\tlearn: 133732.2423464\ttotal: 4.03s\tremaining: 9.71s\n",
            "293:\tlearn: 133676.4996096\ttotal: 4.04s\tremaining: 9.7s\n",
            "294:\tlearn: 133643.7309416\ttotal: 4.05s\tremaining: 9.68s\n",
            "295:\tlearn: 133616.3493809\ttotal: 4.07s\tremaining: 9.67s\n",
            "296:\tlearn: 133573.4029652\ttotal: 4.08s\tremaining: 9.66s\n",
            "297:\tlearn: 133542.4259769\ttotal: 4.09s\tremaining: 9.64s\n",
            "298:\tlearn: 133511.9397019\ttotal: 4.11s\tremaining: 9.63s\n",
            "299:\tlearn: 133461.8463579\ttotal: 4.12s\tremaining: 9.62s\n",
            "300:\tlearn: 133409.2673661\ttotal: 4.14s\tremaining: 9.61s\n",
            "301:\tlearn: 133383.9869233\ttotal: 4.15s\tremaining: 9.59s\n",
            "302:\tlearn: 133359.0863198\ttotal: 4.16s\tremaining: 9.57s\n",
            "303:\tlearn: 133337.1174156\ttotal: 4.17s\tremaining: 9.56s\n",
            "304:\tlearn: 133294.5073526\ttotal: 4.19s\tremaining: 9.54s\n",
            "305:\tlearn: 133272.3932264\ttotal: 4.2s\tremaining: 9.53s\n",
            "306:\tlearn: 133256.7266529\ttotal: 4.21s\tremaining: 9.51s\n",
            "307:\tlearn: 133232.5021218\ttotal: 4.23s\tremaining: 9.5s\n",
            "308:\tlearn: 133207.0194260\ttotal: 4.24s\tremaining: 9.48s\n",
            "309:\tlearn: 133188.4826463\ttotal: 4.25s\tremaining: 9.46s\n",
            "310:\tlearn: 133153.1671243\ttotal: 4.26s\tremaining: 9.45s\n",
            "311:\tlearn: 133115.7743711\ttotal: 4.28s\tremaining: 9.43s\n",
            "312:\tlearn: 133094.5180088\ttotal: 4.29s\tremaining: 9.41s\n",
            "313:\tlearn: 133070.6287958\ttotal: 4.3s\tremaining: 9.4s\n",
            "314:\tlearn: 133040.3298280\ttotal: 4.32s\tremaining: 9.39s\n",
            "315:\tlearn: 133009.2104273\ttotal: 4.33s\tremaining: 9.37s\n",
            "316:\tlearn: 132978.7968582\ttotal: 4.34s\tremaining: 9.36s\n",
            "317:\tlearn: 132952.2516858\ttotal: 4.36s\tremaining: 9.34s\n",
            "318:\tlearn: 132919.3565166\ttotal: 4.37s\tremaining: 9.33s\n",
            "319:\tlearn: 132885.5975071\ttotal: 4.38s\tremaining: 9.32s\n",
            "320:\tlearn: 132864.3965217\ttotal: 4.4s\tremaining: 9.3s\n",
            "321:\tlearn: 132816.7227626\ttotal: 4.41s\tremaining: 9.29s\n",
            "322:\tlearn: 132792.2984094\ttotal: 4.42s\tremaining: 9.27s\n",
            "323:\tlearn: 132763.8183236\ttotal: 4.44s\tremaining: 9.26s\n",
            "324:\tlearn: 132728.5256168\ttotal: 4.45s\tremaining: 9.24s\n",
            "325:\tlearn: 132714.0122057\ttotal: 4.46s\tremaining: 9.22s\n",
            "326:\tlearn: 132671.2238328\ttotal: 4.47s\tremaining: 9.21s\n",
            "327:\tlearn: 132642.2222216\ttotal: 4.49s\tremaining: 9.2s\n",
            "328:\tlearn: 132607.7205132\ttotal: 4.5s\tremaining: 9.19s\n",
            "329:\tlearn: 132575.0847358\ttotal: 4.52s\tremaining: 9.17s\n",
            "330:\tlearn: 132552.9306028\ttotal: 4.53s\tremaining: 9.16s\n",
            "331:\tlearn: 132528.2606959\ttotal: 4.54s\tremaining: 9.14s\n",
            "332:\tlearn: 132492.5817062\ttotal: 4.56s\tremaining: 9.13s\n",
            "333:\tlearn: 132456.3170360\ttotal: 4.57s\tremaining: 9.12s\n",
            "334:\tlearn: 132438.9522596\ttotal: 4.59s\tremaining: 9.11s\n",
            "335:\tlearn: 132421.1818695\ttotal: 4.6s\tremaining: 9.09s\n",
            "336:\tlearn: 132399.0553207\ttotal: 4.61s\tremaining: 9.08s\n",
            "337:\tlearn: 132370.5938193\ttotal: 4.63s\tremaining: 9.06s\n",
            "338:\tlearn: 132348.9744626\ttotal: 4.64s\tremaining: 9.05s\n",
            "339:\tlearn: 132310.8913169\ttotal: 4.65s\tremaining: 9.03s\n",
            "340:\tlearn: 132274.0380303\ttotal: 4.67s\tremaining: 9.02s\n",
            "341:\tlearn: 132241.0483658\ttotal: 4.68s\tremaining: 9s\n",
            "342:\tlearn: 132208.5385940\ttotal: 4.69s\tremaining: 8.99s\n",
            "343:\tlearn: 132174.6758631\ttotal: 4.71s\tremaining: 8.98s\n",
            "344:\tlearn: 132152.5619618\ttotal: 4.72s\tremaining: 8.96s\n",
            "345:\tlearn: 132133.5733400\ttotal: 4.74s\tremaining: 8.95s\n",
            "346:\tlearn: 132108.2824767\ttotal: 4.75s\tremaining: 8.94s\n",
            "347:\tlearn: 132084.8791407\ttotal: 4.76s\tremaining: 8.92s\n",
            "348:\tlearn: 132066.2385747\ttotal: 4.77s\tremaining: 8.9s\n",
            "349:\tlearn: 132037.5676521\ttotal: 4.79s\tremaining: 8.89s\n",
            "350:\tlearn: 132016.1528973\ttotal: 4.8s\tremaining: 8.87s\n",
            "351:\tlearn: 131985.3513759\ttotal: 4.81s\tremaining: 8.86s\n",
            "352:\tlearn: 131955.9976518\ttotal: 4.83s\tremaining: 8.85s\n",
            "353:\tlearn: 131929.7140916\ttotal: 4.84s\tremaining: 8.83s\n",
            "354:\tlearn: 131914.9712302\ttotal: 4.85s\tremaining: 8.81s\n",
            "355:\tlearn: 131898.0536805\ttotal: 4.86s\tremaining: 8.8s\n",
            "356:\tlearn: 131871.1336739\ttotal: 4.88s\tremaining: 8.78s\n",
            "357:\tlearn: 131853.6710358\ttotal: 4.89s\tremaining: 8.77s\n",
            "358:\tlearn: 131828.9687995\ttotal: 4.9s\tremaining: 8.75s\n",
            "359:\tlearn: 131799.2017896\ttotal: 4.92s\tremaining: 8.74s\n",
            "360:\tlearn: 131777.9174770\ttotal: 4.93s\tremaining: 8.72s\n",
            "361:\tlearn: 131757.4542953\ttotal: 4.94s\tremaining: 8.71s\n",
            "362:\tlearn: 131718.7421908\ttotal: 4.95s\tremaining: 8.69s\n",
            "363:\tlearn: 131673.1343819\ttotal: 4.97s\tremaining: 8.68s\n",
            "364:\tlearn: 131648.7759512\ttotal: 4.98s\tremaining: 8.66s\n",
            "365:\tlearn: 131616.3392510\ttotal: 4.99s\tremaining: 8.65s\n",
            "366:\tlearn: 131583.4353412\ttotal: 5.01s\tremaining: 8.63s\n",
            "367:\tlearn: 131550.1731816\ttotal: 5.02s\tremaining: 8.62s\n",
            "368:\tlearn: 131527.7812211\ttotal: 5.03s\tremaining: 8.6s\n",
            "369:\tlearn: 131493.0333991\ttotal: 5.04s\tremaining: 8.59s\n",
            "370:\tlearn: 131467.8004214\ttotal: 5.06s\tremaining: 8.57s\n",
            "371:\tlearn: 131443.0062761\ttotal: 5.07s\tremaining: 8.56s\n",
            "372:\tlearn: 131411.6437395\ttotal: 5.08s\tremaining: 8.54s\n",
            "373:\tlearn: 131385.5453681\ttotal: 5.09s\tremaining: 8.53s\n",
            "374:\tlearn: 131368.7842012\ttotal: 5.11s\tremaining: 8.51s\n",
            "375:\tlearn: 131346.2609021\ttotal: 5.12s\tremaining: 8.5s\n",
            "376:\tlearn: 131328.0707496\ttotal: 5.13s\tremaining: 8.48s\n",
            "377:\tlearn: 131308.3029158\ttotal: 5.14s\tremaining: 8.47s\n",
            "378:\tlearn: 131280.7127047\ttotal: 5.16s\tremaining: 8.45s\n",
            "379:\tlearn: 131262.0601893\ttotal: 5.17s\tremaining: 8.44s\n",
            "380:\tlearn: 131235.8548128\ttotal: 5.18s\tremaining: 8.43s\n",
            "381:\tlearn: 131216.7347179\ttotal: 5.2s\tremaining: 8.41s\n",
            "382:\tlearn: 131185.3428991\ttotal: 5.21s\tremaining: 8.39s\n",
            "383:\tlearn: 131152.1714181\ttotal: 5.22s\tremaining: 8.38s\n",
            "384:\tlearn: 131135.5296656\ttotal: 5.24s\tremaining: 8.36s\n",
            "385:\tlearn: 131112.7667482\ttotal: 5.25s\tremaining: 8.35s\n",
            "386:\tlearn: 131085.6239437\ttotal: 5.26s\tremaining: 8.33s\n",
            "387:\tlearn: 131068.3945359\ttotal: 5.27s\tremaining: 8.32s\n",
            "388:\tlearn: 131047.0162127\ttotal: 5.29s\tremaining: 8.3s\n",
            "389:\tlearn: 131033.6263629\ttotal: 5.3s\tremaining: 8.29s\n",
            "390:\tlearn: 131015.9314299\ttotal: 5.31s\tremaining: 8.27s\n",
            "391:\tlearn: 130999.1744115\ttotal: 5.37s\tremaining: 8.32s\n",
            "392:\tlearn: 130976.9312123\ttotal: 5.38s\tremaining: 8.32s\n",
            "393:\tlearn: 130948.6675279\ttotal: 5.41s\tremaining: 8.31s\n",
            "394:\tlearn: 130930.4285768\ttotal: 5.42s\tremaining: 8.31s\n",
            "395:\tlearn: 130913.1046518\ttotal: 5.44s\tremaining: 8.29s\n",
            "396:\tlearn: 130901.1637194\ttotal: 5.45s\tremaining: 8.28s\n",
            "397:\tlearn: 130878.7347629\ttotal: 5.46s\tremaining: 8.26s\n",
            "398:\tlearn: 130848.6796294\ttotal: 5.48s\tremaining: 8.25s\n",
            "399:\tlearn: 130822.0052497\ttotal: 5.49s\tremaining: 8.23s\n",
            "400:\tlearn: 130800.7706296\ttotal: 5.5s\tremaining: 8.22s\n",
            "401:\tlearn: 130783.9730793\ttotal: 5.51s\tremaining: 8.2s\n",
            "402:\tlearn: 130767.4016245\ttotal: 5.53s\tremaining: 8.19s\n",
            "403:\tlearn: 130749.9086479\ttotal: 5.54s\tremaining: 8.17s\n",
            "404:\tlearn: 130731.6801391\ttotal: 5.55s\tremaining: 8.16s\n",
            "405:\tlearn: 130698.8909759\ttotal: 5.56s\tremaining: 8.14s\n",
            "406:\tlearn: 130672.2479005\ttotal: 5.58s\tremaining: 8.13s\n",
            "407:\tlearn: 130645.3401667\ttotal: 5.59s\tremaining: 8.11s\n",
            "408:\tlearn: 130623.6472569\ttotal: 5.61s\tremaining: 8.1s\n",
            "409:\tlearn: 130604.1113546\ttotal: 5.62s\tremaining: 8.09s\n",
            "410:\tlearn: 130590.3314074\ttotal: 5.63s\tremaining: 8.07s\n",
            "411:\tlearn: 130569.5035758\ttotal: 5.64s\tremaining: 8.05s\n",
            "412:\tlearn: 130551.8119191\ttotal: 5.66s\tremaining: 8.04s\n",
            "413:\tlearn: 130520.8973433\ttotal: 5.67s\tremaining: 8.03s\n",
            "414:\tlearn: 130492.1828080\ttotal: 5.68s\tremaining: 8.01s\n",
            "415:\tlearn: 130475.2044780\ttotal: 5.7s\tremaining: 8s\n",
            "416:\tlearn: 130457.7655488\ttotal: 5.71s\tremaining: 7.98s\n",
            "417:\tlearn: 130443.6777284\ttotal: 5.72s\tremaining: 7.96s\n",
            "418:\tlearn: 130423.0005440\ttotal: 5.73s\tremaining: 7.95s\n",
            "419:\tlearn: 130410.0494585\ttotal: 5.74s\tremaining: 7.93s\n",
            "420:\tlearn: 130387.9985388\ttotal: 5.75s\tremaining: 7.92s\n",
            "421:\tlearn: 130361.0796843\ttotal: 5.77s\tremaining: 7.9s\n",
            "422:\tlearn: 130346.6329608\ttotal: 5.78s\tremaining: 7.88s\n",
            "423:\tlearn: 130326.4311095\ttotal: 5.79s\tremaining: 7.87s\n",
            "424:\tlearn: 130299.9242136\ttotal: 5.8s\tremaining: 7.85s\n",
            "425:\tlearn: 130280.2509073\ttotal: 5.82s\tremaining: 7.84s\n",
            "426:\tlearn: 130259.7267156\ttotal: 5.83s\tremaining: 7.83s\n",
            "427:\tlearn: 130225.6624923\ttotal: 5.84s\tremaining: 7.81s\n",
            "428:\tlearn: 130206.8727598\ttotal: 5.86s\tremaining: 7.8s\n",
            "429:\tlearn: 130194.0886804\ttotal: 5.87s\tremaining: 7.78s\n",
            "430:\tlearn: 130165.0321951\ttotal: 5.88s\tremaining: 7.77s\n",
            "431:\tlearn: 130142.1159242\ttotal: 5.9s\tremaining: 7.75s\n",
            "432:\tlearn: 130125.5634771\ttotal: 5.91s\tremaining: 7.74s\n",
            "433:\tlearn: 130095.5429628\ttotal: 5.92s\tremaining: 7.72s\n",
            "434:\tlearn: 130078.4233773\ttotal: 5.93s\tremaining: 7.71s\n",
            "435:\tlearn: 130063.0695288\ttotal: 5.95s\tremaining: 7.69s\n",
            "436:\tlearn: 130030.6703112\ttotal: 5.96s\tremaining: 7.68s\n",
            "437:\tlearn: 130008.3367502\ttotal: 5.97s\tremaining: 7.67s\n",
            "438:\tlearn: 129990.8798599\ttotal: 5.99s\tremaining: 7.65s\n",
            "439:\tlearn: 129973.7632020\ttotal: 6s\tremaining: 7.63s\n",
            "440:\tlearn: 129931.1762716\ttotal: 6.01s\tremaining: 7.62s\n",
            "441:\tlearn: 129910.7370841\ttotal: 6.03s\tremaining: 7.61s\n",
            "442:\tlearn: 129886.6269145\ttotal: 6.04s\tremaining: 7.6s\n",
            "443:\tlearn: 129876.9442800\ttotal: 6.05s\tremaining: 7.58s\n",
            "444:\tlearn: 129848.0766265\ttotal: 6.07s\tremaining: 7.57s\n",
            "445:\tlearn: 129824.3019122\ttotal: 6.08s\tremaining: 7.55s\n",
            "446:\tlearn: 129809.7345967\ttotal: 6.09s\tremaining: 7.54s\n",
            "447:\tlearn: 129783.4080806\ttotal: 6.11s\tremaining: 7.52s\n",
            "448:\tlearn: 129762.1381535\ttotal: 6.12s\tremaining: 7.51s\n",
            "449:\tlearn: 129743.9827647\ttotal: 6.13s\tremaining: 7.49s\n",
            "450:\tlearn: 129712.4136861\ttotal: 6.14s\tremaining: 7.48s\n",
            "451:\tlearn: 129691.8851033\ttotal: 6.16s\tremaining: 7.47s\n",
            "452:\tlearn: 129673.5604680\ttotal: 6.17s\tremaining: 7.45s\n",
            "453:\tlearn: 129651.2000751\ttotal: 6.18s\tremaining: 7.43s\n",
            "454:\tlearn: 129626.5064682\ttotal: 6.2s\tremaining: 7.42s\n",
            "455:\tlearn: 129609.6892853\ttotal: 6.21s\tremaining: 7.41s\n",
            "456:\tlearn: 129593.8302773\ttotal: 6.22s\tremaining: 7.39s\n",
            "457:\tlearn: 129575.1931684\ttotal: 6.23s\tremaining: 7.38s\n",
            "458:\tlearn: 129556.7022098\ttotal: 6.25s\tremaining: 7.36s\n",
            "459:\tlearn: 129541.4461651\ttotal: 6.26s\tremaining: 7.35s\n",
            "460:\tlearn: 129515.3326516\ttotal: 6.27s\tremaining: 7.33s\n",
            "461:\tlearn: 129495.7259347\ttotal: 6.29s\tremaining: 7.32s\n",
            "462:\tlearn: 129477.1783139\ttotal: 6.3s\tremaining: 7.3s\n",
            "463:\tlearn: 129458.6412026\ttotal: 6.31s\tremaining: 7.29s\n",
            "464:\tlearn: 129439.3117131\ttotal: 6.32s\tremaining: 7.27s\n",
            "465:\tlearn: 129423.5146205\ttotal: 6.33s\tremaining: 7.26s\n",
            "466:\tlearn: 129401.4432026\ttotal: 6.35s\tremaining: 7.24s\n",
            "467:\tlearn: 129384.0272907\ttotal: 6.36s\tremaining: 7.23s\n",
            "468:\tlearn: 129364.7540564\ttotal: 6.37s\tremaining: 7.21s\n",
            "469:\tlearn: 129348.7755541\ttotal: 6.38s\tremaining: 7.2s\n",
            "470:\tlearn: 129323.1584222\ttotal: 6.39s\tremaining: 7.18s\n",
            "471:\tlearn: 129310.2028924\ttotal: 6.41s\tremaining: 7.17s\n",
            "472:\tlearn: 129293.3360842\ttotal: 6.42s\tremaining: 7.15s\n",
            "473:\tlearn: 129275.4645398\ttotal: 6.43s\tremaining: 7.14s\n",
            "474:\tlearn: 129259.0692718\ttotal: 6.44s\tremaining: 7.12s\n",
            "475:\tlearn: 129242.1351127\ttotal: 6.46s\tremaining: 7.11s\n",
            "476:\tlearn: 129223.0545717\ttotal: 6.47s\tremaining: 7.1s\n",
            "477:\tlearn: 129207.6154177\ttotal: 6.48s\tremaining: 7.08s\n",
            "478:\tlearn: 129196.2644789\ttotal: 6.5s\tremaining: 7.07s\n",
            "479:\tlearn: 129183.5942265\ttotal: 6.51s\tremaining: 7.05s\n",
            "480:\tlearn: 129164.5745466\ttotal: 6.52s\tremaining: 7.04s\n",
            "481:\tlearn: 129150.1475559\ttotal: 6.53s\tremaining: 7.02s\n",
            "482:\tlearn: 129138.1180950\ttotal: 6.54s\tremaining: 7s\n",
            "483:\tlearn: 129106.2828280\ttotal: 6.56s\tremaining: 6.99s\n",
            "484:\tlearn: 129096.7575384\ttotal: 6.57s\tremaining: 6.98s\n",
            "485:\tlearn: 129078.2473593\ttotal: 6.58s\tremaining: 6.96s\n",
            "486:\tlearn: 129061.9861369\ttotal: 6.6s\tremaining: 6.95s\n",
            "487:\tlearn: 129043.5168895\ttotal: 6.61s\tremaining: 6.93s\n",
            "488:\tlearn: 129032.0004340\ttotal: 6.62s\tremaining: 6.92s\n",
            "489:\tlearn: 128998.0104622\ttotal: 6.64s\tremaining: 6.91s\n",
            "490:\tlearn: 128980.1957572\ttotal: 6.65s\tremaining: 6.89s\n",
            "491:\tlearn: 128968.1896320\ttotal: 6.66s\tremaining: 6.88s\n",
            "492:\tlearn: 128954.0800794\ttotal: 6.68s\tremaining: 6.87s\n",
            "493:\tlearn: 128942.1128050\ttotal: 6.69s\tremaining: 6.85s\n",
            "494:\tlearn: 128920.8216122\ttotal: 6.7s\tremaining: 6.84s\n",
            "495:\tlearn: 128896.8461431\ttotal: 6.71s\tremaining: 6.82s\n",
            "496:\tlearn: 128884.3140362\ttotal: 6.73s\tremaining: 6.81s\n",
            "497:\tlearn: 128871.0810225\ttotal: 6.74s\tremaining: 6.79s\n",
            "498:\tlearn: 128851.5152841\ttotal: 6.75s\tremaining: 6.78s\n",
            "499:\tlearn: 128839.2782716\ttotal: 6.76s\tremaining: 6.76s\n",
            "500:\tlearn: 128815.7831326\ttotal: 6.78s\tremaining: 6.75s\n",
            "501:\tlearn: 128799.0315904\ttotal: 6.79s\tremaining: 6.74s\n",
            "502:\tlearn: 128789.1933333\ttotal: 6.8s\tremaining: 6.72s\n",
            "503:\tlearn: 128764.0281341\ttotal: 6.82s\tremaining: 6.71s\n",
            "504:\tlearn: 128744.9168410\ttotal: 6.83s\tremaining: 6.69s\n",
            "505:\tlearn: 128730.9424757\ttotal: 6.84s\tremaining: 6.68s\n",
            "506:\tlearn: 128713.6013100\ttotal: 6.85s\tremaining: 6.66s\n",
            "507:\tlearn: 128690.0760531\ttotal: 6.86s\tremaining: 6.65s\n",
            "508:\tlearn: 128668.7910894\ttotal: 6.88s\tremaining: 6.64s\n",
            "509:\tlearn: 128650.5174822\ttotal: 6.89s\tremaining: 6.62s\n",
            "510:\tlearn: 128630.7092901\ttotal: 6.91s\tremaining: 6.61s\n",
            "511:\tlearn: 128618.1468869\ttotal: 6.92s\tremaining: 6.59s\n",
            "512:\tlearn: 128602.5958355\ttotal: 6.93s\tremaining: 6.58s\n",
            "513:\tlearn: 128580.4097187\ttotal: 6.95s\tremaining: 6.57s\n",
            "514:\tlearn: 128565.5389857\ttotal: 6.96s\tremaining: 6.55s\n",
            "515:\tlearn: 128546.0412487\ttotal: 6.97s\tremaining: 6.54s\n",
            "516:\tlearn: 128534.2832166\ttotal: 6.98s\tremaining: 6.52s\n",
            "517:\tlearn: 128519.4378589\ttotal: 7s\tremaining: 6.51s\n",
            "518:\tlearn: 128502.9665932\ttotal: 7.01s\tremaining: 6.5s\n",
            "519:\tlearn: 128488.1107965\ttotal: 7.02s\tremaining: 6.48s\n",
            "520:\tlearn: 128471.6687571\ttotal: 7.03s\tremaining: 6.47s\n",
            "521:\tlearn: 128456.2368688\ttotal: 7.05s\tremaining: 6.45s\n",
            "522:\tlearn: 128445.2831932\ttotal: 7.06s\tremaining: 6.44s\n",
            "523:\tlearn: 128428.1767252\ttotal: 7.08s\tremaining: 6.43s\n",
            "524:\tlearn: 128416.5939673\ttotal: 7.09s\tremaining: 6.41s\n",
            "525:\tlearn: 128411.9600493\ttotal: 7.1s\tremaining: 6.4s\n",
            "526:\tlearn: 128392.3789467\ttotal: 7.11s\tremaining: 6.38s\n",
            "527:\tlearn: 128378.1894204\ttotal: 7.12s\tremaining: 6.37s\n",
            "528:\tlearn: 128350.3448359\ttotal: 7.14s\tremaining: 6.36s\n",
            "529:\tlearn: 128337.6466819\ttotal: 7.15s\tremaining: 6.34s\n",
            "530:\tlearn: 128326.3237883\ttotal: 7.16s\tremaining: 6.33s\n",
            "531:\tlearn: 128307.4496313\ttotal: 7.17s\tremaining: 6.31s\n",
            "532:\tlearn: 128297.4808067\ttotal: 7.19s\tremaining: 6.3s\n",
            "533:\tlearn: 128281.1040076\ttotal: 7.2s\tremaining: 6.28s\n",
            "534:\tlearn: 128257.5180367\ttotal: 7.21s\tremaining: 6.27s\n",
            "535:\tlearn: 128245.3797472\ttotal: 7.23s\tremaining: 6.26s\n",
            "536:\tlearn: 128223.7871917\ttotal: 7.24s\tremaining: 6.24s\n",
            "537:\tlearn: 128209.2332785\ttotal: 7.26s\tremaining: 6.23s\n",
            "538:\tlearn: 128181.8346681\ttotal: 7.27s\tremaining: 6.22s\n",
            "539:\tlearn: 128159.4859265\ttotal: 7.29s\tremaining: 6.21s\n",
            "540:\tlearn: 128135.5221202\ttotal: 7.3s\tremaining: 6.2s\n",
            "541:\tlearn: 128123.8966924\ttotal: 7.32s\tremaining: 6.18s\n",
            "542:\tlearn: 128109.9491823\ttotal: 7.33s\tremaining: 6.17s\n",
            "543:\tlearn: 128085.9641314\ttotal: 7.35s\tremaining: 6.16s\n",
            "544:\tlearn: 128076.2142313\ttotal: 7.36s\tremaining: 6.15s\n",
            "545:\tlearn: 128066.6088710\ttotal: 7.38s\tremaining: 6.13s\n",
            "546:\tlearn: 128034.1785800\ttotal: 7.39s\tremaining: 6.12s\n",
            "547:\tlearn: 128019.3330802\ttotal: 7.41s\tremaining: 6.11s\n",
            "548:\tlearn: 128007.6335264\ttotal: 7.42s\tremaining: 6.1s\n",
            "549:\tlearn: 127991.2037991\ttotal: 7.44s\tremaining: 6.08s\n",
            "550:\tlearn: 127976.9299267\ttotal: 7.45s\tremaining: 6.07s\n",
            "551:\tlearn: 127965.9386082\ttotal: 7.47s\tremaining: 6.06s\n",
            "552:\tlearn: 127956.7636398\ttotal: 7.48s\tremaining: 6.05s\n",
            "553:\tlearn: 127934.9219402\ttotal: 7.49s\tremaining: 6.03s\n",
            "554:\tlearn: 127908.9036325\ttotal: 7.51s\tremaining: 6.02s\n",
            "555:\tlearn: 127896.7614321\ttotal: 7.53s\tremaining: 6.01s\n",
            "556:\tlearn: 127887.4794380\ttotal: 7.54s\tremaining: 6s\n",
            "557:\tlearn: 127877.0763870\ttotal: 7.55s\tremaining: 5.98s\n",
            "558:\tlearn: 127854.9535370\ttotal: 7.57s\tremaining: 5.97s\n",
            "559:\tlearn: 127841.3252333\ttotal: 7.58s\tremaining: 5.96s\n",
            "560:\tlearn: 127827.2995675\ttotal: 7.6s\tremaining: 5.94s\n",
            "561:\tlearn: 127809.2952844\ttotal: 7.61s\tremaining: 5.93s\n",
            "562:\tlearn: 127787.8699462\ttotal: 7.62s\tremaining: 5.92s\n",
            "563:\tlearn: 127783.5778758\ttotal: 7.64s\tremaining: 5.9s\n",
            "564:\tlearn: 127770.7065615\ttotal: 7.65s\tremaining: 5.89s\n",
            "565:\tlearn: 127753.1588311\ttotal: 7.67s\tremaining: 5.88s\n",
            "566:\tlearn: 127743.8176960\ttotal: 7.68s\tremaining: 5.86s\n",
            "567:\tlearn: 127719.3027643\ttotal: 7.7s\tremaining: 5.85s\n",
            "568:\tlearn: 127704.0710119\ttotal: 7.71s\tremaining: 5.84s\n",
            "569:\tlearn: 127692.6756486\ttotal: 7.72s\tremaining: 5.83s\n",
            "570:\tlearn: 127674.2781766\ttotal: 7.74s\tremaining: 5.81s\n",
            "571:\tlearn: 127659.8100804\ttotal: 7.75s\tremaining: 5.8s\n",
            "572:\tlearn: 127650.1913132\ttotal: 7.77s\tremaining: 5.79s\n",
            "573:\tlearn: 127624.7021687\ttotal: 7.78s\tremaining: 5.78s\n",
            "574:\tlearn: 127613.8718138\ttotal: 7.79s\tremaining: 5.76s\n",
            "575:\tlearn: 127579.4013857\ttotal: 7.81s\tremaining: 5.75s\n",
            "576:\tlearn: 127565.2132728\ttotal: 7.82s\tremaining: 5.74s\n",
            "577:\tlearn: 127546.3384147\ttotal: 7.84s\tremaining: 5.72s\n",
            "578:\tlearn: 127523.8242614\ttotal: 7.85s\tremaining: 5.71s\n",
            "579:\tlearn: 127507.1130072\ttotal: 7.87s\tremaining: 5.7s\n",
            "580:\tlearn: 127486.0678884\ttotal: 7.88s\tremaining: 5.68s\n",
            "581:\tlearn: 127472.9548346\ttotal: 7.9s\tremaining: 5.67s\n",
            "582:\tlearn: 127464.2468776\ttotal: 7.91s\tremaining: 5.66s\n",
            "583:\tlearn: 127449.4741037\ttotal: 7.93s\tremaining: 5.65s\n",
            "584:\tlearn: 127428.3447788\ttotal: 7.94s\tremaining: 5.63s\n",
            "585:\tlearn: 127411.5070395\ttotal: 7.96s\tremaining: 5.62s\n",
            "586:\tlearn: 127394.6506091\ttotal: 7.98s\tremaining: 5.61s\n",
            "587:\tlearn: 127379.7970936\ttotal: 7.99s\tremaining: 5.6s\n",
            "588:\tlearn: 127365.7851996\ttotal: 8.01s\tremaining: 5.59s\n",
            "589:\tlearn: 127347.9411141\ttotal: 8.02s\tremaining: 5.58s\n",
            "590:\tlearn: 127335.1084874\ttotal: 8.04s\tremaining: 5.56s\n",
            "591:\tlearn: 127320.8790265\ttotal: 8.05s\tremaining: 5.55s\n",
            "592:\tlearn: 127312.8003608\ttotal: 8.07s\tremaining: 5.54s\n",
            "593:\tlearn: 127294.8271549\ttotal: 8.08s\tremaining: 5.53s\n",
            "594:\tlearn: 127277.8448045\ttotal: 8.1s\tremaining: 5.51s\n",
            "595:\tlearn: 127263.8668751\ttotal: 8.12s\tremaining: 5.5s\n",
            "596:\tlearn: 127236.8740169\ttotal: 8.13s\tremaining: 5.49s\n",
            "597:\tlearn: 127224.0713150\ttotal: 8.15s\tremaining: 5.48s\n",
            "598:\tlearn: 127210.4756226\ttotal: 8.16s\tremaining: 5.46s\n",
            "599:\tlearn: 127192.7225838\ttotal: 8.18s\tremaining: 5.45s\n",
            "600:\tlearn: 127169.9653917\ttotal: 8.19s\tremaining: 5.44s\n",
            "601:\tlearn: 127158.8271088\ttotal: 8.2s\tremaining: 5.42s\n",
            "602:\tlearn: 127142.1472821\ttotal: 8.22s\tremaining: 5.41s\n",
            "603:\tlearn: 127133.4120735\ttotal: 8.23s\tremaining: 5.4s\n",
            "604:\tlearn: 127124.4190301\ttotal: 8.25s\tremaining: 5.38s\n",
            "605:\tlearn: 127113.7671492\ttotal: 8.26s\tremaining: 5.37s\n",
            "606:\tlearn: 127089.9863901\ttotal: 8.28s\tremaining: 5.36s\n",
            "607:\tlearn: 127064.9108591\ttotal: 8.29s\tremaining: 5.34s\n",
            "608:\tlearn: 127052.2238303\ttotal: 8.3s\tremaining: 5.33s\n",
            "609:\tlearn: 127033.5462431\ttotal: 8.32s\tremaining: 5.32s\n",
            "610:\tlearn: 127021.9064782\ttotal: 8.33s\tremaining: 5.3s\n",
            "611:\tlearn: 127004.3208733\ttotal: 8.35s\tremaining: 5.29s\n",
            "612:\tlearn: 126989.7480181\ttotal: 8.36s\tremaining: 5.28s\n",
            "613:\tlearn: 126976.8996791\ttotal: 8.37s\tremaining: 5.26s\n",
            "614:\tlearn: 126965.2260127\ttotal: 8.38s\tremaining: 5.25s\n",
            "615:\tlearn: 126950.5040087\ttotal: 8.39s\tremaining: 5.23s\n",
            "616:\tlearn: 126945.3294821\ttotal: 8.41s\tremaining: 5.22s\n",
            "617:\tlearn: 126931.4235321\ttotal: 8.42s\tremaining: 5.2s\n",
            "618:\tlearn: 126918.0475317\ttotal: 8.43s\tremaining: 5.19s\n",
            "619:\tlearn: 126897.7161661\ttotal: 8.45s\tremaining: 5.18s\n",
            "620:\tlearn: 126883.9778651\ttotal: 8.46s\tremaining: 5.16s\n",
            "621:\tlearn: 126870.2181747\ttotal: 8.47s\tremaining: 5.15s\n",
            "622:\tlearn: 126858.6528142\ttotal: 8.48s\tremaining: 5.13s\n",
            "623:\tlearn: 126845.2319279\ttotal: 8.49s\tremaining: 5.12s\n",
            "624:\tlearn: 126827.8313758\ttotal: 8.51s\tremaining: 5.1s\n",
            "625:\tlearn: 126816.9599478\ttotal: 8.52s\tremaining: 5.09s\n",
            "626:\tlearn: 126806.1265113\ttotal: 8.54s\tremaining: 5.08s\n",
            "627:\tlearn: 126791.7416560\ttotal: 8.55s\tremaining: 5.06s\n",
            "628:\tlearn: 126781.0095768\ttotal: 8.56s\tremaining: 5.05s\n",
            "629:\tlearn: 126766.8006643\ttotal: 8.57s\tremaining: 5.03s\n",
            "630:\tlearn: 126757.0948366\ttotal: 8.59s\tremaining: 5.02s\n",
            "631:\tlearn: 126743.7177826\ttotal: 8.6s\tremaining: 5s\n",
            "632:\tlearn: 126726.1007028\ttotal: 8.61s\tremaining: 4.99s\n",
            "633:\tlearn: 126714.2600020\ttotal: 8.62s\tremaining: 4.98s\n",
            "634:\tlearn: 126703.5154914\ttotal: 8.63s\tremaining: 4.96s\n",
            "635:\tlearn: 126688.4683367\ttotal: 8.64s\tremaining: 4.95s\n",
            "636:\tlearn: 126672.7067215\ttotal: 8.66s\tremaining: 4.93s\n",
            "637:\tlearn: 126656.8924991\ttotal: 8.67s\tremaining: 4.92s\n",
            "638:\tlearn: 126645.7955050\ttotal: 8.68s\tremaining: 4.91s\n",
            "639:\tlearn: 126628.3205927\ttotal: 8.7s\tremaining: 4.89s\n",
            "640:\tlearn: 126615.3164010\ttotal: 8.71s\tremaining: 4.88s\n",
            "641:\tlearn: 126604.3837905\ttotal: 8.72s\tremaining: 4.86s\n",
            "642:\tlearn: 126593.8180294\ttotal: 8.73s\tremaining: 4.85s\n",
            "643:\tlearn: 126580.9721306\ttotal: 8.74s\tremaining: 4.83s\n",
            "644:\tlearn: 126562.2228810\ttotal: 8.76s\tremaining: 4.82s\n",
            "645:\tlearn: 126547.9574195\ttotal: 8.77s\tremaining: 4.81s\n",
            "646:\tlearn: 126535.4694975\ttotal: 8.78s\tremaining: 4.79s\n",
            "647:\tlearn: 126519.5379923\ttotal: 8.8s\tremaining: 4.78s\n",
            "648:\tlearn: 126510.4573405\ttotal: 8.81s\tremaining: 4.76s\n",
            "649:\tlearn: 126499.2167234\ttotal: 8.82s\tremaining: 4.75s\n",
            "650:\tlearn: 126486.8548808\ttotal: 8.83s\tremaining: 4.74s\n",
            "651:\tlearn: 126473.4086983\ttotal: 8.85s\tremaining: 4.72s\n",
            "652:\tlearn: 126462.4899444\ttotal: 8.86s\tremaining: 4.71s\n",
            "653:\tlearn: 126448.4170727\ttotal: 8.87s\tremaining: 4.69s\n",
            "654:\tlearn: 126431.1589030\ttotal: 8.88s\tremaining: 4.68s\n",
            "655:\tlearn: 126416.0137739\ttotal: 8.9s\tremaining: 4.67s\n",
            "656:\tlearn: 126407.3908674\ttotal: 8.91s\tremaining: 4.65s\n",
            "657:\tlearn: 126397.2596408\ttotal: 8.92s\tremaining: 4.64s\n",
            "658:\tlearn: 126386.4953386\ttotal: 8.94s\tremaining: 4.62s\n",
            "659:\tlearn: 126368.5946768\ttotal: 8.95s\tremaining: 4.61s\n",
            "660:\tlearn: 126354.4938300\ttotal: 8.96s\tremaining: 4.6s\n",
            "661:\tlearn: 126342.9236568\ttotal: 8.98s\tremaining: 4.58s\n",
            "662:\tlearn: 126327.8450051\ttotal: 8.99s\tremaining: 4.57s\n",
            "663:\tlearn: 126320.8020686\ttotal: 9s\tremaining: 4.55s\n",
            "664:\tlearn: 126308.1708668\ttotal: 9.01s\tremaining: 4.54s\n",
            "665:\tlearn: 126301.0138924\ttotal: 9.03s\tremaining: 4.53s\n",
            "666:\tlearn: 126293.3194717\ttotal: 9.04s\tremaining: 4.51s\n",
            "667:\tlearn: 126277.9588477\ttotal: 9.05s\tremaining: 4.5s\n",
            "668:\tlearn: 126268.7727865\ttotal: 9.06s\tremaining: 4.48s\n",
            "669:\tlearn: 126243.7156763\ttotal: 9.07s\tremaining: 4.47s\n",
            "670:\tlearn: 126235.3566203\ttotal: 9.09s\tremaining: 4.46s\n",
            "671:\tlearn: 126222.3539568\ttotal: 9.1s\tremaining: 4.44s\n",
            "672:\tlearn: 126206.7212945\ttotal: 9.11s\tremaining: 4.43s\n",
            "673:\tlearn: 126194.5642758\ttotal: 9.13s\tremaining: 4.41s\n",
            "674:\tlearn: 126170.8940524\ttotal: 9.14s\tremaining: 4.4s\n",
            "675:\tlearn: 126154.0673284\ttotal: 9.15s\tremaining: 4.39s\n",
            "676:\tlearn: 126145.0718107\ttotal: 9.16s\tremaining: 4.37s\n",
            "677:\tlearn: 126131.7249514\ttotal: 9.18s\tremaining: 4.36s\n",
            "678:\tlearn: 126117.3753204\ttotal: 9.19s\tremaining: 4.34s\n",
            "679:\tlearn: 126099.3158280\ttotal: 9.2s\tremaining: 4.33s\n",
            "680:\tlearn: 126088.8340756\ttotal: 9.21s\tremaining: 4.32s\n",
            "681:\tlearn: 126082.8151993\ttotal: 9.22s\tremaining: 4.3s\n",
            "682:\tlearn: 126075.0651655\ttotal: 9.24s\tremaining: 4.29s\n",
            "683:\tlearn: 126065.1533542\ttotal: 9.25s\tremaining: 4.27s\n",
            "684:\tlearn: 126048.6443644\ttotal: 9.26s\tremaining: 4.26s\n",
            "685:\tlearn: 126037.6807530\ttotal: 9.27s\tremaining: 4.25s\n",
            "686:\tlearn: 126006.9947355\ttotal: 9.29s\tremaining: 4.23s\n",
            "687:\tlearn: 125992.3639012\ttotal: 9.3s\tremaining: 4.22s\n",
            "688:\tlearn: 125976.2039858\ttotal: 9.31s\tremaining: 4.2s\n",
            "689:\tlearn: 125965.8907925\ttotal: 9.32s\tremaining: 4.19s\n",
            "690:\tlearn: 125953.5801615\ttotal: 9.34s\tremaining: 4.17s\n",
            "691:\tlearn: 125947.3324447\ttotal: 9.35s\tremaining: 4.16s\n",
            "692:\tlearn: 125935.1809583\ttotal: 9.36s\tremaining: 4.15s\n",
            "693:\tlearn: 125925.3419916\ttotal: 9.38s\tremaining: 4.13s\n",
            "694:\tlearn: 125910.9137351\ttotal: 9.39s\tremaining: 4.12s\n",
            "695:\tlearn: 125896.2803659\ttotal: 9.4s\tremaining: 4.11s\n",
            "696:\tlearn: 125882.2810417\ttotal: 9.42s\tremaining: 4.09s\n",
            "697:\tlearn: 125873.0205135\ttotal: 9.43s\tremaining: 4.08s\n",
            "698:\tlearn: 125860.5077651\ttotal: 9.44s\tremaining: 4.07s\n",
            "699:\tlearn: 125849.5434839\ttotal: 9.45s\tremaining: 4.05s\n",
            "700:\tlearn: 125831.6205590\ttotal: 9.47s\tremaining: 4.04s\n",
            "701:\tlearn: 125822.0861068\ttotal: 9.48s\tremaining: 4.02s\n",
            "702:\tlearn: 125818.2086435\ttotal: 9.49s\tremaining: 4.01s\n",
            "703:\tlearn: 125811.6324382\ttotal: 9.51s\tremaining: 4s\n",
            "704:\tlearn: 125792.8777353\ttotal: 9.52s\tremaining: 3.98s\n",
            "705:\tlearn: 125780.1456981\ttotal: 9.53s\tremaining: 3.97s\n",
            "706:\tlearn: 125768.6673038\ttotal: 9.54s\tremaining: 3.96s\n",
            "707:\tlearn: 125754.4374846\ttotal: 9.56s\tremaining: 3.94s\n",
            "708:\tlearn: 125747.7192459\ttotal: 9.57s\tremaining: 3.93s\n",
            "709:\tlearn: 125733.3696065\ttotal: 9.59s\tremaining: 3.92s\n",
            "710:\tlearn: 125723.5307155\ttotal: 9.6s\tremaining: 3.9s\n",
            "711:\tlearn: 125711.1389165\ttotal: 9.62s\tremaining: 3.89s\n",
            "712:\tlearn: 125705.6351241\ttotal: 9.63s\tremaining: 3.88s\n",
            "713:\tlearn: 125695.6668243\ttotal: 9.64s\tremaining: 3.86s\n",
            "714:\tlearn: 125683.1125178\ttotal: 9.66s\tremaining: 3.85s\n",
            "715:\tlearn: 125663.2761711\ttotal: 9.67s\tremaining: 3.84s\n",
            "716:\tlearn: 125654.5505108\ttotal: 9.69s\tremaining: 3.82s\n",
            "717:\tlearn: 125643.7319502\ttotal: 9.7s\tremaining: 3.81s\n",
            "718:\tlearn: 125637.0479601\ttotal: 9.71s\tremaining: 3.79s\n",
            "719:\tlearn: 125629.1416828\ttotal: 9.72s\tremaining: 3.78s\n",
            "720:\tlearn: 125614.2711197\ttotal: 9.74s\tremaining: 3.77s\n",
            "721:\tlearn: 125602.5360484\ttotal: 9.75s\tremaining: 3.75s\n",
            "722:\tlearn: 125591.6747384\ttotal: 9.76s\tremaining: 3.74s\n",
            "723:\tlearn: 125584.2813798\ttotal: 9.78s\tremaining: 3.73s\n",
            "724:\tlearn: 125574.0422927\ttotal: 9.79s\tremaining: 3.71s\n",
            "725:\tlearn: 125556.9825958\ttotal: 9.8s\tremaining: 3.7s\n",
            "726:\tlearn: 125550.2706789\ttotal: 9.82s\tremaining: 3.69s\n",
            "727:\tlearn: 125541.7719230\ttotal: 9.83s\tremaining: 3.67s\n",
            "728:\tlearn: 125529.8742291\ttotal: 9.84s\tremaining: 3.66s\n",
            "729:\tlearn: 125519.7075568\ttotal: 9.86s\tremaining: 3.65s\n",
            "730:\tlearn: 125509.1470883\ttotal: 9.87s\tremaining: 3.63s\n",
            "731:\tlearn: 125500.3239632\ttotal: 9.88s\tremaining: 3.62s\n",
            "732:\tlearn: 125483.4643253\ttotal: 9.89s\tremaining: 3.6s\n",
            "733:\tlearn: 125471.9439287\ttotal: 9.91s\tremaining: 3.59s\n",
            "734:\tlearn: 125456.5620050\ttotal: 9.92s\tremaining: 3.58s\n",
            "735:\tlearn: 125448.8527559\ttotal: 9.93s\tremaining: 3.56s\n",
            "736:\tlearn: 125435.8848823\ttotal: 9.95s\tremaining: 3.55s\n",
            "737:\tlearn: 125422.3042720\ttotal: 9.96s\tremaining: 3.54s\n",
            "738:\tlearn: 125416.2756898\ttotal: 9.97s\tremaining: 3.52s\n",
            "739:\tlearn: 125410.5056042\ttotal: 9.98s\tremaining: 3.51s\n",
            "740:\tlearn: 125402.4024717\ttotal: 10s\tremaining: 3.49s\n",
            "741:\tlearn: 125394.3783009\ttotal: 10s\tremaining: 3.48s\n",
            "742:\tlearn: 125381.9486244\ttotal: 10s\tremaining: 3.47s\n",
            "743:\tlearn: 125368.4068330\ttotal: 10s\tremaining: 3.45s\n",
            "744:\tlearn: 125363.5210346\ttotal: 10s\tremaining: 3.44s\n",
            "745:\tlearn: 125355.7268865\ttotal: 10.1s\tremaining: 3.43s\n",
            "746:\tlearn: 125342.5915945\ttotal: 10.1s\tremaining: 3.41s\n",
            "747:\tlearn: 125333.5855472\ttotal: 10.1s\tremaining: 3.4s\n",
            "748:\tlearn: 125314.2847312\ttotal: 10.1s\tremaining: 3.38s\n",
            "749:\tlearn: 125307.9359480\ttotal: 10.1s\tremaining: 3.37s\n",
            "750:\tlearn: 125295.6689766\ttotal: 10.1s\tremaining: 3.36s\n",
            "751:\tlearn: 125275.8340461\ttotal: 10.1s\tremaining: 3.34s\n",
            "752:\tlearn: 125264.2922732\ttotal: 10.2s\tremaining: 3.33s\n",
            "753:\tlearn: 125253.0395266\ttotal: 10.2s\tremaining: 3.31s\n",
            "754:\tlearn: 125245.8399359\ttotal: 10.2s\tremaining: 3.3s\n",
            "755:\tlearn: 125227.9078081\ttotal: 10.2s\tremaining: 3.29s\n",
            "756:\tlearn: 125221.2583508\ttotal: 10.2s\tremaining: 3.27s\n",
            "757:\tlearn: 125215.4749032\ttotal: 10.2s\tremaining: 3.26s\n",
            "758:\tlearn: 125204.8742773\ttotal: 10.2s\tremaining: 3.25s\n",
            "759:\tlearn: 125185.8332814\ttotal: 10.2s\tremaining: 3.23s\n",
            "760:\tlearn: 125178.0608890\ttotal: 10.3s\tremaining: 3.22s\n",
            "761:\tlearn: 125170.0153634\ttotal: 10.3s\tremaining: 3.21s\n",
            "762:\tlearn: 125160.9947239\ttotal: 10.3s\tremaining: 3.19s\n",
            "763:\tlearn: 125152.6035051\ttotal: 10.3s\tremaining: 3.18s\n",
            "764:\tlearn: 125140.7253112\ttotal: 10.3s\tremaining: 3.16s\n",
            "765:\tlearn: 125129.9611526\ttotal: 10.3s\tremaining: 3.15s\n",
            "766:\tlearn: 125116.0504184\ttotal: 10.3s\tremaining: 3.14s\n",
            "767:\tlearn: 125107.2064716\ttotal: 10.3s\tremaining: 3.12s\n",
            "768:\tlearn: 125092.0155402\ttotal: 10.4s\tremaining: 3.11s\n",
            "769:\tlearn: 125075.1789455\ttotal: 10.4s\tremaining: 3.1s\n",
            "770:\tlearn: 125064.6520456\ttotal: 10.4s\tremaining: 3.08s\n",
            "771:\tlearn: 125046.9562043\ttotal: 10.4s\tremaining: 3.07s\n",
            "772:\tlearn: 125036.7044453\ttotal: 10.4s\tremaining: 3.05s\n",
            "773:\tlearn: 125023.6879271\ttotal: 10.4s\tremaining: 3.04s\n",
            "774:\tlearn: 125015.0147453\ttotal: 10.4s\tremaining: 3.03s\n",
            "775:\tlearn: 125007.8710720\ttotal: 10.4s\tremaining: 3.01s\n",
            "776:\tlearn: 124985.7374350\ttotal: 10.5s\tremaining: 3s\n",
            "777:\tlearn: 124975.5130483\ttotal: 10.5s\tremaining: 2.99s\n",
            "778:\tlearn: 124964.4982718\ttotal: 10.5s\tremaining: 2.97s\n",
            "779:\tlearn: 124953.5759798\ttotal: 10.5s\tremaining: 2.96s\n",
            "780:\tlearn: 124938.9907358\ttotal: 10.5s\tremaining: 2.95s\n",
            "781:\tlearn: 124929.0302736\ttotal: 10.5s\tremaining: 2.93s\n",
            "782:\tlearn: 124922.7598560\ttotal: 10.5s\tremaining: 2.92s\n",
            "783:\tlearn: 124913.0779564\ttotal: 10.5s\tremaining: 2.9s\n",
            "784:\tlearn: 124907.3009823\ttotal: 10.6s\tremaining: 2.89s\n",
            "785:\tlearn: 124896.2874633\ttotal: 10.6s\tremaining: 2.88s\n",
            "786:\tlearn: 124886.9004821\ttotal: 10.6s\tremaining: 2.86s\n",
            "787:\tlearn: 124877.9726678\ttotal: 10.6s\tremaining: 2.85s\n",
            "788:\tlearn: 124871.6022951\ttotal: 10.6s\tremaining: 2.84s\n",
            "789:\tlearn: 124863.8846448\ttotal: 10.6s\tremaining: 2.82s\n",
            "790:\tlearn: 124847.4252252\ttotal: 10.6s\tremaining: 2.81s\n",
            "791:\tlearn: 124837.5741979\ttotal: 10.6s\tremaining: 2.79s\n",
            "792:\tlearn: 124827.9734458\ttotal: 10.7s\tremaining: 2.78s\n",
            "793:\tlearn: 124815.9570573\ttotal: 10.7s\tremaining: 2.77s\n",
            "794:\tlearn: 124802.2749399\ttotal: 10.7s\tremaining: 2.75s\n",
            "795:\tlearn: 124793.1510651\ttotal: 10.7s\tremaining: 2.74s\n",
            "796:\tlearn: 124782.4272633\ttotal: 10.7s\tremaining: 2.73s\n",
            "797:\tlearn: 124770.7333932\ttotal: 10.7s\tremaining: 2.71s\n",
            "798:\tlearn: 124761.9228728\ttotal: 10.7s\tremaining: 2.7s\n",
            "799:\tlearn: 124753.9983322\ttotal: 10.7s\tremaining: 2.69s\n",
            "800:\tlearn: 124749.9240566\ttotal: 10.8s\tremaining: 2.67s\n",
            "801:\tlearn: 124740.6226737\ttotal: 10.8s\tremaining: 2.66s\n",
            "802:\tlearn: 124726.2493733\ttotal: 10.8s\tremaining: 2.64s\n",
            "803:\tlearn: 124711.6203141\ttotal: 10.8s\tremaining: 2.63s\n",
            "804:\tlearn: 124701.7360009\ttotal: 10.8s\tremaining: 2.62s\n",
            "805:\tlearn: 124697.2321656\ttotal: 10.8s\tremaining: 2.6s\n",
            "806:\tlearn: 124688.3401486\ttotal: 10.8s\tremaining: 2.59s\n",
            "807:\tlearn: 124678.4341981\ttotal: 10.8s\tremaining: 2.58s\n",
            "808:\tlearn: 124668.9516269\ttotal: 10.9s\tremaining: 2.56s\n",
            "809:\tlearn: 124661.7176894\ttotal: 10.9s\tremaining: 2.55s\n",
            "810:\tlearn: 124657.3271262\ttotal: 10.9s\tremaining: 2.54s\n",
            "811:\tlearn: 124648.1409667\ttotal: 10.9s\tremaining: 2.52s\n",
            "812:\tlearn: 124640.1709472\ttotal: 10.9s\tremaining: 2.51s\n",
            "813:\tlearn: 124634.1520257\ttotal: 10.9s\tremaining: 2.49s\n",
            "814:\tlearn: 124623.6336732\ttotal: 10.9s\tremaining: 2.48s\n",
            "815:\tlearn: 124609.2435508\ttotal: 10.9s\tremaining: 2.47s\n",
            "816:\tlearn: 124596.4352886\ttotal: 11s\tremaining: 2.45s\n",
            "817:\tlearn: 124589.0902819\ttotal: 11s\tremaining: 2.44s\n",
            "818:\tlearn: 124572.4055180\ttotal: 11s\tremaining: 2.43s\n",
            "819:\tlearn: 124567.0131722\ttotal: 11s\tremaining: 2.41s\n",
            "820:\tlearn: 124562.1757494\ttotal: 11s\tremaining: 2.4s\n",
            "821:\tlearn: 124553.4841034\ttotal: 11s\tremaining: 2.39s\n",
            "822:\tlearn: 124538.7309765\ttotal: 11s\tremaining: 2.37s\n",
            "823:\tlearn: 124529.7119285\ttotal: 11s\tremaining: 2.36s\n",
            "824:\tlearn: 124522.4054684\ttotal: 11.1s\tremaining: 2.35s\n",
            "825:\tlearn: 124512.3388799\ttotal: 11.1s\tremaining: 2.33s\n",
            "826:\tlearn: 124496.0798280\ttotal: 11.1s\tremaining: 2.32s\n",
            "827:\tlearn: 124487.6633214\ttotal: 11.1s\tremaining: 2.31s\n",
            "828:\tlearn: 124474.9338572\ttotal: 11.1s\tremaining: 2.29s\n",
            "829:\tlearn: 124466.1936141\ttotal: 11.1s\tremaining: 2.28s\n",
            "830:\tlearn: 124457.2244692\ttotal: 11.1s\tremaining: 2.26s\n",
            "831:\tlearn: 124446.4722566\ttotal: 11.1s\tremaining: 2.25s\n",
            "832:\tlearn: 124435.7389352\ttotal: 11.2s\tremaining: 2.24s\n",
            "833:\tlearn: 124428.0378671\ttotal: 11.2s\tremaining: 2.22s\n",
            "834:\tlearn: 124419.5728882\ttotal: 11.2s\tremaining: 2.21s\n",
            "835:\tlearn: 124409.4413480\ttotal: 11.2s\tremaining: 2.2s\n",
            "836:\tlearn: 124400.7681022\ttotal: 11.2s\tremaining: 2.18s\n",
            "837:\tlearn: 124395.3769999\ttotal: 11.2s\tremaining: 2.17s\n",
            "838:\tlearn: 124386.3390381\ttotal: 11.2s\tremaining: 2.15s\n",
            "839:\tlearn: 124375.7255877\ttotal: 11.2s\tremaining: 2.14s\n",
            "840:\tlearn: 124368.0160021\ttotal: 11.3s\tremaining: 2.13s\n",
            "841:\tlearn: 124362.3649328\ttotal: 11.3s\tremaining: 2.12s\n",
            "842:\tlearn: 124354.7495696\ttotal: 11.3s\tremaining: 2.1s\n",
            "843:\tlearn: 124344.2364922\ttotal: 11.3s\tremaining: 2.09s\n",
            "844:\tlearn: 124336.2041706\ttotal: 11.3s\tremaining: 2.07s\n",
            "845:\tlearn: 124331.9303571\ttotal: 11.3s\tremaining: 2.06s\n",
            "846:\tlearn: 124323.4692697\ttotal: 11.3s\tremaining: 2.05s\n",
            "847:\tlearn: 124315.6373342\ttotal: 11.3s\tremaining: 2.03s\n",
            "848:\tlearn: 124307.9802822\ttotal: 11.4s\tremaining: 2.02s\n",
            "849:\tlearn: 124299.9921149\ttotal: 11.4s\tremaining: 2.01s\n",
            "850:\tlearn: 124291.6966428\ttotal: 11.4s\tremaining: 1.99s\n",
            "851:\tlearn: 124279.4703375\ttotal: 11.4s\tremaining: 1.98s\n",
            "852:\tlearn: 124262.5451946\ttotal: 11.4s\tremaining: 1.97s\n",
            "853:\tlearn: 124249.8093646\ttotal: 11.4s\tremaining: 1.95s\n",
            "854:\tlearn: 124241.3596850\ttotal: 11.4s\tremaining: 1.94s\n",
            "855:\tlearn: 124223.0799603\ttotal: 11.4s\tremaining: 1.93s\n",
            "856:\tlearn: 124212.4144138\ttotal: 11.5s\tremaining: 1.91s\n",
            "857:\tlearn: 124203.5847666\ttotal: 11.5s\tremaining: 1.9s\n",
            "858:\tlearn: 124197.9275471\ttotal: 11.5s\tremaining: 1.89s\n",
            "859:\tlearn: 124189.1109318\ttotal: 11.5s\tremaining: 1.87s\n",
            "860:\tlearn: 124179.9783954\ttotal: 11.5s\tremaining: 1.86s\n",
            "861:\tlearn: 124170.0871861\ttotal: 11.5s\tremaining: 1.84s\n",
            "862:\tlearn: 124153.0433796\ttotal: 11.5s\tremaining: 1.83s\n",
            "863:\tlearn: 124137.0688379\ttotal: 11.6s\tremaining: 1.82s\n",
            "864:\tlearn: 124131.7110420\ttotal: 11.6s\tremaining: 1.8s\n",
            "865:\tlearn: 124126.0150610\ttotal: 11.6s\tremaining: 1.79s\n",
            "866:\tlearn: 124120.3268901\ttotal: 11.6s\tremaining: 1.78s\n",
            "867:\tlearn: 124114.0190110\ttotal: 11.6s\tremaining: 1.76s\n",
            "868:\tlearn: 124106.6813791\ttotal: 11.6s\tremaining: 1.75s\n",
            "869:\tlearn: 124095.6851709\ttotal: 11.6s\tremaining: 1.74s\n",
            "870:\tlearn: 124091.8798467\ttotal: 11.7s\tremaining: 1.73s\n",
            "871:\tlearn: 124075.8270925\ttotal: 11.7s\tremaining: 1.71s\n",
            "872:\tlearn: 124071.9762881\ttotal: 11.7s\tremaining: 1.7s\n",
            "873:\tlearn: 124063.4195085\ttotal: 11.7s\tremaining: 1.69s\n",
            "874:\tlearn: 124055.0633435\ttotal: 11.7s\tremaining: 1.67s\n",
            "875:\tlearn: 124048.3980593\ttotal: 11.7s\tremaining: 1.66s\n",
            "876:\tlearn: 124037.4377344\ttotal: 11.7s\tremaining: 1.65s\n",
            "877:\tlearn: 124025.0079548\ttotal: 11.7s\tremaining: 1.63s\n",
            "878:\tlearn: 124015.3190050\ttotal: 11.8s\tremaining: 1.62s\n",
            "879:\tlearn: 124011.7109597\ttotal: 11.8s\tremaining: 1.61s\n",
            "880:\tlearn: 124002.6346234\ttotal: 11.8s\tremaining: 1.59s\n",
            "881:\tlearn: 123987.9778714\ttotal: 11.8s\tremaining: 1.58s\n",
            "882:\tlearn: 123976.4432627\ttotal: 11.8s\tremaining: 1.57s\n",
            "883:\tlearn: 123964.7070640\ttotal: 11.8s\tremaining: 1.55s\n",
            "884:\tlearn: 123960.6639019\ttotal: 11.8s\tremaining: 1.54s\n",
            "885:\tlearn: 123951.2971616\ttotal: 11.9s\tremaining: 1.53s\n",
            "886:\tlearn: 123939.0582979\ttotal: 11.9s\tremaining: 1.51s\n",
            "887:\tlearn: 123929.9875716\ttotal: 11.9s\tremaining: 1.5s\n",
            "888:\tlearn: 123922.3686112\ttotal: 11.9s\tremaining: 1.49s\n",
            "889:\tlearn: 123909.9722304\ttotal: 11.9s\tremaining: 1.47s\n",
            "890:\tlearn: 123887.1036213\ttotal: 11.9s\tremaining: 1.46s\n",
            "891:\tlearn: 123875.2674091\ttotal: 12s\tremaining: 1.45s\n",
            "892:\tlearn: 123866.9975281\ttotal: 12s\tremaining: 1.44s\n",
            "893:\tlearn: 123857.8388332\ttotal: 12s\tremaining: 1.42s\n",
            "894:\tlearn: 123853.3633246\ttotal: 12s\tremaining: 1.41s\n",
            "895:\tlearn: 123850.0765800\ttotal: 12s\tremaining: 1.39s\n",
            "896:\tlearn: 123829.9233181\ttotal: 12s\tremaining: 1.38s\n",
            "897:\tlearn: 123817.7716000\ttotal: 12s\tremaining: 1.37s\n",
            "898:\tlearn: 123801.8806991\ttotal: 12.1s\tremaining: 1.35s\n",
            "899:\tlearn: 123793.5359706\ttotal: 12.1s\tremaining: 1.34s\n",
            "900:\tlearn: 123782.4665212\ttotal: 12.1s\tremaining: 1.33s\n",
            "901:\tlearn: 123768.6494088\ttotal: 12.1s\tremaining: 1.31s\n",
            "902:\tlearn: 123756.5236783\ttotal: 12.1s\tremaining: 1.3s\n",
            "903:\tlearn: 123749.2378014\ttotal: 12.1s\tremaining: 1.29s\n",
            "904:\tlearn: 123744.9860809\ttotal: 12.1s\tremaining: 1.27s\n",
            "905:\tlearn: 123733.8020602\ttotal: 12.2s\tremaining: 1.26s\n",
            "906:\tlearn: 123726.9726185\ttotal: 12.2s\tremaining: 1.25s\n",
            "907:\tlearn: 123718.6155179\ttotal: 12.2s\tremaining: 1.23s\n",
            "908:\tlearn: 123715.3895851\ttotal: 12.2s\tremaining: 1.22s\n",
            "909:\tlearn: 123704.4115757\ttotal: 12.2s\tremaining: 1.21s\n",
            "910:\tlearn: 123696.9826019\ttotal: 12.2s\tremaining: 1.19s\n",
            "911:\tlearn: 123691.8668629\ttotal: 12.2s\tremaining: 1.18s\n",
            "912:\tlearn: 123675.9464738\ttotal: 12.3s\tremaining: 1.17s\n",
            "913:\tlearn: 123668.5266984\ttotal: 12.3s\tremaining: 1.15s\n",
            "914:\tlearn: 123652.9711357\ttotal: 12.3s\tremaining: 1.14s\n",
            "915:\tlearn: 123644.9554953\ttotal: 12.3s\tremaining: 1.13s\n",
            "916:\tlearn: 123642.0629759\ttotal: 12.3s\tremaining: 1.11s\n",
            "917:\tlearn: 123633.1912686\ttotal: 12.3s\tremaining: 1.1s\n",
            "918:\tlearn: 123624.0097903\ttotal: 12.3s\tremaining: 1.09s\n",
            "919:\tlearn: 123619.9839985\ttotal: 12.4s\tremaining: 1.07s\n",
            "920:\tlearn: 123613.0578139\ttotal: 12.4s\tremaining: 1.06s\n",
            "921:\tlearn: 123602.8592960\ttotal: 12.4s\tremaining: 1.05s\n",
            "922:\tlearn: 123594.7665011\ttotal: 12.4s\tremaining: 1.03s\n",
            "923:\tlearn: 123588.2047216\ttotal: 12.4s\tremaining: 1.02s\n",
            "924:\tlearn: 123583.0010777\ttotal: 12.4s\tremaining: 1.01s\n",
            "925:\tlearn: 123579.1932237\ttotal: 12.4s\tremaining: 994ms\n",
            "926:\tlearn: 123569.5412466\ttotal: 12.5s\tremaining: 981ms\n",
            "927:\tlearn: 123556.3485602\ttotal: 12.5s\tremaining: 967ms\n",
            "928:\tlearn: 123547.4911436\ttotal: 12.5s\tremaining: 954ms\n",
            "929:\tlearn: 123542.2484002\ttotal: 12.5s\tremaining: 940ms\n",
            "930:\tlearn: 123535.3987680\ttotal: 12.5s\tremaining: 927ms\n",
            "931:\tlearn: 123526.7926525\ttotal: 12.5s\tremaining: 914ms\n",
            "932:\tlearn: 123513.4187349\ttotal: 12.5s\tremaining: 900ms\n",
            "933:\tlearn: 123508.9593200\ttotal: 12.5s\tremaining: 887ms\n",
            "934:\tlearn: 123492.7389302\ttotal: 12.6s\tremaining: 873ms\n",
            "935:\tlearn: 123486.3634122\ttotal: 12.6s\tremaining: 860ms\n",
            "936:\tlearn: 123481.3015027\ttotal: 12.6s\tremaining: 846ms\n",
            "937:\tlearn: 123469.4181842\ttotal: 12.6s\tremaining: 833ms\n",
            "938:\tlearn: 123460.6753323\ttotal: 12.6s\tremaining: 819ms\n",
            "939:\tlearn: 123455.6045983\ttotal: 12.6s\tremaining: 806ms\n",
            "940:\tlearn: 123449.5745106\ttotal: 12.6s\tremaining: 792ms\n",
            "941:\tlearn: 123439.6865527\ttotal: 12.6s\tremaining: 779ms\n",
            "942:\tlearn: 123430.5935635\ttotal: 12.7s\tremaining: 765ms\n",
            "943:\tlearn: 123422.3248902\ttotal: 12.7s\tremaining: 752ms\n",
            "944:\tlearn: 123409.8207810\ttotal: 12.7s\tremaining: 738ms\n",
            "945:\tlearn: 123402.8512917\ttotal: 12.7s\tremaining: 725ms\n",
            "946:\tlearn: 123392.7114523\ttotal: 12.7s\tremaining: 711ms\n",
            "947:\tlearn: 123387.5760303\ttotal: 12.7s\tremaining: 698ms\n",
            "948:\tlearn: 123379.7633184\ttotal: 12.7s\tremaining: 684ms\n",
            "949:\tlearn: 123375.2386985\ttotal: 12.7s\tremaining: 671ms\n",
            "950:\tlearn: 123367.4042889\ttotal: 12.8s\tremaining: 657ms\n",
            "951:\tlearn: 123352.4433554\ttotal: 12.8s\tremaining: 644ms\n",
            "952:\tlearn: 123337.4488434\ttotal: 12.8s\tremaining: 631ms\n",
            "953:\tlearn: 123329.2807100\ttotal: 12.8s\tremaining: 617ms\n",
            "954:\tlearn: 123317.7178077\ttotal: 12.8s\tremaining: 604ms\n",
            "955:\tlearn: 123311.1177387\ttotal: 12.8s\tremaining: 590ms\n",
            "956:\tlearn: 123307.3428779\ttotal: 12.8s\tremaining: 577ms\n",
            "957:\tlearn: 123295.0323776\ttotal: 12.8s\tremaining: 563ms\n",
            "958:\tlearn: 123285.7817174\ttotal: 12.9s\tremaining: 550ms\n",
            "959:\tlearn: 123271.6970844\ttotal: 12.9s\tremaining: 536ms\n",
            "960:\tlearn: 123262.0066925\ttotal: 12.9s\tremaining: 523ms\n",
            "961:\tlearn: 123257.9587116\ttotal: 12.9s\tremaining: 510ms\n",
            "962:\tlearn: 123249.5344232\ttotal: 12.9s\tremaining: 496ms\n",
            "963:\tlearn: 123244.6249269\ttotal: 12.9s\tremaining: 483ms\n",
            "964:\tlearn: 123230.2788111\ttotal: 12.9s\tremaining: 469ms\n",
            "965:\tlearn: 123222.2032227\ttotal: 13s\tremaining: 456ms\n",
            "966:\tlearn: 123216.6219087\ttotal: 13s\tremaining: 442ms\n",
            "967:\tlearn: 123207.4390928\ttotal: 13s\tremaining: 429ms\n",
            "968:\tlearn: 123198.7955549\ttotal: 13s\tremaining: 416ms\n",
            "969:\tlearn: 123191.4937254\ttotal: 13s\tremaining: 402ms\n",
            "970:\tlearn: 123181.2206735\ttotal: 13s\tremaining: 389ms\n",
            "971:\tlearn: 123165.4865925\ttotal: 13s\tremaining: 375ms\n",
            "972:\tlearn: 123159.4576913\ttotal: 13s\tremaining: 362ms\n",
            "973:\tlearn: 123151.7294799\ttotal: 13.1s\tremaining: 349ms\n",
            "974:\tlearn: 123141.3505229\ttotal: 13.1s\tremaining: 335ms\n",
            "975:\tlearn: 123135.0075407\ttotal: 13.1s\tremaining: 322ms\n",
            "976:\tlearn: 123121.2661060\ttotal: 13.1s\tremaining: 308ms\n",
            "977:\tlearn: 123114.0593602\ttotal: 13.1s\tremaining: 295ms\n",
            "978:\tlearn: 123106.2605703\ttotal: 13.1s\tremaining: 281ms\n",
            "979:\tlearn: 123088.9358031\ttotal: 13.1s\tremaining: 268ms\n",
            "980:\tlearn: 123078.3920720\ttotal: 13.1s\tremaining: 255ms\n",
            "981:\tlearn: 123059.5598903\ttotal: 13.2s\tremaining: 241ms\n",
            "982:\tlearn: 123053.1249026\ttotal: 13.2s\tremaining: 228ms\n",
            "983:\tlearn: 123040.1581876\ttotal: 13.2s\tremaining: 214ms\n",
            "984:\tlearn: 123032.3234516\ttotal: 13.2s\tremaining: 201ms\n",
            "985:\tlearn: 123021.7260016\ttotal: 13.2s\tremaining: 188ms\n",
            "986:\tlearn: 123011.5382372\ttotal: 13.2s\tremaining: 174ms\n",
            "987:\tlearn: 123008.0990308\ttotal: 13.2s\tremaining: 161ms\n",
            "988:\tlearn: 123001.3629449\ttotal: 13.2s\tremaining: 147ms\n",
            "989:\tlearn: 122994.9439484\ttotal: 13.3s\tremaining: 134ms\n",
            "990:\tlearn: 122988.0196021\ttotal: 13.3s\tremaining: 121ms\n",
            "991:\tlearn: 122983.1746899\ttotal: 13.3s\tremaining: 107ms\n",
            "992:\tlearn: 122972.6262449\ttotal: 13.3s\tremaining: 93.7ms\n",
            "993:\tlearn: 122967.9675360\ttotal: 13.3s\tremaining: 80.3ms\n",
            "994:\tlearn: 122961.6533162\ttotal: 13.3s\tremaining: 66.9ms\n",
            "995:\tlearn: 122949.7996135\ttotal: 13.3s\tremaining: 53.5ms\n",
            "996:\tlearn: 122940.7776066\ttotal: 13.3s\tremaining: 40.1ms\n",
            "997:\tlearn: 122931.8902126\ttotal: 13.4s\tremaining: 26.8ms\n",
            "998:\tlearn: 122916.8438139\ttotal: 13.4s\tremaining: 13.4ms\n",
            "999:\tlearn: 122905.6246907\ttotal: 13.4s\tremaining: 0us\n"
          ]
        },
        {
          "data": {
            "text/plain": [
              "15428930927.521166"
            ]
          },
          "execution_count": 110,
          "metadata": {},
          "output_type": "execute_result"
        }
      ],
      "source": [
        "from catboost import CatBoostRegressor\n",
        "\n",
        "# Создание и обучение модели\n",
        "model = CatBoostRegressor()\n",
        "model.fit(X_train, y_train)\n",
        "\n",
        "# Получение предсказаний\n",
        "y_pred = model.predict(X_test)\n",
        "mse = mean_squared_error(y_test, y_pred)\n",
        "mse"
      ]
    },
    {
      "cell_type": "markdown",
      "metadata": {},
      "source": [
        "MSE 15428930927.521166 выше чем у RandomForestRegressor"
      ]
    },
    {
      "cell_type": "code",
      "execution_count": 106,
      "metadata": {},
      "outputs": [
        {
          "name": "stdout",
          "output_type": "stream",
          "text": [
            "Качество предсказания по MSE 12768171911.22\n"
          ]
        }
      ],
      "source": [
        "clf = RandomForestRegressor(max_depth=1500, n_estimators=20, random_state=42)\n",
        "# Обучаем модель\n",
        "clf.fit(X_train, y_train)\n",
        "\n",
        "y_pred = clf.predict(X_test)\n",
        "print(f'Качество предсказания по MSE {round(mean_squared_error(y_test, y_pred), 2)}')"
      ]
    },
    {
      "cell_type": "markdown",
      "metadata": {},
      "source": [
        "# Выбираю XGBRegressor"
      ]
    },
    {
      "cell_type": "code",
      "execution_count": null,
      "metadata": {},
      "outputs": [],
      "source": [
        "model = xgb.XGBRegressor(max_depth=8, learning_rate=0.2, n_estimators=1100)\n",
        "# Обучение модели\n",
        "model.fit(X_train, y_train)\n",
        "\n",
        "y_pred = model.predict(X_test)"
      ]
    },
    {
      "cell_type": "code",
      "execution_count": 103,
      "metadata": {},
      "outputs": [],
      "source": [
        "import pickle\n",
        "with open('C:/usr/project_a/model.pkl','wb') as file:\n",
        "    pickle.dump(model, file)\n",
        "\n",
        "\n",
        "\n",
        "# saving the columns\n",
        "model_columns = list(X.columns)\n",
        "with open('C:/usr/project_a/model.pkl','wb') as file:\n",
        "    pickle.dump(model_columns, file)"
      ]
    }
  ],
  "metadata": {
    "colab": {
      "provenance": []
    },
    "kernelspec": {
      "display_name": "Python 3",
      "name": "python3"
    },
    "language_info": {
      "codemirror_mode": {
        "name": "ipython",
        "version": 3
      },
      "file_extension": ".py",
      "mimetype": "text/x-python",
      "name": "python",
      "nbconvert_exporter": "python",
      "pygments_lexer": "ipython3",
      "version": "3.11.8"
    }
  },
  "nbformat": 4,
  "nbformat_minor": 0
}
