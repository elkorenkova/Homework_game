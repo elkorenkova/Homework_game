{
 "cells": [
  {
   "cell_type": "code",
   "execution_count": 268,
   "metadata": {},
   "outputs": [],
   "source": [
    "import pandas as pd\n",
    "import scipy.stats as stats\n",
    "from scipy.stats import shapiro\n",
    "from scipy.stats import normaltest\n",
    "from scipy.stats import spearmanr\n",
    "from scipy.stats import f_oneway\n",
    "from statsmodels.stats import weightstats\n",
    "from statsmodels.stats.proportion import proportions_ztest\n",
    "from statsmodels.stats.descriptivestats import sign_test\n",
    "import numpy as np\n",
    "import scipy.stats as stats\n",
    "from scipy import stats\n",
    "import statsmodels.api as sm\n",
    "from statsmodels import stats as sms\n",
    "import matplotlib.pyplot as plt\n",
    "import seaborn as sns\n",
    "sns.set_theme(\"notebook\") \n",
    "sns.set_palette(\"Set2\") "
   ]
  },
  {
   "attachments": {},
   "cell_type": "markdown",
   "metadata": {},
   "source": [
    "Домашнее задание\n",
    "В процессе анализа вы должны ответить на ключевые вопросы HR-агентства:\n",
    "\n",
    "1 Наблюдается ли ежегодный рост зарплат у специалистов Data Scientist?\n",
    "2 Какие факторы влияют на зарплату у специалистов Data Scientist?\n",
    "3 Как соотносятся зарплаты Data Scientist и Data Engineer в различных компаниях?\n",
    "4 Есть ли связь между наличием должностей Data Scientist и Data Engineer и размером компании?\n",
    "5 Если вы найдёте в данных интересные закономерности, также отметьте их в своём анализе.\n",
    "\n",
    "Продемонстрируйте использование разных тестов для проверки статистической значимости сделанных выводов: тесты для количественного признака:\n",
    "для одной выборки;\n",
    "для двух выборок;\n",
    "для нескольких выборок;\n",
    "тест для категориальных признаков.\n",
    "\n",
    "work_year\tГод, в котором была выплачена зарплата.\n",
    "experience_level\tОпыт работы на этой должности в течение года со следующими возможными значениями: EN — Entry-level/Junior; MI — Mid-level/Intermediate; SE — Senior-level/Expert; EX — Executive-level/Director.\n",
    "employment_type\tТип трудоустройства для этой роли: PT — неполный рабочий день; FT — полный рабочий день; CT — контракт; FL — фриланс.\n",
    "job_title\tРоль, в которой соискатель работал в течение года.\n",
    "salary\tОбщая выплаченная валовая сумма заработной платы.\n",
    "salary_currency\tВалюта выплачиваемой заработной платы в виде кода валюты ISO 4217.\n",
    "salary_in_usd\tЗарплата в долларах США (валютный курс, делённый на среднее значение курса доллара США за соответствующий год через fxdata.foorilla.com).\n",
    "employee_residence\tОсновная страна проживания сотрудника в течение рабочего года в виде кода страны ISO 3166.\n",
    "remote_ratio\tОбщий объём работы, выполняемой удалённо. Возможные значения: 0 — удалённой работы нет (менее 20 %); 50 — частично удалённая работа; 100 — полностью удалённая работа (более 80 %).\n",
    "company_location\tСтрана главного офиса работодателя или филиала по контракту в виде кода страны ISO 3166.\n",
    "company_size\tСреднее количество людей, работавших в компании в течение года: S — менее 50 сотрудников (небольшая компания); M — от 50 до 250 сотрудников (средняя компания); L — более 250 сотрудников (крупная компания)."
   ]
  },
  {
   "cell_type": "code",
   "execution_count": 240,
   "metadata": {},
   "outputs": [
    {
     "data": {
      "text/html": [
       "<div>\n",
       "<style scoped>\n",
       "    .dataframe tbody tr th:only-of-type {\n",
       "        vertical-align: middle;\n",
       "    }\n",
       "\n",
       "    .dataframe tbody tr th {\n",
       "        vertical-align: top;\n",
       "    }\n",
       "\n",
       "    .dataframe thead th {\n",
       "        text-align: right;\n",
       "    }\n",
       "</style>\n",
       "<table border=\"1\" class=\"dataframe\">\n",
       "  <thead>\n",
       "    <tr style=\"text-align: right;\">\n",
       "      <th></th>\n",
       "      <th>Unnamed: 0</th>\n",
       "      <th>work_year</th>\n",
       "      <th>experience_level</th>\n",
       "      <th>employment_type</th>\n",
       "      <th>job_title</th>\n",
       "      <th>salary</th>\n",
       "      <th>salary_currency</th>\n",
       "      <th>salary_in_usd</th>\n",
       "      <th>employee_residence</th>\n",
       "      <th>remote_ratio</th>\n",
       "      <th>company_location</th>\n",
       "      <th>company_size</th>\n",
       "    </tr>\n",
       "  </thead>\n",
       "  <tbody>\n",
       "    <tr>\n",
       "      <th>0</th>\n",
       "      <td>0</td>\n",
       "      <td>2020</td>\n",
       "      <td>MI</td>\n",
       "      <td>FT</td>\n",
       "      <td>Data Scientist</td>\n",
       "      <td>70000</td>\n",
       "      <td>EUR</td>\n",
       "      <td>79833</td>\n",
       "      <td>DE</td>\n",
       "      <td>0</td>\n",
       "      <td>DE</td>\n",
       "      <td>L</td>\n",
       "    </tr>\n",
       "  </tbody>\n",
       "</table>\n",
       "</div>"
      ],
      "text/plain": [
       "   Unnamed: 0  work_year experience_level employment_type       job_title  \\\n",
       "0           0       2020               MI              FT  Data Scientist   \n",
       "\n",
       "   salary salary_currency  salary_in_usd employee_residence  remote_ratio  \\\n",
       "0   70000             EUR          79833                 DE             0   \n",
       "\n",
       "  company_location company_size  \n",
       "0               DE            L  "
      ]
     },
     "execution_count": 240,
     "metadata": {},
     "output_type": "execute_result"
    }
   ],
   "source": [
    "data = pd.read_csv('C:\\Temp\\Pythone/ds_salaries.csv')\n",
    "data.head(1)"
   ]
  },
  {
   "cell_type": "code",
   "execution_count": 137,
   "metadata": {},
   "outputs": [
    {
     "name": "stdout",
     "output_type": "stream",
     "text": [
      "<class 'pandas.core.frame.DataFrame'>\n",
      "RangeIndex: 607 entries, 0 to 606\n",
      "Data columns (total 12 columns):\n",
      " #   Column              Non-Null Count  Dtype \n",
      "---  ------              --------------  ----- \n",
      " 0   Unnamed: 0          607 non-null    int64 \n",
      " 1   work_year           607 non-null    int64 \n",
      " 2   experience_level    607 non-null    object\n",
      " 3   employment_type     607 non-null    object\n",
      " 4   job_title           607 non-null    object\n",
      " 5   salary              607 non-null    int64 \n",
      " 6   salary_currency     607 non-null    object\n",
      " 7   salary_in_usd       607 non-null    int64 \n",
      " 8   employee_residence  607 non-null    object\n",
      " 9   remote_ratio        607 non-null    int64 \n",
      " 10  company_location    607 non-null    object\n",
      " 11  company_size        607 non-null    object\n",
      "dtypes: int64(5), object(7)\n",
      "memory usage: 57.0+ KB\n"
     ]
    }
   ],
   "source": [
    "data.info()"
   ]
  },
  {
   "cell_type": "code",
   "execution_count": 138,
   "metadata": {},
   "outputs": [
    {
     "name": "stdout",
     "output_type": "stream",
     "text": [
      "Количество дубликатов: 0\n",
      "Размер таблицы после удаления дубликатов: (607, 12)\n"
     ]
    }
   ],
   "source": [
    "print('Количество дубликатов: {}'.format(data[data.duplicated()].shape[0]))\n",
    "\n",
    "# Удаляем дубликаты:\n",
    "data = data.drop_duplicates()\n",
    "print('Размер таблицы после удаления дубликатов: {}'.format(data.shape))"
   ]
  },
  {
   "cell_type": "code",
   "execution_count": 139,
   "metadata": {},
   "outputs": [
    {
     "data": {
      "image/png": "[encoded data removed]",
      "text/plain": [
       "<Figure size 1500x500 with 2 Axes>"
      ]
     },
     "metadata": {},
     "output_type": "display_data"
    }
   ],
   "source": [
    "fig, axes = plt.subplots(1, 2, figsize=(15, 5))\n",
    "\n",
    "sns.histplot(data['salary'], kde=True, ax=axes[0])\n",
    "axes[0].set(xlabel='Общая выплаченная валовая сумма заработной платы', ylabel='Частота')\n",
    "axes[0].set_title('Распределение выплат заработной платы')\n",
    "axes[0].axvline(data['salary'].mean(), color='red', linestyle='--', linewidth=0.8)\n",
    "\n",
    "sns.boxplot(data['salary'], ax=axes[1], orient='h', medianprops={\"color\": \"red\", \"linestyle\": '--'})\n",
    "axes[1].set(ylabel='Общая выплаченная валовая сумма заработной платы')\n",
    "axes[1].set_title('Распределение выплат заработной платы')\n",
    "\n",
    "plt.show()"
   ]
  },
  {
   "cell_type": "code",
   "execution_count": 140,
   "metadata": {},
   "outputs": [
    {
     "data": {
      "text/html": [
       "<div>\n",
       "<style scoped>\n",
       "    .dataframe tbody tr th:only-of-type {\n",
       "        vertical-align: middle;\n",
       "    }\n",
       "\n",
       "    .dataframe tbody tr th {\n",
       "        vertical-align: top;\n",
       "    }\n",
       "\n",
       "    .dataframe thead th {\n",
       "        text-align: right;\n",
       "    }\n",
       "</style>\n",
       "<table border=\"1\" class=\"dataframe\">\n",
       "  <thead>\n",
       "    <tr style=\"text-align: right;\">\n",
       "      <th></th>\n",
       "      <th>Общая выплач. вал. сумма заработной платы</th>\n",
       "    </tr>\n",
       "  </thead>\n",
       "  <tbody>\n",
       "    <tr>\n",
       "      <th>count</th>\n",
       "      <td>607.00</td>\n",
       "    </tr>\n",
       "    <tr>\n",
       "      <th>mean</th>\n",
       "      <td>324000.06</td>\n",
       "    </tr>\n",
       "    <tr>\n",
       "      <th>std</th>\n",
       "      <td>1544357.49</td>\n",
       "    </tr>\n",
       "    <tr>\n",
       "      <th>min</th>\n",
       "      <td>4000.00</td>\n",
       "    </tr>\n",
       "    <tr>\n",
       "      <th>25%</th>\n",
       "      <td>70000.00</td>\n",
       "    </tr>\n",
       "    <tr>\n",
       "      <th>50%</th>\n",
       "      <td>115000.00</td>\n",
       "    </tr>\n",
       "    <tr>\n",
       "      <th>75%</th>\n",
       "      <td>165000.00</td>\n",
       "    </tr>\n",
       "    <tr>\n",
       "      <th>max</th>\n",
       "      <td>30400000.00</td>\n",
       "    </tr>\n",
       "  </tbody>\n",
       "</table>\n",
       "</div>"
      ],
      "text/plain": [
       "       Общая выплач. вал. сумма заработной платы\n",
       "count                                     607.00\n",
       "mean                                   324000.06\n",
       "std                                   1544357.49\n",
       "min                                      4000.00\n",
       "25%                                     70000.00\n",
       "50%                                    115000.00\n",
       "75%                                    165000.00\n",
       "max                                  30400000.00"
      ]
     },
     "execution_count": 140,
     "metadata": {},
     "output_type": "execute_result"
    }
   ],
   "source": [
    "data_sal = data['salary'].describe().round(2).to_frame()\n",
    "data_sal.columns = ['Общая выплач. вал. сумма заработной платы']\n",
    "data_sal"
   ]
  },
  {
   "attachments": {},
   "cell_type": "markdown",
   "metadata": {},
   "source": [
    "Распределение заработной платы отличается от нормальной, есть выбросы."
   ]
  },
  {
   "cell_type": "code",
   "execution_count": 141,
   "metadata": {},
   "outputs": [
    {
     "data": {
      "text/plain": [
       "Data Scientist                              143\n",
       "Data Engineer                               132\n",
       "Data Analyst                                 97\n",
       "Machine Learning Engineer                    41\n",
       "Research Scientist                           16\n",
       "Data Science Manager                         12\n",
       "Data Architect                               11\n",
       "Big Data Engineer                             8\n",
       "Machine Learning Scientist                    8\n",
       "Principal Data Scientist                      7\n",
       "AI Scientist                                  7\n",
       "Data Science Consultant                       7\n",
       "Director of Data Science                      7\n",
       "Data Analytics Manager                        7\n",
       "ML Engineer                                   6\n",
       "Computer Vision Engineer                      6\n",
       "BI Data Analyst                               6\n",
       "Lead Data Engineer                            6\n",
       "Data Engineering Manager                      5\n",
       "Business Data Analyst                         5\n",
       "Head of Data                                  5\n",
       "Applied Data Scientist                        5\n",
       "Applied Machine Learning Scientist            4\n",
       "Head of Data Science                          4\n",
       "Analytics Engineer                            4\n",
       "Data Analytics Engineer                       4\n",
       "Machine Learning Developer                    3\n",
       "Machine Learning Infrastructure Engineer      3\n",
       "Lead Data Scientist                           3\n",
       "Computer Vision Software Engineer             3\n",
       "Lead Data Analyst                             3\n",
       "Data Science Engineer                         3\n",
       "Principal Data Engineer                       3\n",
       "Principal Data Analyst                        2\n",
       "ETL Developer                                 2\n",
       "Product Data Analyst                          2\n",
       "Director of Data Engineering                  2\n",
       "Financial Data Analyst                        2\n",
       "Cloud Data Engineer                           2\n",
       "Lead Machine Learning Engineer                1\n",
       "NLP Engineer                                  1\n",
       "Head of Machine Learning                      1\n",
       "3D Computer Vision Researcher                 1\n",
       "Data Specialist                               1\n",
       "Staff Data Scientist                          1\n",
       "Big Data Architect                            1\n",
       "Finance Data Analyst                          1\n",
       "Marketing Data Analyst                        1\n",
       "Machine Learning Manager                      1\n",
       "Data Analytics Lead                           1\n",
       "Name: job_title, dtype: int64"
      ]
     },
     "execution_count": 141,
     "metadata": {},
     "output_type": "execute_result"
    }
   ],
   "source": [
    "data['job_title'].value_counts()\n"
   ]
  },
  {
   "cell_type": "code",
   "execution_count": 142,
   "metadata": {},
   "outputs": [],
   "source": [
    "# Делаем выборку по Data Scientist\n",
    "mask1=data['job_title']=='Data Scientist'\n",
    "data2=data[mask1]"
   ]
  },
  {
   "cell_type": "code",
   "execution_count": 244,
   "metadata": {},
   "outputs": [
    {
     "data": {
      "image/png": "[encoded data removed]",
      "text/plain": [
       "<Figure size 640x480 with 1 Axes>"
      ]
     },
     "metadata": {},
     "output_type": "display_data"
    }
   ],
   "source": [
    "# Заработная плата Data Scientist в зависимости от года\n",
    "data2=data[mask1]\n",
    "\n",
    "ax = sns.boxplot(data2, x='salary', y='work_year', orient='h', medianprops={\"color\": \"red\", \"linestyle\": '--'})\n",
    "ax.set(xlabel='Заработная плата', ylabel='год')\n",
    "plt.title('Заработная плата Data Scientist в зависимости от года')\n",
    "plt.show()"
   ]
  },
  {
   "cell_type": "code",
   "execution_count": 257,
   "metadata": {},
   "outputs": [
    {
     "name": "stdout",
     "output_type": "stream",
     "text": [
      "Заработная плата Data Scientist в зависимости от типа трудоустройства\n"
     ]
    },
    {
     "data": {
      "text/html": [
       "<div>\n",
       "<style scoped>\n",
       "    .dataframe tbody tr th:only-of-type {\n",
       "        vertical-align: middle;\n",
       "    }\n",
       "\n",
       "    .dataframe tbody tr th {\n",
       "        vertical-align: top;\n",
       "    }\n",
       "\n",
       "    .dataframe thead th {\n",
       "        text-align: right;\n",
       "    }\n",
       "</style>\n",
       "<table border=\"1\" class=\"dataframe\">\n",
       "  <thead>\n",
       "    <tr style=\"text-align: right;\">\n",
       "      <th></th>\n",
       "      <th>count</th>\n",
       "      <th>mean</th>\n",
       "      <th>std</th>\n",
       "      <th>min</th>\n",
       "      <th>25%</th>\n",
       "      <th>50%</th>\n",
       "      <th>75%</th>\n",
       "      <th>max</th>\n",
       "    </tr>\n",
       "    <tr>\n",
       "      <th>work_year</th>\n",
       "      <th></th>\n",
       "      <th></th>\n",
       "      <th></th>\n",
       "      <th></th>\n",
       "      <th></th>\n",
       "      <th></th>\n",
       "      <th></th>\n",
       "      <th></th>\n",
       "    </tr>\n",
       "  </thead>\n",
       "  <tbody>\n",
       "    <tr>\n",
       "      <th>2020</th>\n",
       "      <td>21.0</td>\n",
       "      <td>744634.0</td>\n",
       "      <td>2435465.0</td>\n",
       "      <td>19000.0</td>\n",
       "      <td>45000.0</td>\n",
       "      <td>60000.0</td>\n",
       "      <td>118000.0</td>\n",
       "      <td>11000000.0</td>\n",
       "    </tr>\n",
       "    <tr>\n",
       "      <th>2021</th>\n",
       "      <td>45.0</td>\n",
       "      <td>951508.0</td>\n",
       "      <td>4526444.0</td>\n",
       "      <td>4000.0</td>\n",
       "      <td>58000.0</td>\n",
       "      <td>90000.0</td>\n",
       "      <td>150000.0</td>\n",
       "      <td>30400000.0</td>\n",
       "    </tr>\n",
       "    <tr>\n",
       "      <th>2022</th>\n",
       "      <td>77.0</td>\n",
       "      <td>184916.0</td>\n",
       "      <td>297744.0</td>\n",
       "      <td>30000.0</td>\n",
       "      <td>102100.0</td>\n",
       "      <td>140000.0</td>\n",
       "      <td>180000.0</td>\n",
       "      <td>2400000.0</td>\n",
       "    </tr>\n",
       "  </tbody>\n",
       "</table>\n",
       "</div>"
      ],
      "text/plain": [
       "           count      mean        std      min       25%       50%       75%  \\\n",
       "work_year                                                                      \n",
       "2020        21.0  744634.0  2435465.0  19000.0   45000.0   60000.0  118000.0   \n",
       "2021        45.0  951508.0  4526444.0   4000.0   58000.0   90000.0  150000.0   \n",
       "2022        77.0  184916.0   297744.0  30000.0  102100.0  140000.0  180000.0   \n",
       "\n",
       "                  max  \n",
       "work_year              \n",
       "2020       11000000.0  \n",
       "2021       30400000.0  \n",
       "2022        2400000.0  "
      ]
     },
     "execution_count": 257,
     "metadata": {},
     "output_type": "execute_result"
    }
   ],
   "source": [
    "data_work_year = data2.groupby('work_year')['salary'].describe().round(0)\n",
    "print('Заработная плата Data Scientist в зависимости от типа трудоустройства')\n",
    "data_work_year "
   ]
  },
  {
   "attachments": {},
   "cell_type": "markdown",
   "metadata": {},
   "source": [
    "1. Заработная плата Data Scientist не увеличвается с 2022"
   ]
  },
  {
   "cell_type": "code",
   "execution_count": 246,
   "metadata": {},
   "outputs": [
    {
     "data": {
      "image/png": "[encoded data removed]",
      "text/plain": [
       "<Figure size 640x480 with 1 Axes>"
      ]
     },
     "metadata": {},
     "output_type": "display_data"
    }
   ],
   "source": [
    "# Заработная плата Data Scientist в зависимости от опыта работы\n",
    "data2=data[mask1]\n",
    "\n",
    "ax = sns.boxplot(data2, x='salary', y='experience_level', orient='h', medianprops={\"color\": \"red\", \"linestyle\": '--'})\n",
    "ax.set(xlabel='Заработная плата', ylabel='experience_level')\n",
    "plt.title('Заработная плата Data Scientist в зависимости от опыта работы')\n",
    "plt.show()"
   ]
  },
  {
   "cell_type": "code",
   "execution_count": 284,
   "metadata": {},
   "outputs": [
    {
     "name": "stdout",
     "output_type": "stream",
     "text": [
      "Заработная плата Data Scientist в зависимости от типа трудоустройства\n"
     ]
    },
    {
     "data": {
      "text/html": [
       "<div>\n",
       "<style scoped>\n",
       "    .dataframe tbody tr th:only-of-type {\n",
       "        vertical-align: middle;\n",
       "    }\n",
       "\n",
       "    .dataframe tbody tr th {\n",
       "        vertical-align: top;\n",
       "    }\n",
       "\n",
       "    .dataframe thead th {\n",
       "        text-align: right;\n",
       "    }\n",
       "</style>\n",
       "<table border=\"1\" class=\"dataframe\">\n",
       "  <thead>\n",
       "    <tr style=\"text-align: right;\">\n",
       "      <th></th>\n",
       "      <th>count</th>\n",
       "      <th>mean</th>\n",
       "      <th>std</th>\n",
       "      <th>min</th>\n",
       "      <th>25%</th>\n",
       "      <th>50%</th>\n",
       "      <th>75%</th>\n",
       "      <th>max</th>\n",
       "    </tr>\n",
       "    <tr>\n",
       "      <th>experience_level</th>\n",
       "      <th></th>\n",
       "      <th></th>\n",
       "      <th></th>\n",
       "      <th></th>\n",
       "      <th></th>\n",
       "      <th></th>\n",
       "      <th></th>\n",
       "      <th></th>\n",
       "    </tr>\n",
       "  </thead>\n",
       "  <tbody>\n",
       "    <tr>\n",
       "      <th>EN</th>\n",
       "      <td>22.0</td>\n",
       "      <td>311231.82</td>\n",
       "      <td>660796.73</td>\n",
       "      <td>4000.0</td>\n",
       "      <td>40500.0</td>\n",
       "      <td>62250.0</td>\n",
       "      <td>100000.0</td>\n",
       "      <td>2200000.0</td>\n",
       "    </tr>\n",
       "    <tr>\n",
       "      <th>MI</th>\n",
       "      <td>60.0</td>\n",
       "      <td>939987.17</td>\n",
       "      <td>4149556.55</td>\n",
       "      <td>21600.0</td>\n",
       "      <td>57250.0</td>\n",
       "      <td>97500.0</td>\n",
       "      <td>142725.0</td>\n",
       "      <td>30400000.0</td>\n",
       "    </tr>\n",
       "    <tr>\n",
       "      <th>SE</th>\n",
       "      <td>61.0</td>\n",
       "      <td>154874.10</td>\n",
       "      <td>57691.63</td>\n",
       "      <td>45000.0</td>\n",
       "      <td>123000.0</td>\n",
       "      <td>140400.0</td>\n",
       "      <td>180000.0</td>\n",
       "      <td>412000.0</td>\n",
       "    </tr>\n",
       "  </tbody>\n",
       "</table>\n",
       "</div>"
      ],
      "text/plain": [
       "                  count       mean         std      min       25%       50%  \\\n",
       "experience_level                                                              \n",
       "EN                 22.0  311231.82   660796.73   4000.0   40500.0   62250.0   \n",
       "MI                 60.0  939987.17  4149556.55  21600.0   57250.0   97500.0   \n",
       "SE                 61.0  154874.10    57691.63  45000.0  123000.0  140400.0   \n",
       "\n",
       "                       75%         max  \n",
       "experience_level                        \n",
       "EN                100000.0   2200000.0  \n",
       "MI                142725.0  30400000.0  \n",
       "SE                180000.0    412000.0  "
      ]
     },
     "execution_count": 284,
     "metadata": {},
     "output_type": "execute_result"
    }
   ],
   "source": [
    "data_level = data2.groupby('experience_level')['salary'].describe().round(2)\n",
    "print('Заработная плата Data Scientist в зависимости от типа трудоустройства')\n",
    "data_level"
   ]
  },
  {
   "attachments": {},
   "cell_type": "markdown",
   "metadata": {},
   "source": [
    "Заработная плата в Mid level наблюдается самая высокая"
   ]
  },
  {
   "cell_type": "code",
   "execution_count": 247,
   "metadata": {},
   "outputs": [
    {
     "data": {
      "image/png": "[encoded data removed]",
      "text/plain": [
       "<Figure size 640x480 with 1 Axes>"
      ]
     },
     "metadata": {},
     "output_type": "display_data"
    }
   ],
   "source": [
    "# Заработная плата Data Scientist в зависимости от типа трудоустройства\n",
    "data2=data[mask1]\n",
    "\n",
    "ax = sns.boxplot(data2, x='salary', y='employment_type', orient='h', medianprops={\"color\": \"red\", \"linestyle\": '--'})\n",
    "ax.set(xlabel='Заработная плата', ylabel='employment_type')\n",
    "plt.title('Заработная плата Data Scientist в зависимости от типа трудоустройства')\n",
    "plt.show()"
   ]
  },
  {
   "cell_type": "code",
   "execution_count": 248,
   "metadata": {},
   "outputs": [
    {
     "name": "stdout",
     "output_type": "stream",
     "text": [
      "Заработная плата Data Scientist в зависимости от типа трудоустройства\n"
     ]
    },
    {
     "data": {
      "text/html": [
       "<div>\n",
       "<style scoped>\n",
       "    .dataframe tbody tr th:only-of-type {\n",
       "        vertical-align: middle;\n",
       "    }\n",
       "\n",
       "    .dataframe tbody tr th {\n",
       "        vertical-align: top;\n",
       "    }\n",
       "\n",
       "    .dataframe thead th {\n",
       "        text-align: right;\n",
       "    }\n",
       "</style>\n",
       "<table border=\"1\" class=\"dataframe\">\n",
       "  <thead>\n",
       "    <tr style=\"text-align: right;\">\n",
       "      <th></th>\n",
       "      <th>count</th>\n",
       "      <th>mean</th>\n",
       "      <th>std</th>\n",
       "      <th>min</th>\n",
       "      <th>25%</th>\n",
       "      <th>50%</th>\n",
       "      <th>75%</th>\n",
       "      <th>max</th>\n",
       "    </tr>\n",
       "    <tr>\n",
       "      <th>employment_type</th>\n",
       "      <th></th>\n",
       "      <th></th>\n",
       "      <th></th>\n",
       "      <th></th>\n",
       "      <th></th>\n",
       "      <th></th>\n",
       "      <th></th>\n",
       "      <th></th>\n",
       "    </tr>\n",
       "  </thead>\n",
       "  <tbody>\n",
       "    <tr>\n",
       "      <th>FL</th>\n",
       "      <td>1.0</td>\n",
       "      <td>100000.00</td>\n",
       "      <td>NaN</td>\n",
       "      <td>100000.0</td>\n",
       "      <td>100000.0</td>\n",
       "      <td>100000.0</td>\n",
       "      <td>100000.0</td>\n",
       "      <td>100000.0</td>\n",
       "    </tr>\n",
       "    <tr>\n",
       "      <th>FT</th>\n",
       "      <td>140.0</td>\n",
       "      <td>517676.07</td>\n",
       "      <td>2741041.31</td>\n",
       "      <td>4000.0</td>\n",
       "      <td>74500.0</td>\n",
       "      <td>123000.0</td>\n",
       "      <td>165055.0</td>\n",
       "      <td>30400000.0</td>\n",
       "    </tr>\n",
       "    <tr>\n",
       "      <th>PT</th>\n",
       "      <td>2.0</td>\n",
       "      <td>59500.00</td>\n",
       "      <td>57275.65</td>\n",
       "      <td>19000.0</td>\n",
       "      <td>39250.0</td>\n",
       "      <td>59500.0</td>\n",
       "      <td>79750.0</td>\n",
       "      <td>100000.0</td>\n",
       "    </tr>\n",
       "  </tbody>\n",
       "</table>\n",
       "</div>"
      ],
      "text/plain": [
       "                 count       mean         std       min       25%       50%  \\\n",
       "employment_type                                                               \n",
       "FL                 1.0  100000.00         NaN  100000.0  100000.0  100000.0   \n",
       "FT               140.0  517676.07  2741041.31    4000.0   74500.0  123000.0   \n",
       "PT                 2.0   59500.00    57275.65   19000.0   39250.0   59500.0   \n",
       "\n",
       "                      75%         max  \n",
       "employment_type                        \n",
       "FL               100000.0    100000.0  \n",
       "FT               165055.0  30400000.0  \n",
       "PT                79750.0    100000.0  "
      ]
     },
     "execution_count": 248,
     "metadata": {},
     "output_type": "execute_result"
    }
   ],
   "source": [
    "data_eml_type = data2.groupby('employment_type')['salary'].describe().round(2)\n",
    "print('Заработная плата Data Scientist в зависимости от типа трудоустройства')\n",
    "data_eml_type"
   ]
  },
  {
   "attachments": {},
   "cell_type": "markdown",
   "metadata": {},
   "source": [
    "На полный рабочий день самая высокая заработная плата"
   ]
  },
  {
   "cell_type": "code",
   "execution_count": 126,
   "metadata": {},
   "outputs": [
    {
     "data": {
      "image/png": "[encoded data removed]",
      "text/plain": [
       "<Figure size 640x480 with 1 Axes>"
      ]
     },
     "metadata": {},
     "output_type": "display_data"
    }
   ],
   "source": [
    "# Заработная плата в зависимости от размера компании Data Science\n",
    "data2=data[mask1]\n",
    "\n",
    "ax = sns.boxplot(data2, x='salary', y='company_size', orient='h', medianprops={\"color\": \"red\", \"linestyle\": '--'})\n",
    "ax.set(xlabel='Заработная плата', ylabel='company_size')\n",
    "plt.title('Заработная плата в зависимости от размера компании Data Science')\n",
    "plt.show()"
   ]
  },
  {
   "cell_type": "code",
   "execution_count": 249,
   "metadata": {},
   "outputs": [
    {
     "name": "stdout",
     "output_type": "stream",
     "text": [
      "Заработная плата Data Scientist в зависимости от типа трудоустройства\n"
     ]
    },
    {
     "data": {
      "text/html": [
       "<div>\n",
       "<style scoped>\n",
       "    .dataframe tbody tr th:only-of-type {\n",
       "        vertical-align: middle;\n",
       "    }\n",
       "\n",
       "    .dataframe tbody tr th {\n",
       "        vertical-align: top;\n",
       "    }\n",
       "\n",
       "    .dataframe thead th {\n",
       "        text-align: right;\n",
       "    }\n",
       "</style>\n",
       "<table border=\"1\" class=\"dataframe\">\n",
       "  <thead>\n",
       "    <tr style=\"text-align: right;\">\n",
       "      <th></th>\n",
       "      <th>count</th>\n",
       "      <th>mean</th>\n",
       "      <th>std</th>\n",
       "      <th>min</th>\n",
       "      <th>25%</th>\n",
       "      <th>50%</th>\n",
       "      <th>75%</th>\n",
       "      <th>max</th>\n",
       "    </tr>\n",
       "    <tr>\n",
       "      <th>company_size</th>\n",
       "      <th></th>\n",
       "      <th></th>\n",
       "      <th></th>\n",
       "      <th></th>\n",
       "      <th></th>\n",
       "      <th></th>\n",
       "      <th></th>\n",
       "      <th></th>\n",
       "    </tr>\n",
       "  </thead>\n",
       "  <tbody>\n",
       "    <tr>\n",
       "      <th>L</th>\n",
       "      <td>45.0</td>\n",
       "      <td>1192693.78</td>\n",
       "      <td>4770865.89</td>\n",
       "      <td>13400.0</td>\n",
       "      <td>73000.0</td>\n",
       "      <td>120000.0</td>\n",
       "      <td>165000.0</td>\n",
       "      <td>30400000.0</td>\n",
       "    </tr>\n",
       "    <tr>\n",
       "      <th>M</th>\n",
       "      <td>77.0</td>\n",
       "      <td>201659.35</td>\n",
       "      <td>379422.41</td>\n",
       "      <td>4000.0</td>\n",
       "      <td>95550.0</td>\n",
       "      <td>138600.0</td>\n",
       "      <td>167000.0</td>\n",
       "      <td>2500000.0</td>\n",
       "    </tr>\n",
       "    <tr>\n",
       "      <th>S</th>\n",
       "      <td>21.0</td>\n",
       "      <td>166412.38</td>\n",
       "      <td>294119.07</td>\n",
       "      <td>19000.0</td>\n",
       "      <td>45760.0</td>\n",
       "      <td>60000.0</td>\n",
       "      <td>100000.0</td>\n",
       "      <td>1250000.0</td>\n",
       "    </tr>\n",
       "  </tbody>\n",
       "</table>\n",
       "</div>"
      ],
      "text/plain": [
       "              count        mean         std      min      25%       50%  \\\n",
       "company_size                                                              \n",
       "L              45.0  1192693.78  4770865.89  13400.0  73000.0  120000.0   \n",
       "M              77.0   201659.35   379422.41   4000.0  95550.0  138600.0   \n",
       "S              21.0   166412.38   294119.07  19000.0  45760.0   60000.0   \n",
       "\n",
       "                   75%         max  \n",
       "company_size                        \n",
       "L             165000.0  30400000.0  \n",
       "M             167000.0   2500000.0  \n",
       "S             100000.0   1250000.0  "
      ]
     },
     "execution_count": 249,
     "metadata": {},
     "output_type": "execute_result"
    }
   ],
   "source": [
    "data_company_size = data2.groupby('company_size')['salary'].describe().round(2)\n",
    "print('Заработная плата Data Scientist в зависимости от типа трудоустройства')\n",
    "data_company_size"
   ]
  },
  {
   "attachments": {},
   "cell_type": "markdown",
   "metadata": {},
   "source": [
    "Заработная плата в крупных компаниях значительно выше, чем в остальных"
   ]
  },
  {
   "cell_type": "code",
   "execution_count": 127,
   "metadata": {},
   "outputs": [
    {
     "data": {
      "image/png": "[encoded data removed]",
      "text/plain": [
       "<Figure size 640x480 with 1 Axes>"
      ]
     },
     "metadata": {},
     "output_type": "display_data"
    }
   ],
   "source": [
    "# Заработная плата в зависимости от company_location\n",
    "data2=data[mask1]\n",
    "\n",
    "ax = sns.boxplot(data2, x='salary', y='company_location', orient='h', medianprops={\"color\": \"red\", \"linestyle\": '--'})\n",
    "ax.set(xlabel='Заработная плата', ylabel='company_location')\n",
    "plt.title('Заработная плата в зависимости от company_location')\n",
    "plt.show()"
   ]
  },
  {
   "attachments": {},
   "cell_type": "markdown",
   "metadata": {},
   "source": [
    "Заработная плата от компании зависит не значительно. Признак несущественный"
   ]
  },
  {
   "cell_type": "code",
   "execution_count": 316,
   "metadata": {},
   "outputs": [
    {
     "data": {
      "image/png": "[encoded data removed]",
      "text/plain": [
       "<Figure size 640x480 with 1 Axes>"
      ]
     },
     "metadata": {},
     "output_type": "display_data"
    }
   ],
   "source": [
    "# Заработная плата в зависимости от проживания сотрудника \n",
    "data2=data[mask1]\n",
    "\n",
    "ax = sns.boxplot(data2, x='salary', y='employee_residence', orient='h', medianprops={\"color\": \"red\", \"linestyle\": '--'})\n",
    "ax.set(xlabel='Заработная плата', ylabel='employee_residence')\n",
    "plt.title('Заработная плата в зависимости от проживания сотрудника')\n",
    "plt.show()"
   ]
  },
  {
   "cell_type": "code",
   "execution_count": 319,
   "metadata": {},
   "outputs": [
    {
     "name": "stdout",
     "output_type": "stream",
     "text": [
      "Заработная плата Data Scientist в зависимости от employee_residence\n"
     ]
    },
    {
     "data": {
      "text/html": [
       "<div>\n",
       "<style scoped>\n",
       "    .dataframe tbody tr th:only-of-type {\n",
       "        vertical-align: middle;\n",
       "    }\n",
       "\n",
       "    .dataframe tbody tr th {\n",
       "        vertical-align: top;\n",
       "    }\n",
       "\n",
       "    .dataframe thead th {\n",
       "        text-align: right;\n",
       "    }\n",
       "</style>\n",
       "<table border=\"1\" class=\"dataframe\">\n",
       "  <thead>\n",
       "    <tr style=\"text-align: right;\">\n",
       "      <th></th>\n",
       "      <th>count</th>\n",
       "      <th>mean</th>\n",
       "      <th>std</th>\n",
       "      <th>min</th>\n",
       "      <th>25%</th>\n",
       "      <th>50%</th>\n",
       "      <th>75%</th>\n",
       "      <th>max</th>\n",
       "    </tr>\n",
       "    <tr>\n",
       "      <th>employee_residence</th>\n",
       "      <th></th>\n",
       "      <th></th>\n",
       "      <th></th>\n",
       "      <th></th>\n",
       "      <th></th>\n",
       "      <th></th>\n",
       "      <th></th>\n",
       "      <th></th>\n",
       "    </tr>\n",
       "  </thead>\n",
       "  <tbody>\n",
       "    <tr>\n",
       "      <th>AT</th>\n",
       "      <td>1.0</td>\n",
       "      <td>80000.00</td>\n",
       "      <td>NaN</td>\n",
       "      <td>80000.0</td>\n",
       "      <td>80000.0</td>\n",
       "      <td>80000.0</td>\n",
       "      <td>80000.0</td>\n",
       "      <td>80000.0</td>\n",
       "    </tr>\n",
       "    <tr>\n",
       "      <th>AU</th>\n",
       "      <td>1.0</td>\n",
       "      <td>120000.00</td>\n",
       "      <td>NaN</td>\n",
       "      <td>120000.0</td>\n",
       "      <td>120000.0</td>\n",
       "      <td>120000.0</td>\n",
       "      <td>120000.0</td>\n",
       "      <td>120000.0</td>\n",
       "    </tr>\n",
       "    <tr>\n",
       "      <th>BR</th>\n",
       "      <td>2.0</td>\n",
       "      <td>84800.00</td>\n",
       "      <td>21496.05</td>\n",
       "      <td>69600.0</td>\n",
       "      <td>77200.0</td>\n",
       "      <td>84800.0</td>\n",
       "      <td>92400.0</td>\n",
       "      <td>100000.0</td>\n",
       "    </tr>\n",
       "    <tr>\n",
       "      <th>CA</th>\n",
       "      <td>6.0</td>\n",
       "      <td>98250.00</td>\n",
       "      <td>21320.76</td>\n",
       "      <td>66500.0</td>\n",
       "      <td>89750.0</td>\n",
       "      <td>97500.0</td>\n",
       "      <td>107500.0</td>\n",
       "      <td>130000.0</td>\n",
       "    </tr>\n",
       "    <tr>\n",
       "      <th>CH</th>\n",
       "      <td>1.0</td>\n",
       "      <td>115000.00</td>\n",
       "      <td>NaN</td>\n",
       "      <td>115000.0</td>\n",
       "      <td>115000.0</td>\n",
       "      <td>115000.0</td>\n",
       "      <td>115000.0</td>\n",
       "      <td>115000.0</td>\n",
       "    </tr>\n",
       "    <tr>\n",
       "      <th>CL</th>\n",
       "      <td>1.0</td>\n",
       "      <td>30400000.00</td>\n",
       "      <td>NaN</td>\n",
       "      <td>30400000.0</td>\n",
       "      <td>30400000.0</td>\n",
       "      <td>30400000.0</td>\n",
       "      <td>30400000.0</td>\n",
       "      <td>30400000.0</td>\n",
       "    </tr>\n",
       "    <tr>\n",
       "      <th>DE</th>\n",
       "      <td>7.0</td>\n",
       "      <td>64102.86</td>\n",
       "      <td>13785.26</td>\n",
       "      <td>43200.0</td>\n",
       "      <td>53500.0</td>\n",
       "      <td>70000.0</td>\n",
       "      <td>75880.0</td>\n",
       "      <td>76760.0</td>\n",
       "    </tr>\n",
       "    <tr>\n",
       "      <th>DZ</th>\n",
       "      <td>1.0</td>\n",
       "      <td>100000.00</td>\n",
       "      <td>NaN</td>\n",
       "      <td>100000.0</td>\n",
       "      <td>100000.0</td>\n",
       "      <td>100000.0</td>\n",
       "      <td>100000.0</td>\n",
       "      <td>100000.0</td>\n",
       "    </tr>\n",
       "    <tr>\n",
       "      <th>ES</th>\n",
       "      <td>3.0</td>\n",
       "      <td>35200.00</td>\n",
       "      <td>3939.54</td>\n",
       "      <td>32000.0</td>\n",
       "      <td>33000.0</td>\n",
       "      <td>34000.0</td>\n",
       "      <td>36800.0</td>\n",
       "      <td>39600.0</td>\n",
       "    </tr>\n",
       "    <tr>\n",
       "      <th>FR</th>\n",
       "      <td>8.0</td>\n",
       "      <td>44465.00</td>\n",
       "      <td>11313.89</td>\n",
       "      <td>31000.0</td>\n",
       "      <td>36500.0</td>\n",
       "      <td>43500.0</td>\n",
       "      <td>47500.0</td>\n",
       "      <td>65720.0</td>\n",
       "    </tr>\n",
       "    <tr>\n",
       "      <th>GB</th>\n",
       "      <td>11.0</td>\n",
       "      <td>66900.00</td>\n",
       "      <td>31489.84</td>\n",
       "      <td>30000.0</td>\n",
       "      <td>45450.0</td>\n",
       "      <td>60000.0</td>\n",
       "      <td>82500.0</td>\n",
       "      <td>140000.0</td>\n",
       "    </tr>\n",
       "    <tr>\n",
       "      <th>GR</th>\n",
       "      <td>1.0</td>\n",
       "      <td>60000.00</td>\n",
       "      <td>NaN</td>\n",
       "      <td>60000.0</td>\n",
       "      <td>60000.0</td>\n",
       "      <td>60000.0</td>\n",
       "      <td>60000.0</td>\n",
       "      <td>60000.0</td>\n",
       "    </tr>\n",
       "    <tr>\n",
       "      <th>HU</th>\n",
       "      <td>1.0</td>\n",
       "      <td>11000000.00</td>\n",
       "      <td>NaN</td>\n",
       "      <td>11000000.0</td>\n",
       "      <td>11000000.0</td>\n",
       "      <td>11000000.0</td>\n",
       "      <td>11000000.0</td>\n",
       "      <td>11000000.0</td>\n",
       "    </tr>\n",
       "    <tr>\n",
       "      <th>IN</th>\n",
       "      <td>9.0</td>\n",
       "      <td>1774444.44</td>\n",
       "      <td>874001.02</td>\n",
       "      <td>420000.0</td>\n",
       "      <td>1250000.0</td>\n",
       "      <td>2100000.0</td>\n",
       "      <td>2400000.0</td>\n",
       "      <td>3000000.0</td>\n",
       "    </tr>\n",
       "    <tr>\n",
       "      <th>IT</th>\n",
       "      <td>1.0</td>\n",
       "      <td>19000.00</td>\n",
       "      <td>NaN</td>\n",
       "      <td>19000.0</td>\n",
       "      <td>19000.0</td>\n",
       "      <td>19000.0</td>\n",
       "      <td>19000.0</td>\n",
       "      <td>19000.0</td>\n",
       "    </tr>\n",
       "    <tr>\n",
       "      <th>JP</th>\n",
       "      <td>1.0</td>\n",
       "      <td>40000.00</td>\n",
       "      <td>NaN</td>\n",
       "      <td>40000.0</td>\n",
       "      <td>40000.0</td>\n",
       "      <td>40000.0</td>\n",
       "      <td>40000.0</td>\n",
       "      <td>40000.0</td>\n",
       "    </tr>\n",
       "    <tr>\n",
       "      <th>MX</th>\n",
       "      <td>1.0</td>\n",
       "      <td>58000.00</td>\n",
       "      <td>NaN</td>\n",
       "      <td>58000.0</td>\n",
       "      <td>58000.0</td>\n",
       "      <td>58000.0</td>\n",
       "      <td>58000.0</td>\n",
       "      <td>58000.0</td>\n",
       "    </tr>\n",
       "    <tr>\n",
       "      <th>NG</th>\n",
       "      <td>1.0</td>\n",
       "      <td>50000.00</td>\n",
       "      <td>NaN</td>\n",
       "      <td>50000.0</td>\n",
       "      <td>50000.0</td>\n",
       "      <td>50000.0</td>\n",
       "      <td>50000.0</td>\n",
       "      <td>50000.0</td>\n",
       "    </tr>\n",
       "    <tr>\n",
       "      <th>PH</th>\n",
       "      <td>1.0</td>\n",
       "      <td>45760.00</td>\n",
       "      <td>NaN</td>\n",
       "      <td>45760.0</td>\n",
       "      <td>45760.0</td>\n",
       "      <td>45760.0</td>\n",
       "      <td>45760.0</td>\n",
       "      <td>45760.0</td>\n",
       "    </tr>\n",
       "    <tr>\n",
       "      <th>PL</th>\n",
       "      <td>1.0</td>\n",
       "      <td>150000.00</td>\n",
       "      <td>NaN</td>\n",
       "      <td>150000.0</td>\n",
       "      <td>150000.0</td>\n",
       "      <td>150000.0</td>\n",
       "      <td>150000.0</td>\n",
       "      <td>150000.0</td>\n",
       "    </tr>\n",
       "    <tr>\n",
       "      <th>RS</th>\n",
       "      <td>1.0</td>\n",
       "      <td>21600.00</td>\n",
       "      <td>NaN</td>\n",
       "      <td>21600.0</td>\n",
       "      <td>21600.0</td>\n",
       "      <td>21600.0</td>\n",
       "      <td>21600.0</td>\n",
       "      <td>21600.0</td>\n",
       "    </tr>\n",
       "    <tr>\n",
       "      <th>RU</th>\n",
       "      <td>1.0</td>\n",
       "      <td>48000.00</td>\n",
       "      <td>NaN</td>\n",
       "      <td>48000.0</td>\n",
       "      <td>48000.0</td>\n",
       "      <td>48000.0</td>\n",
       "      <td>48000.0</td>\n",
       "      <td>48000.0</td>\n",
       "    </tr>\n",
       "    <tr>\n",
       "      <th>SG</th>\n",
       "      <td>1.0</td>\n",
       "      <td>160000.00</td>\n",
       "      <td>NaN</td>\n",
       "      <td>160000.0</td>\n",
       "      <td>160000.0</td>\n",
       "      <td>160000.0</td>\n",
       "      <td>160000.0</td>\n",
       "      <td>160000.0</td>\n",
       "    </tr>\n",
       "    <tr>\n",
       "      <th>TR</th>\n",
       "      <td>1.0</td>\n",
       "      <td>180000.00</td>\n",
       "      <td>NaN</td>\n",
       "      <td>180000.0</td>\n",
       "      <td>180000.0</td>\n",
       "      <td>180000.0</td>\n",
       "      <td>180000.0</td>\n",
       "      <td>180000.0</td>\n",
       "    </tr>\n",
       "    <tr>\n",
       "      <th>UA</th>\n",
       "      <td>1.0</td>\n",
       "      <td>13400.00</td>\n",
       "      <td>NaN</td>\n",
       "      <td>13400.0</td>\n",
       "      <td>13400.0</td>\n",
       "      <td>13400.0</td>\n",
       "      <td>13400.0</td>\n",
       "      <td>13400.0</td>\n",
       "    </tr>\n",
       "    <tr>\n",
       "      <th>US</th>\n",
       "      <td>78.0</td>\n",
       "      <td>149408.33</td>\n",
       "      <td>52576.02</td>\n",
       "      <td>58000.0</td>\n",
       "      <td>120000.0</td>\n",
       "      <td>140000.0</td>\n",
       "      <td>174500.0</td>\n",
       "      <td>412000.0</td>\n",
       "    </tr>\n",
       "    <tr>\n",
       "      <th>VN</th>\n",
       "      <td>1.0</td>\n",
       "      <td>4000.00</td>\n",
       "      <td>NaN</td>\n",
       "      <td>4000.0</td>\n",
       "      <td>4000.0</td>\n",
       "      <td>4000.0</td>\n",
       "      <td>4000.0</td>\n",
       "      <td>4000.0</td>\n",
       "    </tr>\n",
       "  </tbody>\n",
       "</table>\n",
       "</div>"
      ],
      "text/plain": [
       "                    count         mean        std         min         25%  \\\n",
       "employee_residence                                                          \n",
       "AT                    1.0     80000.00        NaN     80000.0     80000.0   \n",
       "AU                    1.0    120000.00        NaN    120000.0    120000.0   \n",
       "BR                    2.0     84800.00   21496.05     69600.0     77200.0   \n",
       "CA                    6.0     98250.00   21320.76     66500.0     89750.0   \n",
       "CH                    1.0    115000.00        NaN    115000.0    115000.0   \n",
       "CL                    1.0  30400000.00        NaN  30400000.0  30400000.0   \n",
       "DE                    7.0     64102.86   13785.26     43200.0     53500.0   \n",
       "DZ                    1.0    100000.00        NaN    100000.0    100000.0   \n",
       "ES                    3.0     35200.00    3939.54     32000.0     33000.0   \n",
       "FR                    8.0     44465.00   11313.89     31000.0     36500.0   \n",
       "GB                   11.0     66900.00   31489.84     30000.0     45450.0   \n",
       "GR                    1.0     60000.00        NaN     60000.0     60000.0   \n",
       "HU                    1.0  11000000.00        NaN  11000000.0  11000000.0   \n",
       "IN                    9.0   1774444.44  874001.02    420000.0   1250000.0   \n",
       "IT                    1.0     19000.00        NaN     19000.0     19000.0   \n",
       "JP                    1.0     40000.00        NaN     40000.0     40000.0   \n",
       "MX                    1.0     58000.00        NaN     58000.0     58000.0   \n",
       "NG                    1.0     50000.00        NaN     50000.0     50000.0   \n",
       "PH                    1.0     45760.00        NaN     45760.0     45760.0   \n",
       "PL                    1.0    150000.00        NaN    150000.0    150000.0   \n",
       "RS                    1.0     21600.00        NaN     21600.0     21600.0   \n",
       "RU                    1.0     48000.00        NaN     48000.0     48000.0   \n",
       "SG                    1.0    160000.00        NaN    160000.0    160000.0   \n",
       "TR                    1.0    180000.00        NaN    180000.0    180000.0   \n",
       "UA                    1.0     13400.00        NaN     13400.0     13400.0   \n",
       "US                   78.0    149408.33   52576.02     58000.0    120000.0   \n",
       "VN                    1.0      4000.00        NaN      4000.0      4000.0   \n",
       "\n",
       "                           50%         75%         max  \n",
       "employee_residence                                      \n",
       "AT                     80000.0     80000.0     80000.0  \n",
       "AU                    120000.0    120000.0    120000.0  \n",
       "BR                     84800.0     92400.0    100000.0  \n",
       "CA                     97500.0    107500.0    130000.0  \n",
       "CH                    115000.0    115000.0    115000.0  \n",
       "CL                  30400000.0  30400000.0  30400000.0  \n",
       "DE                     70000.0     75880.0     76760.0  \n",
       "DZ                    100000.0    100000.0    100000.0  \n",
       "ES                     34000.0     36800.0     39600.0  \n",
       "FR                     43500.0     47500.0     65720.0  \n",
       "GB                     60000.0     82500.0    140000.0  \n",
       "GR                     60000.0     60000.0     60000.0  \n",
       "HU                  11000000.0  11000000.0  11000000.0  \n",
       "IN                   2100000.0   2400000.0   3000000.0  \n",
       "IT                     19000.0     19000.0     19000.0  \n",
       "JP                     40000.0     40000.0     40000.0  \n",
       "MX                     58000.0     58000.0     58000.0  \n",
       "NG                     50000.0     50000.0     50000.0  \n",
       "PH                     45760.0     45760.0     45760.0  \n",
       "PL                    150000.0    150000.0    150000.0  \n",
       "RS                     21600.0     21600.0     21600.0  \n",
       "RU                     48000.0     48000.0     48000.0  \n",
       "SG                    160000.0    160000.0    160000.0  \n",
       "TR                    180000.0    180000.0    180000.0  \n",
       "UA                     13400.0     13400.0     13400.0  \n",
       "US                    140000.0    174500.0    412000.0  \n",
       "VN                      4000.0      4000.0      4000.0  "
      ]
     },
     "execution_count": 319,
     "metadata": {},
     "output_type": "execute_result"
    }
   ],
   "source": [
    "data_employee_residence = data2.groupby('employee_residence')['salary'].describe().round(2)\n",
    "print('Заработная плата Data Scientist в зависимости от employee_residence')\n",
    "data_employee_residence"
   ]
  },
  {
   "attachments": {},
   "cell_type": "markdown",
   "metadata": {},
   "source": [
    "Вывод: большой запрос специалистов из США, однако средние заработные платы выше из Индии (IN)"
   ]
  },
  {
   "cell_type": "code",
   "execution_count": 128,
   "metadata": {},
   "outputs": [
    {
     "data": {
      "image/png": "[encoded data removed]",
      "text/plain": [
       "<Figure size 640x480 with 1 Axes>"
      ]
     },
     "metadata": {},
     "output_type": "display_data"
    }
   ],
   "source": [
    "# Заработная плата в зависимости от объема работы, выполненного удаленно\n",
    "data2=data[mask1]\n",
    "\n",
    "ax = sns.boxplot(data2, x='salary', y='remote_ratio', orient='h', medianprops={\"color\": \"red\", \"linestyle\": '--'})\n",
    "ax.set(xlabel='Заработная плата', ylabel='remote_ratio')\n",
    "plt.title('Заработная плата в зависимости от объема работы, выполняемый удаленно')\n",
    "plt.show()"
   ]
  },
  {
   "cell_type": "code",
   "execution_count": 286,
   "metadata": {},
   "outputs": [
    {
     "name": "stdout",
     "output_type": "stream",
     "text": [
      "Заработная плата Data Scientist в зависимости от объема работы, выполняемый удаленно\n"
     ]
    },
    {
     "data": {
      "text/html": [
       "<div>\n",
       "<style scoped>\n",
       "    .dataframe tbody tr th:only-of-type {\n",
       "        vertical-align: middle;\n",
       "    }\n",
       "\n",
       "    .dataframe tbody tr th {\n",
       "        vertical-align: top;\n",
       "    }\n",
       "\n",
       "    .dataframe thead th {\n",
       "        text-align: right;\n",
       "    }\n",
       "</style>\n",
       "<table border=\"1\" class=\"dataframe\">\n",
       "  <thead>\n",
       "    <tr style=\"text-align: right;\">\n",
       "      <th></th>\n",
       "      <th>count</th>\n",
       "      <th>mean</th>\n",
       "      <th>std</th>\n",
       "      <th>min</th>\n",
       "      <th>25%</th>\n",
       "      <th>50%</th>\n",
       "      <th>75%</th>\n",
       "      <th>max</th>\n",
       "    </tr>\n",
       "    <tr>\n",
       "      <th>remote_ratio</th>\n",
       "      <th></th>\n",
       "      <th></th>\n",
       "      <th></th>\n",
       "      <th></th>\n",
       "      <th></th>\n",
       "      <th></th>\n",
       "      <th></th>\n",
       "      <th></th>\n",
       "    </tr>\n",
       "  </thead>\n",
       "  <tbody>\n",
       "    <tr>\n",
       "      <th>0</th>\n",
       "      <td>39.0</td>\n",
       "      <td>253688.46</td>\n",
       "      <td>600668.94</td>\n",
       "      <td>4000.0</td>\n",
       "      <td>69800.0</td>\n",
       "      <td>100000.0</td>\n",
       "      <td>140850.0</td>\n",
       "      <td>3000000.0</td>\n",
       "    </tr>\n",
       "    <tr>\n",
       "      <th>50</th>\n",
       "      <td>25.0</td>\n",
       "      <td>601405.60</td>\n",
       "      <td>2207768.69</td>\n",
       "      <td>19000.0</td>\n",
       "      <td>52000.0</td>\n",
       "      <td>76760.0</td>\n",
       "      <td>120000.0</td>\n",
       "      <td>11000000.0</td>\n",
       "    </tr>\n",
       "    <tr>\n",
       "      <th>100</th>\n",
       "      <td>79.0</td>\n",
       "      <td>604615.95</td>\n",
       "      <td>3417085.08</td>\n",
       "      <td>13400.0</td>\n",
       "      <td>100000.0</td>\n",
       "      <td>140000.0</td>\n",
       "      <td>178000.0</td>\n",
       "      <td>30400000.0</td>\n",
       "    </tr>\n",
       "  </tbody>\n",
       "</table>\n",
       "</div>"
      ],
      "text/plain": [
       "              count       mean         std      min       25%       50%  \\\n",
       "remote_ratio                                                              \n",
       "0              39.0  253688.46   600668.94   4000.0   69800.0  100000.0   \n",
       "50             25.0  601405.60  2207768.69  19000.0   52000.0   76760.0   \n",
       "100            79.0  604615.95  3417085.08  13400.0  100000.0  140000.0   \n",
       "\n",
       "                   75%         max  \n",
       "remote_ratio                        \n",
       "0             140850.0   3000000.0  \n",
       "50            120000.0  11000000.0  \n",
       "100           178000.0  30400000.0  "
      ]
     },
     "execution_count": 286,
     "metadata": {},
     "output_type": "execute_result"
    }
   ],
   "source": [
    "data_remote_ratio = data2.groupby('remote_ratio')['salary'].describe().round(2)\n",
    "print('Заработная плата Data Scientist в зависимости от объема работы, выполняемый удаленно')\n",
    "data_remote_ratio"
   ]
  },
  {
   "attachments": {},
   "cell_type": "markdown",
   "metadata": {},
   "source": [
    "За удаленную работу платят больше"
   ]
  },
  {
   "attachments": {},
   "cell_type": "markdown",
   "metadata": {},
   "source": [
    "2. Больше всего на заработную плату Data science влияет опыт работы, размер компании и соотношение объема работы, \n",
    "выполненной удаленно"
   ]
  },
  {
   "cell_type": "code",
   "execution_count": 227,
   "metadata": {},
   "outputs": [
    {
     "name": "stdout",
     "output_type": "stream",
     "text": [
      "<class 'pandas.core.frame.DataFrame'>\n",
      "Int64Index: 275 entries, 0 to 603\n",
      "Data columns (total 13 columns):\n",
      " #   Column              Non-Null Count  Dtype \n",
      "---  ------              --------------  ----- \n",
      " 0   Unnamed: 0          275 non-null    int64 \n",
      " 1   work_year           275 non-null    int64 \n",
      " 2   experience_level    275 non-null    object\n",
      " 3   employment_type     275 non-null    object\n",
      " 4   job_title           275 non-null    object\n",
      " 5   salary              275 non-null    int64 \n",
      " 6   salary_currency     275 non-null    object\n",
      " 7   salary_in_usd       275 non-null    int64 \n",
      " 8   employee_residence  275 non-null    object\n",
      " 9   remote_ratio        275 non-null    int64 \n",
      " 10  company_location    275 non-null    object\n",
      " 11  company_size        275 non-null    object\n",
      " 12  job                 275 non-null    object\n",
      "dtypes: int64(5), object(8)\n",
      "memory usage: 30.1+ KB\n"
     ]
    }
   ],
   "source": [
    "# создадим dataframe для Data Scientist,Data Engineer\n",
    "salary_science_eng=data.loc[data['job_title'].isin(['Data Scientist','Data Engineer'])]\n",
    "salary_science_eng.info()"
   ]
  },
  {
   "cell_type": "code",
   "execution_count": 228,
   "metadata": {},
   "outputs": [
    {
     "data": {
      "image/png": "[encoded data removed]",
      "text/plain": [
       "<Figure size 640x480 with 1 Axes>"
      ]
     },
     "metadata": {},
     "output_type": "display_data"
    }
   ],
   "source": [
    "# соотношение зарплат Data Scientist и Data Engineer в различных компаниях\n",
    "\n",
    "ax = sns.boxplot(salary_science_eng, x='salary', y='job_title', orient='h', medianprops={\"color\": \"red\", \"linestyle\": '--'})\n",
    "ax.set(xlabel='Заработная плата', ylabel='jobs')\n",
    "plt.title('соотносятся зарплаты Data Scientist и Data Engineer в различных компаниях')\n",
    "plt.show()"
   ]
  },
  {
   "cell_type": "code",
   "execution_count": 229,
   "metadata": {},
   "outputs": [
    {
     "name": "stdout",
     "output_type": "stream",
     "text": [
      "соотношение зарплат Data Scientist и Data Engineer в различных компаниях\n"
     ]
    },
    {
     "data": {
      "text/html": [
       "<div>\n",
       "<style scoped>\n",
       "    .dataframe tbody tr th:only-of-type {\n",
       "        vertical-align: middle;\n",
       "    }\n",
       "\n",
       "    .dataframe tbody tr th {\n",
       "        vertical-align: top;\n",
       "    }\n",
       "\n",
       "    .dataframe thead th {\n",
       "        text-align: right;\n",
       "    }\n",
       "</style>\n",
       "<table border=\"1\" class=\"dataframe\">\n",
       "  <thead>\n",
       "    <tr style=\"text-align: right;\">\n",
       "      <th></th>\n",
       "      <th>count</th>\n",
       "      <th>mean</th>\n",
       "      <th>std</th>\n",
       "      <th>min</th>\n",
       "      <th>25%</th>\n",
       "      <th>50%</th>\n",
       "      <th>75%</th>\n",
       "      <th>max</th>\n",
       "    </tr>\n",
       "    <tr>\n",
       "      <th>job_title</th>\n",
       "      <th></th>\n",
       "      <th></th>\n",
       "      <th></th>\n",
       "      <th></th>\n",
       "      <th></th>\n",
       "      <th></th>\n",
       "      <th></th>\n",
       "      <th></th>\n",
       "    </tr>\n",
       "  </thead>\n",
       "  <tbody>\n",
       "    <tr>\n",
       "      <th>Data Engineer</th>\n",
       "      <td>132.0</td>\n",
       "      <td>179210.55</td>\n",
       "      <td>443986.52</td>\n",
       "      <td>4000.0</td>\n",
       "      <td>65000.0</td>\n",
       "      <td>110000.0</td>\n",
       "      <td>160000.0</td>\n",
       "      <td>4450000.0</td>\n",
       "    </tr>\n",
       "    <tr>\n",
       "      <th>Data Scientist</th>\n",
       "      <td>143.0</td>\n",
       "      <td>508347.20</td>\n",
       "      <td>2712691.71</td>\n",
       "      <td>4000.0</td>\n",
       "      <td>74000.0</td>\n",
       "      <td>120160.0</td>\n",
       "      <td>165000.0</td>\n",
       "      <td>30400000.0</td>\n",
       "    </tr>\n",
       "  </tbody>\n",
       "</table>\n",
       "</div>"
      ],
      "text/plain": [
       "                count       mean         std     min      25%       50%  \\\n",
       "job_title                                                                 \n",
       "Data Engineer   132.0  179210.55   443986.52  4000.0  65000.0  110000.0   \n",
       "Data Scientist  143.0  508347.20  2712691.71  4000.0  74000.0  120160.0   \n",
       "\n",
       "                     75%         max  \n",
       "job_title                             \n",
       "Data Engineer   160000.0   4450000.0  \n",
       "Data Scientist  165000.0  30400000.0  "
      ]
     },
     "execution_count": 229,
     "metadata": {},
     "output_type": "execute_result"
    }
   ],
   "source": [
    "salary_science_eng1 = salary_science_eng.groupby('job_title')['salary'].describe().round(2)\n",
    "print('соотношение зарплат Data Scientist и Data Engineer в различных компаниях')\n",
    "salary_science_eng1"
   ]
  },
  {
   "cell_type": "code",
   "execution_count": 230,
   "metadata": {},
   "outputs": [
    {
     "data": {
      "image/png": "[encoded data removed]",
      "text/plain": [
       "<Figure size 640x480 with 2 Axes>"
      ]
     },
     "metadata": {},
     "output_type": "display_data"
    }
   ],
   "source": [
    "# Соотношение профессий и размера компаний\n",
    "cross_tab = pd.crosstab(index=salary_science_eng['job_title'], columns=data['company_size'])\n",
    "ax = sns.heatmap(cross_tab, annot=True, linewidth=.5, fmt='.0f', cmap=\"coolwarm\")\n",
    "ax.set(xlabel='job', ylabel='company_size')\n",
    "plt.title('Таблица сопряженности')\n",
    "plt.show()"
   ]
  },
  {
   "attachments": {},
   "cell_type": "markdown",
   "metadata": {},
   "source": [
    "Согласно данным наибольшее количество должностей в средних компаниях"
   ]
  },
  {
   "attachments": {},
   "cell_type": "markdown",
   "metadata": {},
   "source": [
    "  # Статистический анализ данных"
   ]
  },
  {
   "cell_type": "code",
   "execution_count": 158,
   "metadata": {},
   "outputs": [],
   "source": [
    "# функция для принятия решения о нормальности\n",
    "alpha = 0.05\n",
    "def decision_normality(p):\n",
    "    print('p-value = {:.3f}'.format(p))\n",
    "    if p <= alpha:\n",
    "        print('p-значение меньше, чем заданный уровень значимости {:.2f}. Распределение отлично от нормального'.format(alpha))\n",
    "    else:\n",
    "        print('p-значение больше, чем заданный уровень значимости {:.2f}. Распределение является нормальным'.format(alpha))\n",
    "\n",
    "\n",
    "# функция для принятия решения об отклонении нулевой гипотезы\n",
    "def decision_hypothesis(p):\n",
    "    print('p-value = {:.3f}'.format(p))\n",
    "    if p <= alpha:\n",
    "        print('p-значение меньше, чем заданный уровень значимости {:.2f}. Отвергаем нулевую гипотезу в пользу альтернативной.'.format(alpha))\n",
    "    else:\n",
    "        print('p-значение больше, чем заданный уровень значимости {:.2f}. У нас нет оснований отвергнуть нулевую гипотезу.'.format(alpha))"
   ]
  },
  {
   "attachments": {},
   "cell_type": "markdown",
   "metadata": {},
   "source": [
    "Наблюдается ли рост заработной платы у специалистов Data Scientist\n",
    "\n",
    "*Нулевая гипотеза* ($H_0$): медианный уровень заработных плат Data Scintist в 2022 году ($μ_1$) статистически равен медианный уровень заработных плат Data Scintist в 2021 году 951508.\n",
    "\n",
    "$$ H_0 : μ_1 = 951508$$\n",
    "\n",
    "*Альтернативная гипотеза* ($H_1$): медианный уровень заработных плат Data Scintist в 2022 году ($μ_1$) больше, медианный уровень заработных плат Data Scintist в 2021 году 951 508.\n",
    "\n",
    "$$ H_1 : μ_1 > 951508$$"
   ]
  },
  {
   "cell_type": "code",
   "execution_count": 287,
   "metadata": {},
   "outputs": [
    {
     "name": "stdout",
     "output_type": "stream",
     "text": [
      "salary_up21\n",
      "p-value = 0.000\n",
      "p-значение меньше, чем заданный уровень значимости 0.05. Распределение отлично от нормального\n",
      "salary_up21\n",
      "p-value = 0.000\n",
      "p-значение меньше, чем заданный уровень значимости 0.05. Распределение отлично от нормального\n"
     ]
    }
   ],
   "source": [
    "salary_up21 = data2.loc[data2['work_year']==2021, 'salary']\n",
    "print('salary_up21')\n",
    "result = stats.shapiro(salary_up21)\n",
    "decision_normality(result[1])\n",
    "\n",
    "salary_up22 = data2.loc[data2['work_year']==2022, 'salary']\n",
    "print('salary_up21')\n",
    "result = stats.shapiro(salary_up22)\n",
    "decision_normality(result[1])"
   ]
  },
  {
   "attachments": {},
   "cell_type": "markdown",
   "metadata": {},
   "source": [
    "Тип признака: количественный, 1 группа, группа независимая, признак распределен не нормально. \n",
    "Подходит тест Критерий знаков для одной группы."
   ]
  },
  {
   "cell_type": "code",
   "execution_count": 289,
   "metadata": {},
   "outputs": [
    {
     "name": "stdout",
     "output_type": "stream",
     "text": [
      "p-value = 0.000\n",
      "p-значение меньше, чем заданный уровень значимости 0.05. Отвергаем нулевую гипотезу.\n"
     ]
    }
   ],
   "source": [
    "_, p = sign_test(salary_up22, 951508)\n",
    "print('p-value = {:.3f}'.format(p))\n",
    "if p <= alpha:\n",
    "    print('p-значение меньше, чем заданный уровень значимости {:.2f}. Отвергаем нулевую гипотезу.'.format(alpha))\n",
    "else:\n",
    "    print('p-значение больше, чем заданный уровень значимости {:.2f}. У нас нет оснований отвергнуть нулевую гипотезу.'.format(alpha))"
   ]
  },
  {
   "attachments": {},
   "cell_type": "markdown",
   "metadata": {},
   "source": [
    "Вывод: отвергаем нулевую гипотезу, размер заработной платы отличается в 2022 году"
   ]
  },
  {
   "attachments": {},
   "cell_type": "markdown",
   "metadata": {},
   "source": [
    " Влияет ли опыт работы на заработную плату Data Scientist\n",
    " \n",
    "*Нулевая гипотеза*: размер заработных плат Data Scintist не зависит от опыта: EN ($μ_1$), MI ($μ_2$), SE ($μ_3$).\n",
    "\n",
    "$$ H_0 : μ_1 = μ_2 = μ_3$$\n",
    "\n",
    "*Альтернативная гипотеза*: размер заработных плат Data Scintist зависит от опыта: EN ($μ_1$), MI ($μ_2$), SE ($μ_3$)\n",
    "\n",
    "$$ H_1 : μ_1 \\neq μ_2 \\neq μ_3 \\neq μ_4$$"
   ]
  },
  {
   "cell_type": "code",
   "execution_count": 306,
   "metadata": {},
   "outputs": [
    {
     "name": "stdout",
     "output_type": "stream",
     "text": [
      "salary_level_EN\n",
      "p-value = 0.000\n",
      "p-значение меньше, чем заданный уровень значимости 0.05. Распределение отлично от нормального\n",
      "salary_level_MI\n",
      "p-value = 0.000\n",
      "p-значение меньше, чем заданный уровень значимости 0.05. Распределение отлично от нормального\n",
      "salary_level_SE\n",
      "p-value = 0.000\n",
      "p-значение меньше, чем заданный уровень значимости 0.05. Распределение отлично от нормального\n"
     ]
    }
   ],
   "source": [
    "#Влияет ли опыт работы на заработную плату Data Scientist \n",
    "salary_level_EN = data2.loc[data2['experience_level']=='EN', 'salary']\n",
    "print('salary_level_EN')\n",
    "result = stats.shapiro(salary_level_EN)\n",
    "decision_normality(result[1])\n",
    "\n",
    "salary_level_MI = data2.loc[data2['experience_level']=='MI', 'salary']\n",
    "print('salary_level_MI')\n",
    "result = stats.shapiro(salary_level_MI)\n",
    "decision_normality(result[1])\n",
    "\n",
    "salary_level_SE = data2.loc[data2['experience_level']=='SE', 'salary']\n",
    "print('salary_level_SE')\n",
    "result = stats.shapiro(salary_level_SE)\n",
    "decision_normality(result[1])\n",
    "\n",
    "\n",
    "#EN — Entry-level/Junior; MI — Mid-level/Intermediate; SE — Senior-level/Expert; EX — Executive-level/Director."
   ]
  },
  {
   "attachments": {},
   "cell_type": "markdown",
   "metadata": {},
   "source": [
    "Тип признака: количественный, 4 группы (но в одной группе нет данных), группы независимые, признак распределен не нормально. \n",
    "Подходит тест Краскера Уоллиса"
   ]
  },
  {
   "cell_type": "code",
   "execution_count": 283,
   "metadata": {},
   "outputs": [
    {
     "name": "stdout",
     "output_type": "stream",
     "text": [
      "p-value = 0.000\n",
      "p-значение меньше, чем заданный уровень значимости 0.05. Отвергаем нулевую гипотезу в пользу альтернативной.\n"
     ]
    }
   ],
   "source": [
    "_, p = stats.kruskal(salary_level_EN, salary_level_MI, salary_level_SE)\n",
    "decision_hypothesis(p)"
   ]
  },
  {
   "attachments": {},
   "cell_type": "markdown",
   "metadata": {},
   "source": [
    "Вывод: размер заработной платы зависит от опыта работы"
   ]
  },
  {
   "attachments": {},
   "cell_type": "markdown",
   "metadata": {},
   "source": [
    "Как соотносятся зарплаты Data Scientist и Data Engineer в разных компаниях\n",
    "\n",
    "\n",
    "*Нулевая гипотеза* ($H_0$): размер заработных плат Data Scintist ($μ_1$) статистически больше либо равен заработных плат Data Engineer ($μ_2$).\n",
    "\n",
    "$$ H_0 : μ_1 >= μ_2$$\n",
    "\n",
    "*Альтернативная гипотеза* ($H_1$): размер заработных плат Data Scintist ($μ_1$) статистически меньше заработных плат Data Engineer ($μ_2$).\n",
    "$$ H_1 : μ_1 < μ_2$$"
   ]
  },
  {
   "cell_type": "code",
   "execution_count": 231,
   "metadata": {},
   "outputs": [
    {
     "name": "stdout",
     "output_type": "stream",
     "text": [
      "salary_data_science\n",
      "p-value = 0.000\n",
      "p-значение меньше, чем заданный уровень значимости 0.05. Распределение отлично от нормального\n",
      "salary_data_engineer\n",
      "p-value = 0.000\n",
      "p-значение меньше, чем заданный уровень значимости 0.05. Распределение отлично от нормального\n"
     ]
    }
   ],
   "source": [
    "salary_data_science = data.loc[data['job_title']=='Data Scientist', 'salary']\n",
    "print('salary_data_science')\n",
    "result = stats.shapiro(salary_data_science)\n",
    "decision_normality(result[1])\n",
    "\n",
    "print('salary_data_engineer')\n",
    "salary_data_engineer = data.loc[data['job_title']=='Data Engineer', 'salary']\n",
    "result = stats.shapiro(salary_data_engineer)\n",
    "decision_normality(result[1])"
   ]
  },
  {
   "cell_type": "code",
   "execution_count": 291,
   "metadata": {},
   "outputs": [
    {
     "name": "stdout",
     "output_type": "stream",
     "text": [
      "p-value = 0.200\n",
      "p-значение больше, чем заданный уровень значимости 0.05. У нас нет оснований отвергнуть нулевую гипотезу.\n"
     ]
    }
   ],
   "source": [
    "#Тип признака: количественный, 2 группы, группы независимые, признак распределен не нормально. Подходит U-критерий Манна — Уитни\n",
    "\n",
    "_, p = stats.mannwhitneyu(salary_data_science, salary_data_engineer, alternative='greater')\n",
    "decision_hypothesis(p)"
   ]
  },
  {
   "attachments": {},
   "cell_type": "markdown",
   "metadata": {},
   "source": [
    "Вывод: уровень заработных плат Data Science выше"
   ]
  },
  {
   "attachments": {},
   "cell_type": "markdown",
   "metadata": {},
   "source": [
    " 4 Есть ли связь между наличием должностей Data Scientist и Data Engineer и размером компании?\n",
    "\n",
    "*Нулевая гипотеза*: между наличем должностей Data Scientist и Data Engineer и размером компании нет взаимосвязи.\n",
    "\n",
    "*Альтернативная гипотеза*: между наличем должностей Data Scientist и Data Engineer и размером компании есть взаимосвязь."
   ]
  },
  {
   "cell_type": "code",
   "execution_count": 255,
   "metadata": {},
   "outputs": [
    {
     "data": {
      "text/html": [
       "<div>\n",
       "<style scoped>\n",
       "    .dataframe tbody tr th:only-of-type {\n",
       "        vertical-align: middle;\n",
       "    }\n",
       "\n",
       "    .dataframe tbody tr th {\n",
       "        vertical-align: top;\n",
       "    }\n",
       "\n",
       "    .dataframe thead th {\n",
       "        text-align: right;\n",
       "    }\n",
       "</style>\n",
       "<table border=\"1\" class=\"dataframe\">\n",
       "  <thead>\n",
       "    <tr style=\"text-align: right;\">\n",
       "      <th>company_size</th>\n",
       "      <th>L</th>\n",
       "      <th>M</th>\n",
       "      <th>S</th>\n",
       "    </tr>\n",
       "    <tr>\n",
       "      <th>experience_level</th>\n",
       "      <th></th>\n",
       "      <th></th>\n",
       "      <th></th>\n",
       "    </tr>\n",
       "  </thead>\n",
       "  <tbody>\n",
       "    <tr>\n",
       "      <th>EN</th>\n",
       "      <td>10</td>\n",
       "      <td>15</td>\n",
       "      <td>9</td>\n",
       "    </tr>\n",
       "    <tr>\n",
       "      <th>EX</th>\n",
       "      <td>0</td>\n",
       "      <td>4</td>\n",
       "      <td>0</td>\n",
       "    </tr>\n",
       "    <tr>\n",
       "      <th>MI</th>\n",
       "      <td>44</td>\n",
       "      <td>56</td>\n",
       "      <td>13</td>\n",
       "    </tr>\n",
       "    <tr>\n",
       "      <th>SE</th>\n",
       "      <td>28</td>\n",
       "      <td>91</td>\n",
       "      <td>5</td>\n",
       "    </tr>\n",
       "  </tbody>\n",
       "</table>\n",
       "</div>"
      ],
      "text/plain": [
       "company_size       L   M   S\n",
       "experience_level            \n",
       "EN                10  15   9\n",
       "EX                 0   4   0\n",
       "MI                44  56  13\n",
       "SE                28  91   5"
      ]
     },
     "execution_count": 255,
     "metadata": {},
     "output_type": "execute_result"
    }
   ],
   "source": [
    "#Тип признака: категориальный, 2 группы, группы независимые, признак распределен не нормально. Тест хи-квадрат.\n",
    "\n",
    "cross_table = pd.crosstab(salary_science_eng['experience_level'], data['company_size'])\n",
    "cross_table"
   ]
  },
  {
   "cell_type": "code",
   "execution_count": 256,
   "metadata": {},
   "outputs": [
    {
     "name": "stdout",
     "output_type": "stream",
     "text": [
      "p-value = 0.000\n",
      "p-значение меньше, чем заданный уровень значимости 0.05. Отвергаем нулевую гипотезу в пользу альтернативной.\n"
     ]
    }
   ],
   "source": [
    "_, p, _, _ = stats.chi2_contingency(cross_table)\n",
    "decision_hypothesis(p)"
   ]
  },
  {
   "attachments": {},
   "cell_type": "markdown",
   "metadata": {},
   "source": [
    "Взаимосвязт между наличием должностей Data Scientist и Data Engineer и размером компании есть."
   ]
  },
  {
   "attachments": {},
   "cell_type": "markdown",
   "metadata": {},
   "source": [
    "## Итоговые результаты исследования\n",
    "\n",
    "В процессе анализа сделала следующие выводы.\n",
    "\n",
    "Рост заработных плат Data Scientist меняется, но в 2022 году не можем отвергать что вырос.\n",
    "  \n",
    "Факторы влияющие на уровень заработной платы у Data Science: \n",
    "* Размер компании (среди крупных компаний уровень зарплаты выше);\n",
    "* Опыт работы (самый востребованный это Mid Level;\n",
    "* *Тип трудоустройства (FN – самый высокооплачиваемый);\n",
    "* Объем работы, выполненный удаленно (предпочтительней на удаленке)\n",
    "* Увеличенный спрос специалистов из США, однако средние зарплаты выше в Индии (IN)\n",
    "Не зависит от расположения компании.\n",
    "\n",
    "Заработные платы Data Scientist выше зарплат Data Engineer, среди уровня это Mid. level.\n",
    "Cвязь между наличием должностей Data Scientist и Data Engineer и размером компании есть. Анализ показывает, что крупных компаниях заработная плата выше.\n"
   ]
  }
 ],
 "metadata": {
  "kernelspec": {
   "display_name": "Python 3",
   "language": "python",
   "name": "python3"
  },
  "language_info": {
   "codemirror_mode": {
    "name": "ipython",
    "version": 3
   },
   "file_extension": ".py",
   "mimetype": "text/x-python",
   "name": "python",
   "nbconvert_exporter": "python",
   "pygments_lexer": "ipython3",
   "version": "3.11.1"
  },
  "orig_nbformat": 4
 },
 "nbformat": 4,
 "nbformat_minor": 2
}
