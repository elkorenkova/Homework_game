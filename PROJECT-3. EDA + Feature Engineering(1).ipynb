{
 "cells": [
  {
   "cell_type": "code",
   "execution_count": 28,
   "metadata": {},
   "outputs": [],
   "source": [
    "import pandas as pd\n",
    "import numpy as np\n",
    "from sklearn.model_selection import train_test_split\n",
    "from sklearn.ensemble import RandomForestRegressor # инструмент для создания и обучения модели  \n",
    "from sklearn import metrics # инструменты для оценки точности модели  "
   ]
  },
  {
   "cell_type": "code",
   "execution_count": 76,
   "metadata": {},
   "outputs": [],
   "source": [
    "hotels = pd.read_csv('C:\\Temp\\Pythone/hotels.csv')"
   ]
  },
  {
   "cell_type": "code",
   "execution_count": 57,
   "metadata": {},
   "outputs": [
    {
     "data": {
      "text/html": [
       "<div>\n",
       "<style scoped>\n",
       "    .dataframe tbody tr th:only-of-type {\n",
       "        vertical-align: middle;\n",
       "    }\n",
       "\n",
       "    .dataframe tbody tr th {\n",
       "        vertical-align: top;\n",
       "    }\n",
       "\n",
       "    .dataframe thead th {\n",
       "        text-align: right;\n",
       "    }\n",
       "</style>\n",
       "<table border=\"1\" class=\"dataframe\">\n",
       "  <thead>\n",
       "    <tr style=\"text-align: right;\">\n",
       "      <th></th>\n",
       "      <th>hotel_address</th>\n",
       "      <th>additional_number_of_scoring</th>\n",
       "      <th>review_date</th>\n",
       "      <th>average_score</th>\n",
       "      <th>hotel_name</th>\n",
       "      <th>reviewer_nationality</th>\n",
       "      <th>negative_review</th>\n",
       "      <th>review_total_negative_word_counts</th>\n",
       "      <th>total_number_of_reviews</th>\n",
       "      <th>positive_review</th>\n",
       "      <th>review_total_positive_word_counts</th>\n",
       "      <th>total_number_of_reviews_reviewer_has_given</th>\n",
       "      <th>reviewer_score</th>\n",
       "      <th>tags</th>\n",
       "      <th>days_since_review</th>\n",
       "      <th>lat</th>\n",
       "      <th>lng</th>\n",
       "    </tr>\n",
       "  </thead>\n",
       "  <tbody>\n",
       "    <tr>\n",
       "      <th>0</th>\n",
       "      <td>Stratton Street Mayfair Westminster Borough Lo...</td>\n",
       "      <td>581</td>\n",
       "      <td>2/19/2016</td>\n",
       "      <td>8.4</td>\n",
       "      <td>The May Fair Hotel</td>\n",
       "      <td>United Kingdom</td>\n",
       "      <td>Leaving</td>\n",
       "      <td>3</td>\n",
       "      <td>1994</td>\n",
       "      <td>Staff were amazing</td>\n",
       "      <td>4</td>\n",
       "      <td>7</td>\n",
       "      <td>10.0</td>\n",
       "      <td>[' Leisure trip ', ' Couple ', ' Studio Suite ...</td>\n",
       "      <td>531 day</td>\n",
       "      <td>51.507894</td>\n",
       "      <td>-0.143671</td>\n",
       "    </tr>\n",
       "  </tbody>\n",
       "</table>\n",
       "</div>"
      ],
      "text/plain": [
       "                                       hotel_address  \\\n",
       "0  Stratton Street Mayfair Westminster Borough Lo...   \n",
       "\n",
       "   additional_number_of_scoring review_date  average_score  \\\n",
       "0                           581   2/19/2016            8.4   \n",
       "\n",
       "           hotel_name reviewer_nationality negative_review  \\\n",
       "0  The May Fair Hotel      United Kingdom         Leaving    \n",
       "\n",
       "   review_total_negative_word_counts  total_number_of_reviews  \\\n",
       "0                                  3                     1994   \n",
       "\n",
       "       positive_review  review_total_positive_word_counts  \\\n",
       "0   Staff were amazing                                  4   \n",
       "\n",
       "   total_number_of_reviews_reviewer_has_given  reviewer_score  \\\n",
       "0                                           7            10.0   \n",
       "\n",
       "                                                tags days_since_review  \\\n",
       "0  [' Leisure trip ', ' Couple ', ' Studio Suite ...           531 day   \n",
       "\n",
       "         lat       lng  \n",
       "0  51.507894 -0.143671  "
      ]
     },
     "execution_count": 57,
     "metadata": {},
     "output_type": "execute_result"
    }
   ],
   "source": [
    "hotels.head(1)"
   ]
  },
  {
   "cell_type": "code",
   "execution_count": 170,
   "metadata": {},
   "outputs": [
    {
     "name": "stdout",
     "output_type": "stream",
     "text": [
      "Число найденных дубликатов: 307\n",
      "Результирующее число записей: 386496\n"
     ]
    }
   ],
   "source": [
    "#проверим на дубликаты и удалим\n",
    "#dupl_columns = list(hotels.columns)\n",
    "\n",
    "#mask = hotels.duplicated(subset=dupl_columns)\n",
    "#hotels_duplicates = hotels[mask]\n",
    "#print(f'Число найденных дубликатов: {hotels_duplicates.shape[0]}')\n",
    "\n",
    "#hotels = hotels.drop_duplicates(subset=dupl_columns)\n",
    "#print(f'Результирующее число записей: {hotels.shape[0]}')"
   ]
  },
  {
   "cell_type": "code",
   "execution_count": 77,
   "metadata": {},
   "outputs": [
    {
     "name": "stderr",
     "output_type": "stream",
     "text": [
      "C:\\Users\\e.korenkova\\AppData\\Local\\Temp\\ipykernel_20244\\812289078.py:1: FutureWarning: The default value of numeric_only in DataFrame.median is deprecated. In a future version, it will default to False. In addition, specifying 'numeric_only=None' is deprecated. Select only valid columns or specify the value of numeric_only to silence this warning.\n",
      "  hotels = hotels.fillna(hotels.median())\n"
     ]
    },
    {
     "name": "stdout",
     "output_type": "stream",
     "text": [
      "<class 'pandas.core.frame.DataFrame'>\n",
      "RangeIndex: 386803 entries, 0 to 386802\n",
      "Data columns (total 17 columns):\n",
      " #   Column                                      Non-Null Count   Dtype  \n",
      "---  ------                                      --------------   -----  \n",
      " 0   hotel_address                               386803 non-null  object \n",
      " 1   additional_number_of_scoring                386803 non-null  int64  \n",
      " 2   review_date                                 386803 non-null  object \n",
      " 3   average_score                               386803 non-null  float64\n",
      " 4   hotel_name                                  386803 non-null  object \n",
      " 5   reviewer_nationality                        386803 non-null  object \n",
      " 6   negative_review                             386803 non-null  object \n",
      " 7   review_total_negative_word_counts           386803 non-null  int64  \n",
      " 8   total_number_of_reviews                     386803 non-null  int64  \n",
      " 9   positive_review                             386803 non-null  object \n",
      " 10  review_total_positive_word_counts           386803 non-null  int64  \n",
      " 11  total_number_of_reviews_reviewer_has_given  386803 non-null  int64  \n",
      " 12  reviewer_score                              386803 non-null  float64\n",
      " 13  tags                                        386803 non-null  object \n",
      " 14  days_since_review                           386803 non-null  object \n",
      " 15  lat                                         386803 non-null  float64\n",
      " 16  lng                                         386803 non-null  float64\n",
      "dtypes: float64(4), int64(5), object(8)\n",
      "memory usage: 50.2+ MB\n"
     ]
    }
   ],
   "source": [
    "hotels = hotels.fillna(hotels.median())\n",
    "hotels.info()"
   ]
  },
  {
   "attachments": {},
   "cell_type": "markdown",
   "metadata": {},
   "source": [
    " 1. Создание новых признаков\n",
    "   \n",
    "* 1.1 кол-во дней прибывания в отеле 'nights' из 'tags'\n",
    "* 1.2 уникальными отзывами 'unique_reviews' из 'tags'\n",
    "* 1.3 страна отеля 'country_hotel' из 'hotel_address'"
   ]
  },
  {
   "cell_type": "code",
   "execution_count": 78,
   "metadata": {},
   "outputs": [],
   "source": [
    "# 1.1  кол-во дней прибывания в отеле\n",
    "regex = '\\d{1}' # регулярное выражение для нахождения чисел\n",
    "\n",
    "hotels['nights'] = hotels['tags'].str.findall(regex).str.get(0)\n",
    "#hotels1= pd.concat([hotels, hotels['nights']], axis=1)\n",
    "#hotels['nights']=hotels['nights'].astype(str).astype(float)\n",
    "#hotels.fillna(hotels.median(), inplace=True)"
   ]
  },
  {
   "cell_type": "code",
   "execution_count": 79,
   "metadata": {},
   "outputs": [
    {
     "data": {
      "text/plain": [
       "Leisure      312768\n",
       "Business      61846\n",
       "Couple         4346\n",
       "Solo           3216\n",
       "Family         2349\n",
       "Group          1188\n",
       "With           1045\n",
       "Travelers        45\n",
       "Name: unique_reviews, dtype: int64"
      ]
     },
     "execution_count": 79,
     "metadata": {},
     "output_type": "execute_result"
    }
   ],
   "source": [
    "# 1.2. создадим колонку с уникальными отзывами\n",
    "hotels['unique_reviews'] = hotels['tags'].str.rstrip().str.split( ).str[1] \n",
    "hotels['unique_reviews'].value_counts()"
   ]
  },
  {
   "cell_type": "code",
   "execution_count": 80,
   "metadata": {},
   "outputs": [],
   "source": [
    "# 1.3. Создадим признак Страна отеля\n",
    "hotels['country_hotel'] = hotels['hotel_address'].str.extract(r'(\\w+)$') # колока Страны"
   ]
  },
  {
   "cell_type": "code",
   "execution_count": 62,
   "metadata": {},
   "outputs": [
    {
     "data": {
      "text/html": [
       "<div>\n",
       "<style scoped>\n",
       "    .dataframe tbody tr th:only-of-type {\n",
       "        vertical-align: middle;\n",
       "    }\n",
       "\n",
       "    .dataframe tbody tr th {\n",
       "        vertical-align: top;\n",
       "    }\n",
       "\n",
       "    .dataframe thead th {\n",
       "        text-align: right;\n",
       "    }\n",
       "</style>\n",
       "<table border=\"1\" class=\"dataframe\">\n",
       "  <thead>\n",
       "    <tr style=\"text-align: right;\">\n",
       "      <th></th>\n",
       "      <th>hotel_address</th>\n",
       "      <th>additional_number_of_scoring</th>\n",
       "      <th>review_date</th>\n",
       "      <th>average_score</th>\n",
       "      <th>hotel_name</th>\n",
       "      <th>reviewer_nationality</th>\n",
       "      <th>negative_review</th>\n",
       "      <th>review_total_negative_word_counts</th>\n",
       "      <th>total_number_of_reviews</th>\n",
       "      <th>positive_review</th>\n",
       "      <th>review_total_positive_word_counts</th>\n",
       "      <th>total_number_of_reviews_reviewer_has_given</th>\n",
       "      <th>reviewer_score</th>\n",
       "      <th>tags</th>\n",
       "      <th>days_since_review</th>\n",
       "      <th>lat</th>\n",
       "      <th>lng</th>\n",
       "      <th>nights</th>\n",
       "      <th>unique_reviews</th>\n",
       "      <th>country_hotel</th>\n",
       "    </tr>\n",
       "  </thead>\n",
       "  <tbody>\n",
       "    <tr>\n",
       "      <th>0</th>\n",
       "      <td>Stratton Street Mayfair Westminster Borough Lo...</td>\n",
       "      <td>581</td>\n",
       "      <td>2/19/2016</td>\n",
       "      <td>8.4</td>\n",
       "      <td>The May Fair Hotel</td>\n",
       "      <td>United Kingdom</td>\n",
       "      <td>Leaving</td>\n",
       "      <td>3</td>\n",
       "      <td>1994</td>\n",
       "      <td>Staff were amazing</td>\n",
       "      <td>4</td>\n",
       "      <td>7</td>\n",
       "      <td>10.0</td>\n",
       "      <td>[' Leisure trip ', ' Couple ', ' Studio Suite ...</td>\n",
       "      <td>531 day</td>\n",
       "      <td>51.507894</td>\n",
       "      <td>-0.143671</td>\n",
       "      <td>2</td>\n",
       "      <td>Leisure</td>\n",
       "      <td>Kingdom</td>\n",
       "    </tr>\n",
       "  </tbody>\n",
       "</table>\n",
       "</div>"
      ],
      "text/plain": [
       "                                       hotel_address  \\\n",
       "0  Stratton Street Mayfair Westminster Borough Lo...   \n",
       "\n",
       "   additional_number_of_scoring review_date  average_score  \\\n",
       "0                           581   2/19/2016            8.4   \n",
       "\n",
       "           hotel_name reviewer_nationality negative_review  \\\n",
       "0  The May Fair Hotel      United Kingdom         Leaving    \n",
       "\n",
       "   review_total_negative_word_counts  total_number_of_reviews  \\\n",
       "0                                  3                     1994   \n",
       "\n",
       "       positive_review  review_total_positive_word_counts  \\\n",
       "0   Staff were amazing                                  4   \n",
       "\n",
       "   total_number_of_reviews_reviewer_has_given  reviewer_score  \\\n",
       "0                                           7            10.0   \n",
       "\n",
       "                                                tags days_since_review  \\\n",
       "0  [' Leisure trip ', ' Couple ', ' Studio Suite ...           531 day   \n",
       "\n",
       "         lat       lng nights unique_reviews country_hotel  \n",
       "0  51.507894 -0.143671      2        Leisure       Kingdom  "
      ]
     },
     "execution_count": 62,
     "metadata": {},
     "output_type": "execute_result"
    }
   ],
   "source": [
    "hotels.head(1)"
   ]
  },
  {
   "cell_type": "code",
   "execution_count": 84,
   "metadata": {},
   "outputs": [],
   "source": [
    "#hotels.fillna(hotels.median()[0], inplace=True)"
   ]
  },
  {
   "attachments": {},
   "cell_type": "markdown",
   "metadata": {},
   "source": [
    " 2. Создание категориальных признаков\n",
    "\n",
    "* 2.1 для 'unique_reviews', <15 используем  OneHotEncoder\n",
    "* 2.2 для 'country_hotel', <15 используем  OneHotEncoder\n",
    "* 2.3 для 'reviewer_nationality'> 15, используем BinaryEncoder\n",
    "* 2.4 для переводим признак из формата object в int64"
   ]
  },
  {
   "cell_type": "code",
   "execution_count": 81,
   "metadata": {},
   "outputs": [],
   "source": [
    "# 2.1 создание категориального признака для 'unique_reviews'\n",
    "import category_encoders as ce # импорт для работы с кодировщиком\n",
    "\n",
    "encoder = ce.OneHotEncoder(cols=['unique_reviews'], use_cat_names=True) # указываем столбец для кодирования\n",
    "type_bin = encoder.fit_transform(hotels['unique_reviews'])\n",
    "hotels = pd.concat([hotels, type_bin], axis=1)"
   ]
  },
  {
   "cell_type": "code",
   "execution_count": 82,
   "metadata": {},
   "outputs": [],
   "source": [
    "# 2.2 создание категориального признака для 'country_hotels'\n",
    "import category_encoders as ce # импорт для работы с кодировщиком\n",
    "\n",
    "encoder = ce.OneHotEncoder(cols=['country_hotel'], use_cat_names=True) # указываем столбец для кодирования\n",
    "type_bin1 = encoder.fit_transform(hotels['country_hotel'])\n",
    "hotels = pd.concat([hotels, type_bin1], axis=1)"
   ]
  },
  {
   "cell_type": "code",
   "execution_count": 83,
   "metadata": {},
   "outputs": [
    {
     "data": {
      "text/plain": [
       "225"
      ]
     },
     "execution_count": 83,
     "metadata": {},
     "output_type": "execute_result"
    }
   ],
   "source": [
    "hotels['reviewer_nationality'].nunique()"
   ]
  },
  {
   "cell_type": "code",
   "execution_count": 84,
   "metadata": {},
   "outputs": [],
   "source": [
    "# 2.3 создание категориального признака для 'reviewer_nationality'\n",
    "import category_encoders as ce # импорт для работы с кодировщиком\n",
    "bin_encoder = ce.BinaryEncoder(cols=['reviewer_nationality']) # указываем столбец для кодирования\n",
    "type_bin2 = bin_encoder.fit_transform(hotels['reviewer_nationality'])\n",
    "hotels = pd.concat([hotels, type_bin2], axis=1)"
   ]
  },
  {
   "cell_type": "code",
   "execution_count": 85,
   "metadata": {},
   "outputs": [],
   "source": [
    "# 2.4 для переводим признак из формата object в int64\n",
    "hotels['nights'] = pd.to_numeric(hotels['nights'], errors=\"coerce\").fillna(0).astype('int64')"
   ]
  },
  {
   "cell_type": "code",
   "execution_count": 86,
   "metadata": {},
   "outputs": [
    {
     "name": "stdout",
     "output_type": "stream",
     "text": [
      "<class 'pandas.core.frame.DataFrame'>\n",
      "RangeIndex: 386803 entries, 0 to 386802\n",
      "Data columns (total 42 columns):\n",
      " #   Column                                      Non-Null Count   Dtype  \n",
      "---  ------                                      --------------   -----  \n",
      " 0   hotel_address                               386803 non-null  object \n",
      " 1   additional_number_of_scoring                386803 non-null  int64  \n",
      " 2   review_date                                 386803 non-null  object \n",
      " 3   average_score                               386803 non-null  float64\n",
      " 4   hotel_name                                  386803 non-null  object \n",
      " 5   reviewer_nationality                        386803 non-null  object \n",
      " 6   negative_review                             386803 non-null  object \n",
      " 7   review_total_negative_word_counts           386803 non-null  int64  \n",
      " 8   total_number_of_reviews                     386803 non-null  int64  \n",
      " 9   positive_review                             386803 non-null  object \n",
      " 10  review_total_positive_word_counts           386803 non-null  int64  \n",
      " 11  total_number_of_reviews_reviewer_has_given  386803 non-null  int64  \n",
      " 12  reviewer_score                              386803 non-null  float64\n",
      " 13  tags                                        386803 non-null  object \n",
      " 14  days_since_review                           386803 non-null  object \n",
      " 15  lat                                         386803 non-null  float64\n",
      " 16  lng                                         386803 non-null  float64\n",
      " 17  nights                                      386803 non-null  int64  \n",
      " 18  unique_reviews                              386803 non-null  object \n",
      " 19  country_hotel                               386803 non-null  object \n",
      " 20  unique_reviews_Leisure                      386803 non-null  int64  \n",
      " 21  unique_reviews_Business                     386803 non-null  int64  \n",
      " 22  unique_reviews_Family                       386803 non-null  int64  \n",
      " 23  unique_reviews_Solo                         386803 non-null  int64  \n",
      " 24  unique_reviews_Couple                       386803 non-null  int64  \n",
      " 25  unique_reviews_Group                        386803 non-null  int64  \n",
      " 26  unique_reviews_With                         386803 non-null  int64  \n",
      " 27  unique_reviews_Travelers                    386803 non-null  int64  \n",
      " 28  country_hotel_Kingdom                       386803 non-null  int64  \n",
      " 29  country_hotel_France                        386803 non-null  int64  \n",
      " 30  country_hotel_Netherlands                   386803 non-null  int64  \n",
      " 31  country_hotel_Italy                         386803 non-null  int64  \n",
      " 32  country_hotel_Austria                       386803 non-null  int64  \n",
      " 33  country_hotel_Spain                         386803 non-null  int64  \n",
      " 34  reviewer_nationality_0                      386803 non-null  int64  \n",
      " 35  reviewer_nationality_1                      386803 non-null  int64  \n",
      " 36  reviewer_nationality_2                      386803 non-null  int64  \n",
      " 37  reviewer_nationality_3                      386803 non-null  int64  \n",
      " 38  reviewer_nationality_4                      386803 non-null  int64  \n",
      " 39  reviewer_nationality_5                      386803 non-null  int64  \n",
      " 40  reviewer_nationality_6                      386803 non-null  int64  \n",
      " 41  reviewer_nationality_7                      386803 non-null  int64  \n",
      "dtypes: float64(4), int64(28), object(10)\n",
      "memory usage: 123.9+ MB\n"
     ]
    }
   ],
   "source": [
    "hotels.info()"
   ]
  },
  {
   "cell_type": "code",
   "execution_count": 184,
   "metadata": {},
   "outputs": [
    {
     "name": "stderr",
     "output_type": "stream",
     "text": [
      "C:\\Users\\e.korenkova\\AppData\\Local\\Temp\\ipykernel_15320\\1513495013.py:1: FutureWarning: The default value of numeric_only in DataFrame.median is deprecated. In a future version, it will default to False. In addition, specifying 'numeric_only=None' is deprecated. Select only valid columns or specify the value of numeric_only to silence this warning.\n",
      "  hotels.fillna(hotels.median()[0], inplace=True)\n"
     ]
    }
   ],
   "source": [
    "#hotels.fillna(hotels.median()[0], inplace=True)"
   ]
  },
  {
   "cell_type": "code",
   "execution_count": 27,
   "metadata": {},
   "outputs": [
    {
     "data": {
      "text/plain": [
       "count    386803.000000\n",
       "mean          2.805532\n",
       "std           4.570019\n",
       "min          -0.369758\n",
       "25%          -0.143372\n",
       "50%          -0.000250\n",
       "75%           4.831098\n",
       "max          16.429233\n",
       "Name: lng, dtype: float64"
      ]
     },
     "execution_count": 27,
     "metadata": {},
     "output_type": "execute_result"
    }
   ],
   "source": [
    "# отрицательные значения\n",
    "hotels['lng'].describe()"
   ]
  },
  {
   "cell_type": "code",
   "execution_count": 87,
   "metadata": {},
   "outputs": [],
   "source": [
    "\n",
    "#переведем в положительные значения для тестирования\n",
    "minimum = hotels['lng'].min(numeric_only=True).min()\n",
    "\n",
    "# Subtract that minimum value from all values \n",
    "# in the data frame\n",
    "hotels['lng'] = hotels['lng'].transform(lambda x: x - minimum)"
   ]
  },
  {
   "cell_type": "code",
   "execution_count": 88,
   "metadata": {},
   "outputs": [
    {
     "data": {
      "text/plain": [
       "count    386803.000000\n",
       "mean          3.175290\n",
       "std           4.570019\n",
       "min           0.000000\n",
       "25%           0.226386\n",
       "50%           0.369508\n",
       "75%           5.200857\n",
       "max          16.798991\n",
       "Name: lng, dtype: float64"
      ]
     },
     "execution_count": 88,
     "metadata": {},
     "output_type": "execute_result"
    }
   ],
   "source": [
    "hotels['lng'].describe()"
   ]
  },
  {
   "attachments": {},
   "cell_type": "markdown",
   "metadata": {},
   "source": [
    "#  3. Нормализация признаков\n"
   ]
  },
  {
   "cell_type": "code",
   "execution_count": null,
   "metadata": {},
   "outputs": [],
   "source": []
  },
  {
   "attachments": {},
   "cell_type": "markdown",
   "metadata": {},
   "source": [
    "# 4. Подбор признаков для модели"
   ]
  },
  {
   "cell_type": "code",
   "execution_count": 89,
   "metadata": {},
   "outputs": [],
   "source": [
    "# Разбиваем датафрейм на части, необходимые для обучения и тестирования модели  \n",
    "# Х - данные с информацией об отелях, у - целевая переменная (рейтинги отелей)  \n",
    "X = hotels.drop(['reviewer_score'], axis = 1)  \n",
    "y = hotels['reviewer_score'] "
   ]
  },
  {
   "cell_type": "code",
   "execution_count": 90,
   "metadata": {},
   "outputs": [],
   "source": [
    "num_cols = [ 'nights','review_total_negative_word_counts','review_total_positive_word_counts','total_number_of_reviews_reviewer_has_given']\n",
    "\n",
    "# категориальные признаки\n",
    "cat_cols = ['additional_number_of_scoring', 'average_score', 'total_number_of_reviews', 'lat', 'lng', 'unique_reviews_Leisure', 'unique_reviews_Business', \n",
    "            'unique_reviews_Family', 'unique_reviews_Solo', 'unique_reviews_Couple', 'unique_reviews_With', 'unique_reviews_Group', 'unique_reviews_Travelers',\n",
    "            'country_hotel_Kingdom', 'country_hotel_France', 'country_hotel_Netherlands', 'country_hotel_Italy', 'country_hotel_Austria', \n",
    "            'country_hotel_Spain', 'reviewer_nationality_0', 'reviewer_nationality_1', 'reviewer_nationality_2', 'reviewer_nationality_3', \n",
    "            'reviewer_nationality_4', 'reviewer_nationality_5', 'reviewer_nationality_6', 'reviewer_nationality_7']\n",
    "#cat_cols = ['average_score', 'lat', 'lng']"
   ]
  },
  {
   "cell_type": "code",
   "execution_count": 91,
   "metadata": {},
   "outputs": [
    {
     "data": {
      "text/plain": [
       "<AxesSubplot: >"
      ]
     },
     "execution_count": 91,
     "metadata": {},
     "output_type": "execute_result"
    },
    {
     "data": {
      "image/png": "[encoded data removed]",
      "text/plain": [
       "<Figure size 640x480 with 1 Axes>"
      ]
     },
     "metadata": {},
     "output_type": "display_data"
    }
   ],
   "source": [
    "y=y.astype('int')\n",
    "\n",
    "...\n",
    "from sklearn.feature_selection import chi2 # хи-квадрат\n",
    "\n",
    "imp_cat = pd.Series(chi2(X[cat_cols], y)[0], index=cat_cols)\n",
    "imp_cat.sort_values(inplace = True)\n",
    "imp_cat.plot(kind = 'barh')"
   ]
  },
  {
   "cell_type": "code",
   "execution_count": 194,
   "metadata": {},
   "outputs": [
    {
     "name": "stdout",
     "output_type": "stream",
     "text": [
      "<class 'pandas.core.frame.DataFrame'>\n",
      "Int64Index: 386496 entries, 0 to 386802\n",
      "Data columns (total 29 columns):\n",
      " #   Column                                      Non-Null Count   Dtype  \n",
      "---  ------                                      --------------   -----  \n",
      " 0   hotel_address                               386496 non-null  object \n",
      " 1   additional_number_of_scoring                386496 non-null  int64  \n",
      " 2   review_date                                 386496 non-null  object \n",
      " 3   average_score                               386496 non-null  float64\n",
      " 4   hotel_name                                  386496 non-null  object \n",
      " 5   reviewer_nationality                        386496 non-null  object \n",
      " 6   negative_review                             386496 non-null  object \n",
      " 7   review_total_negative_word_counts           386496 non-null  int64  \n",
      " 8   total_number_of_reviews                     386496 non-null  int64  \n",
      " 9   positive_review                             386496 non-null  object \n",
      " 10  review_total_positive_word_counts           386496 non-null  int64  \n",
      " 11  total_number_of_reviews_reviewer_has_given  386496 non-null  int64  \n",
      " 12  reviewer_score                              386496 non-null  float64\n",
      " 13  tags                                        386496 non-null  object \n",
      " 14  days_since_review                           386496 non-null  object \n",
      " 15  lat                                         386496 non-null  float64\n",
      " 16  lng                                         386496 non-null  float64\n",
      " 17  nights                                      386496 non-null  int64  \n",
      " 18  bad                                         386496 non-null  int64  \n",
      " 19  country                                     386496 non-null  int64  \n",
      " 20  days                                        386496 non-null  int64  \n",
      " 21  reviewer_nationality_0                      386496 non-null  int64  \n",
      " 22  reviewer_nationality_1                      386496 non-null  int64  \n",
      " 23  reviewer_nationality_2                      386496 non-null  int64  \n",
      " 24  reviewer_nationality_3                      386496 non-null  int64  \n",
      " 25  reviewer_nationality_4                      386496 non-null  int64  \n",
      " 26  reviewer_nationality_5                      386496 non-null  int64  \n",
      " 27  reviewer_nationality_6                      386496 non-null  int64  \n",
      " 28  reviewer_nationality_7                      386496 non-null  int64  \n",
      "dtypes: float64(4), int64(17), object(8)\n",
      "memory usage: 88.5+ MB\n"
     ]
    }
   ],
   "source": [
    "# удалим последних три признака\n",
    "hotels.drop(['reviewer_nationality_0','reviewer_nationality_5', 'reviewer_nationality_7'], axis = 1)\n",
    "hotels.info()"
   ]
  },
  {
   "cell_type": "code",
   "execution_count": null,
   "metadata": {},
   "outputs": [],
   "source": [
    "cat_cols = ['average_score', 'lat','nights', 'lng','country', 'reviewer_nationality_1', 'reviewer_nationality_2','reviewer_nationality_3','reviewer_nationality_4']\n",
    "y=y.astype('int')\n",
    "\n",
    "...\n",
    "from sklearn.feature_selection import chi2 # хи-квадрат\n",
    "\n",
    "imp_cat = pd.Series(chi2(X[cat_cols], y)[0], index=cat_cols)\n",
    "imp_cat.sort_values(inplace = True)\n",
    "imp_cat.plot(kind = 'barh')"
   ]
  },
  {
   "cell_type": "code",
   "execution_count": 93,
   "metadata": {},
   "outputs": [
    {
     "data": {
      "text/plain": [
       "<AxesSubplot: >"
      ]
     },
     "execution_count": 93,
     "metadata": {},
     "output_type": "execute_result"
    },
    {
     "data": {
      "image/png": "[encoded data removed]",
      "text/plain": [
       "<Figure size 640x480 with 1 Axes>"
      ]
     },
     "metadata": {},
     "output_type": "display_data"
    }
   ],
   "source": [
    "from sklearn.feature_selection import f_classif # anova\n",
    "\n",
    "imp_num = pd.Series(f_classif(X[num_cols], y)[0], index = num_cols)\n",
    "imp_num.sort_values(inplace = True)\n",
    "imp_num.plot(kind = 'barh')"
   ]
  },
  {
   "cell_type": "code",
   "execution_count": 99,
   "metadata": {},
   "outputs": [],
   "source": [
    "# удалим все признаки object\n",
    "object_columns = [s for s in hotels.columns if hotels[s].dtypes == 'object']\n",
    "hotels.drop(object_columns, axis = 1, inplace=True)\n",
    "hotels = hotels.fillna(hotels.median())"
   ]
  },
  {
   "cell_type": "code",
   "execution_count": 100,
   "metadata": {},
   "outputs": [
    {
     "name": "stdout",
     "output_type": "stream",
     "text": [
      "<class 'pandas.core.frame.DataFrame'>\n",
      "RangeIndex: 386803 entries, 0 to 386802\n",
      "Data columns (total 32 columns):\n",
      " #   Column                                      Non-Null Count   Dtype  \n",
      "---  ------                                      --------------   -----  \n",
      " 0   additional_number_of_scoring                386803 non-null  int64  \n",
      " 1   average_score                               386803 non-null  float64\n",
      " 2   review_total_negative_word_counts           386803 non-null  int64  \n",
      " 3   total_number_of_reviews                     386803 non-null  int64  \n",
      " 4   review_total_positive_word_counts           386803 non-null  int64  \n",
      " 5   total_number_of_reviews_reviewer_has_given  386803 non-null  int64  \n",
      " 6   reviewer_score                              386803 non-null  float64\n",
      " 7   lat                                         386803 non-null  float64\n",
      " 8   lng                                         386803 non-null  float64\n",
      " 9   nights                                      386803 non-null  int64  \n",
      " 10  unique_reviews_Leisure                      386803 non-null  int64  \n",
      " 11  unique_reviews_Business                     386803 non-null  int64  \n",
      " 12  unique_reviews_Family                       386803 non-null  int64  \n",
      " 13  unique_reviews_Solo                         386803 non-null  int64  \n",
      " 14  unique_reviews_Couple                       386803 non-null  int64  \n",
      " 15  unique_reviews_Group                        386803 non-null  int64  \n",
      " 16  unique_reviews_With                         386803 non-null  int64  \n",
      " 17  unique_reviews_Travelers                    386803 non-null  int64  \n",
      " 18  country_hotel_Kingdom                       386803 non-null  int64  \n",
      " 19  country_hotel_France                        386803 non-null  int64  \n",
      " 20  country_hotel_Netherlands                   386803 non-null  int64  \n",
      " 21  country_hotel_Italy                         386803 non-null  int64  \n",
      " 22  country_hotel_Austria                       386803 non-null  int64  \n",
      " 23  country_hotel_Spain                         386803 non-null  int64  \n",
      " 24  reviewer_nationality_0                      386803 non-null  int64  \n",
      " 25  reviewer_nationality_1                      386803 non-null  int64  \n",
      " 26  reviewer_nationality_2                      386803 non-null  int64  \n",
      " 27  reviewer_nationality_3                      386803 non-null  int64  \n",
      " 28  reviewer_nationality_4                      386803 non-null  int64  \n",
      " 29  reviewer_nationality_5                      386803 non-null  int64  \n",
      " 30  reviewer_nationality_6                      386803 non-null  int64  \n",
      " 31  reviewer_nationality_7                      386803 non-null  int64  \n",
      "dtypes: float64(4), int64(28)\n",
      "memory usage: 94.4 MB\n"
     ]
    }
   ],
   "source": [
    "hotels.info()"
   ]
  },
  {
   "attachments": {},
   "cell_type": "markdown",
   "metadata": {},
   "source": [
    "# 5. Тестирование модели"
   ]
  },
  {
   "cell_type": "code",
   "execution_count": 101,
   "metadata": {},
   "outputs": [],
   "source": [
    "# Разбиваем датафрейм на части, необходимые для обучения и тестирования модели  \n",
    "# Х - данные с информацией об отелях, у - целевая переменная (рейтинги отелей)  \n",
    "X = hotels.drop(['reviewer_score'], axis = 1)  \n",
    "y = hotels['reviewer_score'] "
   ]
  },
  {
   "cell_type": "code",
   "execution_count": 102,
   "metadata": {},
   "outputs": [],
   "source": [
    "# Загружаем специальный инструмент для разбивки:  \n",
    "from sklearn.model_selection import train_test_split  "
   ]
  },
  {
   "cell_type": "code",
   "execution_count": 103,
   "metadata": {},
   "outputs": [],
   "source": [
    "# Наборы данных с меткой \"train\" будут использоваться для обучения модели, \"test\" - для тестирования.  \n",
    "# Для тестирования мы будем использовать 25% от исходного датасета.  \n",
    "X_train, X_test, y_train, y_test = train_test_split(X, y, test_size=0.25, random_state=42)"
   ]
  },
  {
   "cell_type": "code",
   "execution_count": 104,
   "metadata": {},
   "outputs": [],
   "source": [
    "# Импортируем необходимые библиотеки:  \n",
    "from sklearn.ensemble import RandomForestRegressor # инструмент для создания и обучения модели  \n",
    "from sklearn import metrics # инструменты для оценки точности модели  \n",
    "  \n",
    "# Создаём модель  \n",
    "regr = RandomForestRegressor(n_estimators=100)  \n",
    "      \n",
    "# Обучаем модель на тестовом наборе данных  \n",
    "regr.fit(X_train, y_train)  \n",
    "      \n",
    "# Используем обученную модель для предсказания рейтинга отелей в тестовой выборке.  \n",
    "# Предсказанные значения записываем в переменную y_pred  \n",
    "y_pred = regr.predict(X_test)  \n"
   ]
  },
  {
   "cell_type": "code",
   "execution_count": 105,
   "metadata": {},
   "outputs": [
    {
     "name": "stdout",
     "output_type": "stream",
     "text": [
      "MAPE: 0.13744640775741515\n"
     ]
    }
   ],
   "source": [
    "# Сравниваем предсказанные значения (y_pred) с реальными (y_test), и смотрим насколько они отличаются  \n",
    "# Метрика называется Mean Absolute Percentage Error (MAPE) и показывает среднюю абсолютную процентную ошибку предсказанных значений от фактических.  \n",
    "print('MAPE:', metrics.mean_absolute_percentage_error(y_test, y_pred))"
   ]
  },
  {
   "attachments": {},
   "cell_type": "markdown",
   "metadata": {},
   "source": [
    "MAPE: 0.13744640775741515"
   ]
  }
 ],
 "metadata": {
  "kernelspec": {
   "display_name": "Python 3",
   "language": "python",
   "name": "python3"
  },
  "language_info": {
   "codemirror_mode": {
    "name": "ipython",
    "version": 3
   },
   "file_extension": ".py",
   "mimetype": "text/x-python",
   "name": "python",
   "nbconvert_exporter": "python",
   "pygments_lexer": "ipython3",
   "version": "3.11.1"
  },
  "orig_nbformat": 4
 },
 "nbformat": 4,
 "nbformat_minor": 2
}
